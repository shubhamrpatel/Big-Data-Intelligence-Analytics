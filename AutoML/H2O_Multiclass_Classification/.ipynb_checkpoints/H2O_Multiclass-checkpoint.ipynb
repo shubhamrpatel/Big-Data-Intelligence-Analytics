{
 "cells": [
  {
   "cell_type": "markdown",
   "metadata": {},
   "source": [
    "## Attribute Info.\n",
    "1) S1 \"Suit of card #1\" Ordinal (1-4) representing {Hearts, Spades, Diamonds, Clubs}\n",
    "\n",
    "2) C1 \"Rank of card #1\" Numerical (1-13) representing (Ace, 2, 3, ... , Queen, King)\n",
    "\n",
    "3) S2 \"Suit of card #2\" Ordinal (1-4) representing {Hearts, Spades, Diamonds, Clubs}\n",
    "\n",
    "4) C2 \"Rank of card #2\" Numerical (1-13) representing (Ace, 2, 3, ... , Queen, King)\n",
    "\n",
    "5) S3 \"Suit of card #3\" Ordinal (1-4) representing {Hearts, Spades, Diamonds, Clubs}\n",
    "\n",
    "6) C3 \"Rank of card #3\" Numerical (1-13) representing (Ace, 2, 3, ... , Queen, King)\n",
    "\n",
    "7) S4 \"Suit of card #4\" Ordinal (1-4) representing {Hearts, Spades, Diamonds, Clubs}\n",
    "\n",
    "8) C4 \"Rank of card #4\" Numerical (1-13) representing (Ace, 2, 3, ... , Queen, King)\n",
    "\n",
    "9) S5 \"Suit of card #5\" Ordinal (1-4) representing {Hearts, Spades, Diamonds, Clubs}\n",
    "\n",
    "10) C5 \"Rank of card 5\" Numerical (1-13) representing (Ace, 2, 3, ... , Queen, King)\n",
    "\n",
    "11) CLASS \"Poker Hand\" Ordinal (0-9)\n",
    "\n",
    "0: Nothing in hand; not a recognized poker hand\n",
    "\n",
    "1: One pair; one pair of equal ranks within five cards\n",
    "\n",
    "2: Two pairs; two pairs of equal ranks within five cards\n",
    "\n",
    "3: Three of a kind; three equal ranks within five cards\n",
    "\n",
    "4: Straight; five cards, sequentially ranked with no gaps\n",
    "\n",
    "5: Flush; five cards with the same suit\n",
    "\n",
    "6: Full house; pair + different rank three of a kind\n",
    "\n",
    "7: Four of a kind; four equal ranks within five cards\n",
    "\n",
    "8: Straight flush; straight + flush\n",
    "\n",
    "9: Royal flush; {Ace, King, Queen, Jack, Ten} + flush"
   ]
  },
  {
   "cell_type": "code",
   "execution_count": 1,
   "metadata": {},
   "outputs": [
    {
     "name": "stdout",
     "output_type": "stream",
     "text": [
      "Checking whether there is an H2O instance running at http://localhost:54321..... not found.\n",
      "Attempting to start a local H2O server...\n",
      "; Java HotSpot(TM) 64-Bit Server VM (build 25.161-b12, mixed mode)\n",
      "  Starting server from C:\\Users\\shlok\\anaconda3\\lib\\site-packages\\h2o\\backend\\bin\\h2o.jar\n",
      "  Ice root: C:\\Users\\shlok\\AppData\\Local\\Temp\\tmpwcwhd10r\n",
      "  JVM stdout: C:\\Users\\shlok\\AppData\\Local\\Temp\\tmpwcwhd10r\\h2o_shlok_started_from_python.out\n",
      "  JVM stderr: C:\\Users\\shlok\\AppData\\Local\\Temp\\tmpwcwhd10r\\h2o_shlok_started_from_python.err\n",
      "  Server is running at http://127.0.0.1:54321\n",
      "Connecting to H2O server at http://127.0.0.1:54321... successful.\n"
     ]
    },
    {
     "data": {
      "text/html": [
       "<div style=\"overflow:auto\"><table style=\"width:50%\"><tr><td>H2O cluster uptime:</td>\n",
       "<td>02 secs</td></tr>\n",
       "<tr><td>H2O cluster timezone:</td>\n",
       "<td>America/New_York</td></tr>\n",
       "<tr><td>H2O data parsing timezone:</td>\n",
       "<td>UTC</td></tr>\n",
       "<tr><td>H2O cluster version:</td>\n",
       "<td>3.20.0.9</td></tr>\n",
       "<tr><td>H2O cluster version age:</td>\n",
       "<td>25 days </td></tr>\n",
       "<tr><td>H2O cluster name:</td>\n",
       "<td>H2O_from_python_shlok_swz8k6</td></tr>\n",
       "<tr><td>H2O cluster total nodes:</td>\n",
       "<td>1</td></tr>\n",
       "<tr><td>H2O cluster free memory:</td>\n",
       "<td>7.111 Gb</td></tr>\n",
       "<tr><td>H2O cluster total cores:</td>\n",
       "<td>4</td></tr>\n",
       "<tr><td>H2O cluster allowed cores:</td>\n",
       "<td>4</td></tr>\n",
       "<tr><td>H2O cluster status:</td>\n",
       "<td>accepting new members, healthy</td></tr>\n",
       "<tr><td>H2O connection url:</td>\n",
       "<td>http://127.0.0.1:54321</td></tr>\n",
       "<tr><td>H2O connection proxy:</td>\n",
       "<td>None</td></tr>\n",
       "<tr><td>H2O internal security:</td>\n",
       "<td>False</td></tr>\n",
       "<tr><td>H2O API Extensions:</td>\n",
       "<td>Algos, AutoML, Core V3, Core V4</td></tr>\n",
       "<tr><td>Python version:</td>\n",
       "<td>3.6.4 final</td></tr></table></div>"
      ],
      "text/plain": [
       "--------------------------  -------------------------------\n",
       "H2O cluster uptime:         02 secs\n",
       "H2O cluster timezone:       America/New_York\n",
       "H2O data parsing timezone:  UTC\n",
       "H2O cluster version:        3.20.0.9\n",
       "H2O cluster version age:    25 days\n",
       "H2O cluster name:           H2O_from_python_shlok_swz8k6\n",
       "H2O cluster total nodes:    1\n",
       "H2O cluster free memory:    7.111 Gb\n",
       "H2O cluster total cores:    4\n",
       "H2O cluster allowed cores:  4\n",
       "H2O cluster status:         accepting new members, healthy\n",
       "H2O connection url:         http://127.0.0.1:54321\n",
       "H2O connection proxy:\n",
       "H2O internal security:      False\n",
       "H2O API Extensions:         Algos, AutoML, Core V3, Core V4\n",
       "Python version:             3.6.4 final\n",
       "--------------------------  -------------------------------"
      ]
     },
     "metadata": {},
     "output_type": "display_data"
    }
   ],
   "source": [
    "# Load the H2O library and start up the H2O cluter locally on your machine\n",
    "import h2o\n",
    "\n",
    "# Number of threads, nthreads = -1, means use all cores on your machine\n",
    "# max_mem_size is the maximum memory (in GB) to allocate to H2O\n",
    "h2o.init(nthreads = -1, max_mem_size = 8)"
   ]
  },
  {
   "cell_type": "code",
   "execution_count": 2,
   "metadata": {},
   "outputs": [
    {
     "name": "stdout",
     "output_type": "stream",
     "text": [
      "Parse progress: |█████████████████████████████████████████████████████████| 100%\n"
     ]
    }
   ],
   "source": [
    "data = h2o.import_file(\"poker.csv\")"
   ]
  },
  {
   "cell_type": "code",
   "execution_count": 3,
   "metadata": {},
   "outputs": [
    {
     "data": {
      "text/plain": [
       "(25010, 12)"
      ]
     },
     "execution_count": 3,
     "metadata": {},
     "output_type": "execute_result"
    }
   ],
   "source": [
    "data.shape"
   ]
  },
  {
   "cell_type": "code",
   "execution_count": 4,
   "metadata": {},
   "outputs": [
    {
     "data": {
      "text/html": [
       "<table>\n",
       "<thead>\n",
       "<tr><th style=\"text-align: right;\">  C1C1</th><th style=\"text-align: right;\">  S1</th><th style=\"text-align: right;\">  C1</th><th style=\"text-align: right;\">  S2</th><th style=\"text-align: right;\">  C2</th><th style=\"text-align: right;\">  S3</th><th style=\"text-align: right;\">  C3</th><th style=\"text-align: right;\">  S4</th><th style=\"text-align: right;\">  C4</th><th style=\"text-align: right;\">  S5</th><th style=\"text-align: right;\">  C5</th><th>hand  </th></tr>\n",
       "</thead>\n",
       "<tbody>\n",
       "<tr><td style=\"text-align: right;\">     0</td><td style=\"text-align: right;\">   4</td><td style=\"text-align: right;\">   9</td><td style=\"text-align: right;\">   2</td><td style=\"text-align: right;\">   1</td><td style=\"text-align: right;\">   2</td><td style=\"text-align: right;\">   2</td><td style=\"text-align: right;\">   4</td><td style=\"text-align: right;\">   7</td><td style=\"text-align: right;\">   2</td><td style=\"text-align: right;\">   8</td><td>Zero  </td></tr>\n",
       "<tr><td style=\"text-align: right;\">     1</td><td style=\"text-align: right;\">   1</td><td style=\"text-align: right;\">   4</td><td style=\"text-align: right;\">   3</td><td style=\"text-align: right;\">   6</td><td style=\"text-align: right;\">   1</td><td style=\"text-align: right;\">  12</td><td style=\"text-align: right;\">   3</td><td style=\"text-align: right;\">  11</td><td style=\"text-align: right;\">   2</td><td style=\"text-align: right;\">   7</td><td>Zero  </td></tr>\n",
       "<tr><td style=\"text-align: right;\">     2</td><td style=\"text-align: right;\">   1</td><td style=\"text-align: right;\">  11</td><td style=\"text-align: right;\">   4</td><td style=\"text-align: right;\">   1</td><td style=\"text-align: right;\">   3</td><td style=\"text-align: right;\">   7</td><td style=\"text-align: right;\">   4</td><td style=\"text-align: right;\">  11</td><td style=\"text-align: right;\">   2</td><td style=\"text-align: right;\">   1</td><td>Two   </td></tr>\n",
       "<tr><td style=\"text-align: right;\">     3</td><td style=\"text-align: right;\">   2</td><td style=\"text-align: right;\">   9</td><td style=\"text-align: right;\">   2</td><td style=\"text-align: right;\">   4</td><td style=\"text-align: right;\">   3</td><td style=\"text-align: right;\">   6</td><td style=\"text-align: right;\">   1</td><td style=\"text-align: right;\">   9</td><td style=\"text-align: right;\">   4</td><td style=\"text-align: right;\">   9</td><td>Three </td></tr>\n",
       "<tr><td style=\"text-align: right;\">     4</td><td style=\"text-align: right;\">   1</td><td style=\"text-align: right;\">   8</td><td style=\"text-align: right;\">   2</td><td style=\"text-align: right;\">   4</td><td style=\"text-align: right;\">   2</td><td style=\"text-align: right;\">  11</td><td style=\"text-align: right;\">   2</td><td style=\"text-align: right;\">   2</td><td style=\"text-align: right;\">   2</td><td style=\"text-align: right;\">   1</td><td>Zero  </td></tr>\n",
       "<tr><td style=\"text-align: right;\">     5</td><td style=\"text-align: right;\">   2</td><td style=\"text-align: right;\">   5</td><td style=\"text-align: right;\">   1</td><td style=\"text-align: right;\">   5</td><td style=\"text-align: right;\">   2</td><td style=\"text-align: right;\">  13</td><td style=\"text-align: right;\">   2</td><td style=\"text-align: right;\">   3</td><td style=\"text-align: right;\">   3</td><td style=\"text-align: right;\">  13</td><td>Two   </td></tr>\n",
       "<tr><td style=\"text-align: right;\">     6</td><td style=\"text-align: right;\">   3</td><td style=\"text-align: right;\">  10</td><td style=\"text-align: right;\">   4</td><td style=\"text-align: right;\">   6</td><td style=\"text-align: right;\">   1</td><td style=\"text-align: right;\">   4</td><td style=\"text-align: right;\">   2</td><td style=\"text-align: right;\">  13</td><td style=\"text-align: right;\">   4</td><td style=\"text-align: right;\">   5</td><td>Zero  </td></tr>\n",
       "<tr><td style=\"text-align: right;\">     7</td><td style=\"text-align: right;\">   4</td><td style=\"text-align: right;\">  10</td><td style=\"text-align: right;\">   3</td><td style=\"text-align: right;\">   1</td><td style=\"text-align: right;\">   2</td><td style=\"text-align: right;\">  13</td><td style=\"text-align: right;\">   4</td><td style=\"text-align: right;\">   2</td><td style=\"text-align: right;\">   4</td><td style=\"text-align: right;\">   7</td><td>Zero  </td></tr>\n",
       "<tr><td style=\"text-align: right;\">     8</td><td style=\"text-align: right;\">   3</td><td style=\"text-align: right;\">   2</td><td style=\"text-align: right;\">   4</td><td style=\"text-align: right;\">  10</td><td style=\"text-align: right;\">   3</td><td style=\"text-align: right;\">   3</td><td style=\"text-align: right;\">   4</td><td style=\"text-align: right;\">   4</td><td style=\"text-align: right;\">   1</td><td style=\"text-align: right;\">   9</td><td>Zero  </td></tr>\n",
       "<tr><td style=\"text-align: right;\">     9</td><td style=\"text-align: right;\">   2</td><td style=\"text-align: right;\">   7</td><td style=\"text-align: right;\">   3</td><td style=\"text-align: right;\">   8</td><td style=\"text-align: right;\">   4</td><td style=\"text-align: right;\">   8</td><td style=\"text-align: right;\">   2</td><td style=\"text-align: right;\">  13</td><td style=\"text-align: right;\">   2</td><td style=\"text-align: right;\">  12</td><td>One   </td></tr>\n",
       "</tbody>\n",
       "</table>"
      ]
     },
     "metadata": {},
     "output_type": "display_data"
    },
    {
     "data": {
      "text/plain": []
     },
     "execution_count": 4,
     "metadata": {},
     "output_type": "execute_result"
    }
   ],
   "source": [
    "data.head()"
   ]
  },
  {
   "cell_type": "code",
   "execution_count": 7,
   "metadata": {},
   "outputs": [
    {
     "data": {
      "text/plain": [
       "['S1', 'C1', 'S2', 'C2', 'S3', 'C3', 'S4', 'C4', 'S5', 'C5', 'hand']"
      ]
     },
     "execution_count": 7,
     "metadata": {},
     "output_type": "execute_result"
    }
   ],
   "source": [
    "data.columns"
   ]
  },
  {
   "cell_type": "code",
   "execution_count": 6,
   "metadata": {},
   "outputs": [],
   "source": [
    "data = data.drop([ 'C1C1'], axis=1)\n"
   ]
  },
  {
   "cell_type": "code",
   "execution_count": 8,
   "metadata": {},
   "outputs": [],
   "source": [
    "# Define features (or predictors) manually\n",
    "features =['S1', 'C1', 'S2', 'C2', 'S3', 'C3', 'S4', 'C4', 'S5', 'C5']"
   ]
  },
  {
   "cell_type": "code",
   "execution_count": 9,
   "metadata": {},
   "outputs": [],
   "source": [
    "# Split the H2O data frame into training/test sets\n",
    "# so we can evaluate out-of-bag performance\n",
    "data_split = data.split_frame(ratios = [0.9], seed = 1234)\n",
    "\n",
    "data_train = data_split[0] # using 90% for training\n",
    "data_test = data_split[1]  # using the rest 10% for out-of-bag evaluation"
   ]
  },
  {
   "cell_type": "code",
   "execution_count": 10,
   "metadata": {},
   "outputs": [
    {
     "data": {
      "text/plain": [
       "(22480, 11)"
      ]
     },
     "execution_count": 10,
     "metadata": {},
     "output_type": "execute_result"
    }
   ],
   "source": [
    "data_train.shape"
   ]
  },
  {
   "cell_type": "code",
   "execution_count": 11,
   "metadata": {},
   "outputs": [
    {
     "data": {
      "text/plain": [
       "(2530, 11)"
      ]
     },
     "execution_count": 11,
     "metadata": {},
     "output_type": "execute_result"
    }
   ],
   "source": [
    "data_test.shape"
   ]
  },
  {
   "cell_type": "code",
   "execution_count": 12,
   "metadata": {},
   "outputs": [
    {
     "data": {
      "text/html": [
       "<table>\n",
       "<thead>\n",
       "<tr><th style=\"text-align: right;\">  S1</th><th style=\"text-align: right;\">  C1</th><th style=\"text-align: right;\">  S2</th><th style=\"text-align: right;\">  C2</th><th style=\"text-align: right;\">  S3</th><th style=\"text-align: right;\">  C3</th><th style=\"text-align: right;\">  S4</th><th style=\"text-align: right;\">  C4</th><th style=\"text-align: right;\">  S5</th><th style=\"text-align: right;\">  C5</th><th>hand  </th></tr>\n",
       "</thead>\n",
       "<tbody>\n",
       "<tr><td style=\"text-align: right;\">   4</td><td style=\"text-align: right;\">   9</td><td style=\"text-align: right;\">   2</td><td style=\"text-align: right;\">   1</td><td style=\"text-align: right;\">   2</td><td style=\"text-align: right;\">   2</td><td style=\"text-align: right;\">   4</td><td style=\"text-align: right;\">   7</td><td style=\"text-align: right;\">   2</td><td style=\"text-align: right;\">   8</td><td>Zero  </td></tr>\n",
       "<tr><td style=\"text-align: right;\">   1</td><td style=\"text-align: right;\">   4</td><td style=\"text-align: right;\">   3</td><td style=\"text-align: right;\">   6</td><td style=\"text-align: right;\">   1</td><td style=\"text-align: right;\">  12</td><td style=\"text-align: right;\">   3</td><td style=\"text-align: right;\">  11</td><td style=\"text-align: right;\">   2</td><td style=\"text-align: right;\">   7</td><td>Zero  </td></tr>\n",
       "<tr><td style=\"text-align: right;\">   1</td><td style=\"text-align: right;\">  11</td><td style=\"text-align: right;\">   4</td><td style=\"text-align: right;\">   1</td><td style=\"text-align: right;\">   3</td><td style=\"text-align: right;\">   7</td><td style=\"text-align: right;\">   4</td><td style=\"text-align: right;\">  11</td><td style=\"text-align: right;\">   2</td><td style=\"text-align: right;\">   1</td><td>Two   </td></tr>\n",
       "<tr><td style=\"text-align: right;\">   1</td><td style=\"text-align: right;\">   8</td><td style=\"text-align: right;\">   2</td><td style=\"text-align: right;\">   4</td><td style=\"text-align: right;\">   2</td><td style=\"text-align: right;\">  11</td><td style=\"text-align: right;\">   2</td><td style=\"text-align: right;\">   2</td><td style=\"text-align: right;\">   2</td><td style=\"text-align: right;\">   1</td><td>Zero  </td></tr>\n",
       "<tr><td style=\"text-align: right;\">   2</td><td style=\"text-align: right;\">   5</td><td style=\"text-align: right;\">   1</td><td style=\"text-align: right;\">   5</td><td style=\"text-align: right;\">   2</td><td style=\"text-align: right;\">  13</td><td style=\"text-align: right;\">   2</td><td style=\"text-align: right;\">   3</td><td style=\"text-align: right;\">   3</td><td style=\"text-align: right;\">  13</td><td>Two   </td></tr>\n",
       "<tr><td style=\"text-align: right;\">   3</td><td style=\"text-align: right;\">  10</td><td style=\"text-align: right;\">   4</td><td style=\"text-align: right;\">   6</td><td style=\"text-align: right;\">   1</td><td style=\"text-align: right;\">   4</td><td style=\"text-align: right;\">   2</td><td style=\"text-align: right;\">  13</td><td style=\"text-align: right;\">   4</td><td style=\"text-align: right;\">   5</td><td>Zero  </td></tr>\n",
       "<tr><td style=\"text-align: right;\">   4</td><td style=\"text-align: right;\">  10</td><td style=\"text-align: right;\">   3</td><td style=\"text-align: right;\">   1</td><td style=\"text-align: right;\">   2</td><td style=\"text-align: right;\">  13</td><td style=\"text-align: right;\">   4</td><td style=\"text-align: right;\">   2</td><td style=\"text-align: right;\">   4</td><td style=\"text-align: right;\">   7</td><td>Zero  </td></tr>\n",
       "<tr><td style=\"text-align: right;\">   3</td><td style=\"text-align: right;\">   2</td><td style=\"text-align: right;\">   4</td><td style=\"text-align: right;\">  10</td><td style=\"text-align: right;\">   3</td><td style=\"text-align: right;\">   3</td><td style=\"text-align: right;\">   4</td><td style=\"text-align: right;\">   4</td><td style=\"text-align: right;\">   1</td><td style=\"text-align: right;\">   9</td><td>Zero  </td></tr>\n",
       "<tr><td style=\"text-align: right;\">   2</td><td style=\"text-align: right;\">   5</td><td style=\"text-align: right;\">   1</td><td style=\"text-align: right;\">   3</td><td style=\"text-align: right;\">   2</td><td style=\"text-align: right;\">  10</td><td style=\"text-align: right;\">   3</td><td style=\"text-align: right;\">   2</td><td style=\"text-align: right;\">   2</td><td style=\"text-align: right;\">   1</td><td>Zero  </td></tr>\n",
       "<tr><td style=\"text-align: right;\">   1</td><td style=\"text-align: right;\">   6</td><td style=\"text-align: right;\">   2</td><td style=\"text-align: right;\">  12</td><td style=\"text-align: right;\">   4</td><td style=\"text-align: right;\">   7</td><td style=\"text-align: right;\">   2</td><td style=\"text-align: right;\">  10</td><td style=\"text-align: right;\">   1</td><td style=\"text-align: right;\">   1</td><td>Zero  </td></tr>\n",
       "</tbody>\n",
       "</table>"
      ]
     },
     "metadata": {},
     "output_type": "display_data"
    },
    {
     "data": {
      "text/plain": []
     },
     "execution_count": 12,
     "metadata": {},
     "output_type": "execute_result"
    }
   ],
   "source": [
    "data_train"
   ]
  },
  {
   "cell_type": "markdown",
   "metadata": {},
   "source": [
    "## Generalized Linear Model"
   ]
  },
  {
   "cell_type": "code",
   "execution_count": 13,
   "metadata": {},
   "outputs": [],
   "source": [
    "#Setting Parameters for grid search\n",
    "hyper_parameters = { 'alpha': [0.01,0.1,0.3,0.5,0.7,0.9], \n",
    "                     'lambda': [1e-4,1e-5,1e-6,1e-7,1e-8] }\n",
    "\n",
    "search_criteria = { 'strategy': \"RandomDiscrete\", 'seed': 42,\n",
    "                    'stopping_metric': \"AUTO\", \n",
    "                    'stopping_tolerance': 0.001,\n",
    "                    'stopping_rounds': 2 }"
   ]
  },
  {
   "cell_type": "code",
   "execution_count": 14,
   "metadata": {},
   "outputs": [],
   "source": [
    "# Build a Generalized Linear Model (GLM) with default settings\n",
    "\n",
    "# Import the function for GLM\n",
    "from h2o.estimators.glm import H2OGeneralizedLinearEstimator\n",
    "from h2o.grid.grid_search import H2OGridSearch\n",
    "\n",
    "\n",
    "glm_gridSearch = H2OGridSearch(H2OGeneralizedLinearEstimator(model_id = 'glm_hyperParam', family='multinomial', nfolds=5),\n",
    "                               hyper_parameters, \n",
    "                               grid_id=\"glm_gridSearch\", \n",
    "                               search_criteria=search_criteria)"
   ]
  },
  {
   "cell_type": "code",
   "execution_count": 15,
   "metadata": {},
   "outputs": [
    {
     "name": "stdout",
     "output_type": "stream",
     "text": [
      "glm Grid Build progress: |████████████████████████████████████████████████| 100%\n"
     ]
    }
   ],
   "source": [
    "glm_girdSearch_fit = glm_gridSearch.train(x = features,\n",
    "                                         y = 'hand',\n",
    "                                         training_frame = data_train)"
   ]
  },
  {
   "cell_type": "code",
   "execution_count": 17,
   "metadata": {},
   "outputs": [],
   "source": [
    "glm_gridPerformance = glm_gridSearch.get_grid(sort_by='accuracy', decreasing=True)"
   ]
  },
  {
   "cell_type": "code",
   "execution_count": 18,
   "metadata": {},
   "outputs": [
    {
     "name": "stdout",
     "output_type": "stream",
     "text": [
      "      alpha    lambda               model_ids            accuracy\n",
      "0    [0.01]  [1.0E-4]  glm_gridSearch_model_2  0.5008451957295373\n",
      "1     [0.9]  [1.0E-7]  glm_gridSearch_model_3  0.5008451957295373\n",
      "2     [0.3]  [1.0E-6]  glm_gridSearch_model_5  0.5008007117437723\n",
      "3    [0.01]  [1.0E-8]  glm_gridSearch_model_1  0.5008007117437723\n",
      "4     [0.1]  [1.0E-7]  glm_gridSearch_model_4  0.5008007117437723\n",
      "5     [0.9]  [1.0E-5]  glm_gridSearch_model_8  0.5008007117437723\n",
      "6     [0.3]  [1.0E-7]  glm_gridSearch_model_0  0.5008007117437723\n",
      "7    [0.01]  [1.0E-6]  glm_gridSearch_model_6  0.5008007117437723\n",
      "8     [0.1]  [1.0E-8]  glm_gridSearch_model_7  0.5008007117437723\n",
      "\n"
     ]
    }
   ],
   "source": [
    "print(glm_gridPerformance)"
   ]
  },
  {
   "cell_type": "markdown",
   "metadata": {},
   "source": [
    "## Distributed Random Forest"
   ]
  },
  {
   "cell_type": "code",
   "execution_count": 19,
   "metadata": {},
   "outputs": [],
   "source": [
    "# DRF hyperparameters\n",
    "drf_params = {'mtries': [3, 6, 9] }"
   ]
  },
  {
   "cell_type": "code",
   "execution_count": 20,
   "metadata": {},
   "outputs": [],
   "source": [
    "# Build a Distributed Random Forest (DRF) model with default settings\n",
    "\n",
    "# Import the function for DRF\n",
    "from h2o.estimators.random_forest import H2ORandomForestEstimator"
   ]
  },
  {
   "cell_type": "code",
   "execution_count": 21,
   "metadata": {},
   "outputs": [],
   "source": [
    "\n",
    "drf_gridSearch = H2OGridSearch(H2ORandomForestEstimator(seed = 1234, model_id = 'drf_hyperParam'), \n",
    "                                   hyper_params = drf_params,\n",
    "                                   search_criteria = {'strategy': \"Cartesian\"}, \n",
    "                                   grid_id = \"drf_gridSearch\" )"
   ]
  },
  {
   "cell_type": "code",
   "execution_count": 22,
   "metadata": {},
   "outputs": [
    {
     "name": "stdout",
     "output_type": "stream",
     "text": [
      "drf Grid Build progress: |████████████████████████████████████████████████| 100%\n"
     ]
    }
   ],
   "source": [
    "drf_gridSearch.train(x = features, y = 'hand', training_frame = data_train)"
   ]
  },
  {
   "cell_type": "code",
   "execution_count": 24,
   "metadata": {},
   "outputs": [
    {
     "name": "stdout",
     "output_type": "stream",
     "text": [
      "    mtries               model_ids            accuracy\n",
      "0        6  drf_gridSearch_model_1   0.617126334519573\n",
      "1        9  drf_gridSearch_model_2  0.6145907473309609\n",
      "2        3  drf_gridSearch_model_0  0.5884786476868327\n"
     ]
    },
    {
     "data": {
      "text/plain": []
     },
     "execution_count": 24,
     "metadata": {},
     "output_type": "execute_result"
    }
   ],
   "source": [
    "drf_gridPerformance = drf_gridSearch.get_grid(sort_by='accuracy', decreasing=True)\n",
    "drf_gridPerformance"
   ]
  },
  {
   "cell_type": "markdown",
   "metadata": {},
   "source": [
    "## Gradient Boosting Machines"
   ]
  },
  {
   "cell_type": "code",
   "execution_count": 25,
   "metadata": {},
   "outputs": [],
   "source": [
    "# Import H2O Grid Search:\n",
    "from h2o.grid.grid_search import H2OGridSearch\n",
    "\n",
    "# Import H2O GBM:\n",
    "from h2o.estimators.gbm import H2OGradientBoostingEstimator"
   ]
  },
  {
   "cell_type": "code",
   "execution_count": 26,
   "metadata": {},
   "outputs": [],
   "source": [
    "# GBM hyperparameters\n",
    "gbm_params = {'learn_rate': [0.01, 0.1], \n",
    "                'max_depth': [3, 5, 9],\n",
    "                'sample_rate': [0.8, 1.0],\n",
    "                'col_sample_rate': [0.2, 0.5, 1.0]}"
   ]
  },
  {
   "cell_type": "code",
   "execution_count": 27,
   "metadata": {},
   "outputs": [
    {
     "name": "stdout",
     "output_type": "stream",
     "text": [
      "gbm Grid Build progress: |████████████████████████████████████████████████| 100%\n"
     ]
    }
   ],
   "source": [
    "gbm_gridSearch = H2OGridSearch(model=H2OGradientBoostingEstimator,\n",
    "                          grid_id='gbm_grid1',\n",
    "                          hyper_params=gbm_params)\n",
    "gbm_gridSearch.train(x=features, y='hand', \n",
    "                training_frame=data_train, \n",
    "                ntrees=100,\n",
    "                seed=1)"
   ]
  },
  {
   "cell_type": "code",
   "execution_count": 28,
   "metadata": {},
   "outputs": [
    {
     "name": "stdout",
     "output_type": "stream",
     "text": [
      "     col_sample_rate learn_rate max_depth sample_rate           model_ids  \\\n",
      "0                1.0        0.1         9         0.8  gbm_grid1_model_17   \n",
      "1                1.0        0.1         9         1.0  gbm_grid1_model_35   \n",
      "2                0.5        0.1         9         0.8  gbm_grid1_model_16   \n",
      "3                0.5        0.1         9         1.0  gbm_grid1_model_34   \n",
      "4                0.2        0.1         9         0.8  gbm_grid1_model_15   \n",
      "5                0.2        0.1         9         1.0  gbm_grid1_model_33   \n",
      "6                1.0       0.01         9         0.8  gbm_grid1_model_14   \n",
      "7                0.5       0.01         9         1.0  gbm_grid1_model_31   \n",
      "8                0.5       0.01         9         0.8  gbm_grid1_model_13   \n",
      "9                1.0       0.01         9         1.0  gbm_grid1_model_32   \n",
      "10               1.0        0.1         5         0.8  gbm_grid1_model_11   \n",
      "11               1.0        0.1         5         1.0  gbm_grid1_model_29   \n",
      "12               0.2       0.01         9         1.0  gbm_grid1_model_30   \n",
      "13               0.2       0.01         9         0.8  gbm_grid1_model_12   \n",
      "14               0.5        0.1         5         0.8  gbm_grid1_model_10   \n",
      "15               0.5        0.1         5         1.0  gbm_grid1_model_28   \n",
      "16               0.2        0.1         5         0.8   gbm_grid1_model_9   \n",
      "17               0.2        0.1         5         1.0  gbm_grid1_model_27   \n",
      "18               1.0        0.1         3         0.8   gbm_grid1_model_5   \n",
      "19               0.5        0.1         3         1.0  gbm_grid1_model_22   \n",
      "20               1.0        0.1         3         1.0  gbm_grid1_model_23   \n",
      "21               0.5        0.1         3         0.8   gbm_grid1_model_4   \n",
      "22               0.5       0.01         5         1.0  gbm_grid1_model_25   \n",
      "23               0.2        0.1         3         0.8   gbm_grid1_model_3   \n",
      "24               0.5       0.01         5         0.8   gbm_grid1_model_7   \n",
      "25               1.0       0.01         5         0.8   gbm_grid1_model_8   \n",
      "26               0.2        0.1         3         1.0  gbm_grid1_model_21   \n",
      "27               1.0       0.01         5         1.0  gbm_grid1_model_26   \n",
      "28               0.2       0.01         5         1.0  gbm_grid1_model_24   \n",
      "29               0.2       0.01         5         0.8   gbm_grid1_model_6   \n",
      "30               1.0       0.01         3         0.8   gbm_grid1_model_2   \n",
      "31               1.0       0.01         3         1.0  gbm_grid1_model_20   \n",
      "32               0.5       0.01         3         0.8   gbm_grid1_model_1   \n",
      "33               0.5       0.01         3         1.0  gbm_grid1_model_19   \n",
      "34               0.2       0.01         3         0.8   gbm_grid1_model_0   \n",
      "35               0.2       0.01         3         1.0  gbm_grid1_model_18   \n",
      "\n",
      "              accuracy  \n",
      "0   0.9923042704626335  \n",
      "1   0.9648131672597865  \n",
      "2   0.9502224199288256  \n",
      "3   0.9444839857651246  \n",
      "4   0.9082740213523132  \n",
      "5   0.8911032028469751  \n",
      "6    0.765702846975089  \n",
      "7   0.7551156583629893  \n",
      "8   0.7497775800711743  \n",
      "9    0.745373665480427  \n",
      "10  0.7418149466192171  \n",
      "11  0.7273131672597865  \n",
      "12  0.7270462633451957  \n",
      "13   0.713923487544484  \n",
      "14  0.7109875444839857  \n",
      "15  0.6981316725978648  \n",
      "16  0.6731316725978648  \n",
      "17  0.6688612099644128  \n",
      "18  0.6322508896797153  \n",
      "19  0.6293149466192172  \n",
      "20   0.628603202846975  \n",
      "21  0.6254003558718861  \n",
      "22   0.604314946619217  \n",
      "23  0.6023131672597865  \n",
      "24  0.6009786476868327  \n",
      "25  0.6005338078291815  \n",
      "26  0.5969306049822064  \n",
      "27  0.5908807829181495  \n",
      "28  0.5741548042704626  \n",
      "29  0.5728202846975089  \n",
      "30  0.5504448398576512  \n",
      "31   0.546752669039146  \n",
      "32   0.546752669039146  \n",
      "33  0.5454626334519572  \n",
      "34  0.5122775800711743  \n",
      "35  0.5120106761565837  \n"
     ]
    },
    {
     "data": {
      "text/plain": []
     },
     "execution_count": 28,
     "metadata": {},
     "output_type": "execute_result"
    }
   ],
   "source": [
    "gbm_gridPerf = gbm_gridSearch.get_grid(sort_by='accuracy', decreasing=True)\n",
    "gbm_gridPerf"
   ]
  },
  {
   "cell_type": "markdown",
   "metadata": {},
   "source": [
    "## Deep Learning"
   ]
  },
  {
   "cell_type": "code",
   "execution_count": 29,
   "metadata": {},
   "outputs": [],
   "source": [
    "# Build a Deep Learning (Deep Neural Networks, DNN) model with default settings\n",
    "\n",
    "# Import the function for DNN\n",
    "from h2o.estimators.deeplearning import H2ODeepLearningEstimator"
   ]
  },
  {
   "cell_type": "code",
   "execution_count": 30,
   "metadata": {},
   "outputs": [],
   "source": [
    "# DL hyperparameters\n",
    "activation_opt = [\"Rectifier\", \"RectifierWithDropout\", \"Maxout\", \"MaxoutWithDropout\"]\n",
    "l1_opt = [0, 0.00001, 0.0001, 0.001, 0.01, 0.1]\n",
    "l2_opt = [0, 0.00001, 0.0001, 0.001, 0.01, 0.1]\n",
    "dl_params = {'activation': activation_opt, 'l1': l1_opt, 'l2': l2_opt}"
   ]
  },
  {
   "cell_type": "code",
   "execution_count": 31,
   "metadata": {},
   "outputs": [],
   "source": [
    "# Search criteria\n",
    "search_criteria = {'strategy': 'RandomDiscrete', 'max_runtime_secs': 120, 'seed':1}"
   ]
  },
  {
   "cell_type": "code",
   "execution_count": 32,
   "metadata": {},
   "outputs": [],
   "source": [
    "dl_gridSearch = H2OGridSearch(model=H2ODeepLearningEstimator,\n",
    "                        grid_id='dl_grid',\n",
    "                        hyper_params=dl_params,\n",
    "                        search_criteria=search_criteria)"
   ]
  },
  {
   "cell_type": "code",
   "execution_count": 33,
   "metadata": {},
   "outputs": [
    {
     "name": "stdout",
     "output_type": "stream",
     "text": [
      "deeplearning Grid Build progress: |███████████████████████████████████████| 100%\n"
     ]
    }
   ],
   "source": [
    "dl_gridSearch.train(x=features, y='hand',\n",
    "              training_frame=data_train,              \n",
    "              hidden=[10,10],          \n",
    "              search_criteria=search_criteria)\n"
   ]
  },
  {
   "cell_type": "code",
   "execution_count": 35,
   "metadata": {},
   "outputs": [
    {
     "name": "stdout",
     "output_type": "stream",
     "text": [
      "                  activation      l1      l2          model_ids  \\\n",
      "0                  Rectifier   0.001   0.001  dl_grid_model_101   \n",
      "1                  Rectifier     0.0  1.0E-4  dl_grid_model_141   \n",
      "2                     Maxout   0.001     0.0   dl_grid_model_51   \n",
      "3                     Maxout  1.0E-4  1.0E-5  dl_grid_model_108   \n",
      "4                     Maxout  1.0E-5  1.0E-4   dl_grid_model_18   \n",
      "5                     Maxout  1.0E-4    0.01  dl_grid_model_117   \n",
      "6                     Maxout   0.001   0.001   dl_grid_model_40   \n",
      "7                  Rectifier   0.001  1.0E-4   dl_grid_model_92   \n",
      "8                     Maxout   0.001    0.01   dl_grid_model_60   \n",
      "9                     Maxout     0.0  1.0E-4   dl_grid_model_29   \n",
      "10                    Maxout  1.0E-4  1.0E-4  dl_grid_model_116   \n",
      "11                 Rectifier     0.0   0.001   dl_grid_model_99   \n",
      "12                    Maxout  1.0E-5    0.01   dl_grid_model_20   \n",
      "13                    Maxout  1.0E-4   0.001   dl_grid_model_54   \n",
      "14                    Maxout     0.0     0.0   dl_grid_model_58   \n",
      "15                    Maxout  1.0E-5     0.0   dl_grid_model_84   \n",
      "16                 Rectifier  1.0E-5   0.001  dl_grid_model_140   \n",
      "17                    Maxout     0.0    0.01   dl_grid_model_34   \n",
      "18                 Rectifier  1.0E-5    0.01   dl_grid_model_98   \n",
      "19                 Rectifier   0.001  1.0E-5   dl_grid_model_74   \n",
      "20                    Maxout  1.0E-4     0.0    dl_grid_model_5   \n",
      "21                    Maxout    0.01  1.0E-4   dl_grid_model_82   \n",
      "22                    Maxout   0.001  1.0E-4  dl_grid_model_110   \n",
      "23                 Rectifier  1.0E-5     0.0   dl_grid_model_65   \n",
      "24                    Maxout     0.0   0.001   dl_grid_model_78   \n",
      "25                 Rectifier     0.0    0.01   dl_grid_model_94   \n",
      "26                    Maxout  1.0E-5  1.0E-5    dl_grid_model_3   \n",
      "27                    Maxout     0.0  1.0E-5   dl_grid_model_67   \n",
      "28                 Rectifier  1.0E-4  1.0E-5  dl_grid_model_134   \n",
      "29                 Rectifier   0.001     0.0   dl_grid_model_89   \n",
      "..  ..                   ...     ...     ...                ...   \n",
      "114     RectifierWithDropout  1.0E-4     0.1   dl_grid_model_52   \n",
      "115     RectifierWithDropout  1.0E-4  1.0E-4   dl_grid_model_64   \n",
      "116                   Maxout     0.1  1.0E-4   dl_grid_model_66   \n",
      "117        MaxoutWithDropout     0.1     0.0   dl_grid_model_26   \n",
      "118     RectifierWithDropout    0.01  1.0E-5   dl_grid_model_32   \n",
      "119                   Maxout   0.001     0.1   dl_grid_model_69   \n",
      "120        MaxoutWithDropout     0.0  1.0E-4  dl_grid_model_112   \n",
      "121     RectifierWithDropout  1.0E-5     0.1  dl_grid_model_130   \n",
      "122        MaxoutWithDropout    0.01  1.0E-4   dl_grid_model_59   \n",
      "123     RectifierWithDropout     0.1     0.1   dl_grid_model_73   \n",
      "124     RectifierWithDropout  1.0E-4     0.0  dl_grid_model_114   \n",
      "125        MaxoutWithDropout     0.1    0.01  dl_grid_model_106   \n",
      "126                Rectifier     0.0     0.1  dl_grid_model_107   \n",
      "127        MaxoutWithDropout   0.001   0.001   dl_grid_model_14   \n",
      "128        MaxoutWithDropout   0.001  1.0E-5  dl_grid_model_100   \n",
      "129        MaxoutWithDropout   0.001     0.1  dl_grid_model_111   \n",
      "130     RectifierWithDropout   0.001  1.0E-4  dl_grid_model_120   \n",
      "131                Rectifier    0.01     0.1   dl_grid_model_22   \n",
      "132                   Maxout     0.1   0.001   dl_grid_model_61   \n",
      "133        MaxoutWithDropout     0.1   0.001   dl_grid_model_90   \n",
      "134                   Maxout     0.1     0.0   dl_grid_model_45   \n",
      "135     RectifierWithDropout  1.0E-5  1.0E-4   dl_grid_model_62   \n",
      "136        MaxoutWithDropout     0.0    0.01   dl_grid_model_88   \n",
      "137        MaxoutWithDropout    0.01    0.01   dl_grid_model_37   \n",
      "138                   Maxout     0.1    0.01   dl_grid_model_16   \n",
      "139                Rectifier  1.0E-5     0.1   dl_grid_model_83   \n",
      "140        MaxoutWithDropout  1.0E-4     0.0  dl_grid_model_131   \n",
      "141                Rectifier     0.1   0.001   dl_grid_model_11   \n",
      "142        MaxoutWithDropout    0.01  1.0E-5   dl_grid_model_91   \n",
      "143        MaxoutWithDropout   0.001     0.0    dl_grid_model_4   \n",
      "\n",
      "                accuracy  \n",
      "0     0.5563310069790628  \n",
      "1     0.5562867683717221  \n",
      "2     0.5554890816631768  \n",
      "3     0.5544031115986836  \n",
      "4     0.5541928407617909  \n",
      "5     0.5541483845233346  \n",
      "6     0.5539274322169059  \n",
      "7     0.5537387836490528  \n",
      "8     0.5537173609726929  \n",
      "9     0.5532402791625124  \n",
      "10    0.5528074199660915  \n",
      "11    0.5526971781832686  \n",
      "12    0.5520438683948156  \n",
      "13    0.5519441674975074  \n",
      "14    0.5511811023622047  \n",
      "15    0.5508271875622882  \n",
      "16    0.5502044072190647  \n",
      "17    0.5490078771562469  \n",
      "18    0.5479561316051844  \n",
      "19    0.5473747135598286  \n",
      "20    0.5473033595852856  \n",
      "21     0.547085201793722  \n",
      "22    0.5467238456168346  \n",
      "23    0.5463332004782782  \n",
      "24    0.5463332004782782  \n",
      "25    0.5463156845149068  \n",
      "26    0.5456086132987739  \n",
      "27    0.5448839294609944  \n",
      "28    0.5444843407141432  \n",
      "29    0.5443580542264752  \n",
      "..                   ...  \n",
      "114    0.498703888334995  \n",
      "115  0.49865470852017935  \n",
      "116   0.4985553452226761  \n",
      "117   0.4985044865403788  \n",
      "118  0.49845448200219367  \n",
      "119  0.49840573933838184  \n",
      "120   0.4983047467092142  \n",
      "121   0.4982046678635548  \n",
      "122  0.49810643811042454  \n",
      "123  0.49800717417297724  \n",
      "124   0.4980055843637814  \n",
      "125  0.49780614280015956  \n",
      "126   0.4976067012365377  \n",
      "127  0.49715880769614196  \n",
      "128   0.4969092721834496  \n",
      "129   0.4967092142002393  \n",
      "130    0.496061421876558  \n",
      "131    0.496011964107677  \n",
      "132   0.4959138927646004  \n",
      "133   0.4958628252417506  \n",
      "134    0.495414673046252  \n",
      "135  0.49526562344263925  \n",
      "136   0.4947672680155487  \n",
      "137  0.49461615154536387  \n",
      "138   0.4940179461615155  \n",
      "139   0.4936721474838067  \n",
      "140   0.4935168561739477  \n",
      "141   0.4910776592563054  \n",
      "142  0.42268966204765224  \n",
      "143  0.42169275246735116  \n",
      "\n",
      "[144 rows x 6 columns]\n"
     ]
    },
    {
     "data": {
      "text/plain": []
     },
     "execution_count": 35,
     "metadata": {},
     "output_type": "execute_result"
    }
   ],
   "source": [
    "dl_gridPerf = dl_gridSearch.get_grid(sort_by='accuracy', decreasing=True)\n",
    "dl_gridPerf"
   ]
  },
  {
   "cell_type": "markdown",
   "metadata": {},
   "source": [
    "## AutoML"
   ]
  },
  {
   "cell_type": "code",
   "execution_count": 36,
   "metadata": {},
   "outputs": [],
   "source": [
    "from h2o.automl import H2OAutoML"
   ]
  },
  {
   "cell_type": "markdown",
   "metadata": {},
   "source": [
    "Run AutoML, stopping after 60 seconds. The max_runtime_secs argument provides a way to limit the AutoML run by time. When using a time-limited stopping criterion, the number of models train will vary between runs. If different hardware is used or even if the same machine is used but the available compute resources on that machine are not the same between runs, then AutoML may be able to train more models on one run vs another.\n",
    "\n",
    "The test frame is passed explicitly to the leaderboard_frame argument here, which means that instead of using cross-validated metrics, we use test set metrics for generating the leaderboard."
   ]
  },
  {
   "cell_type": "code",
   "execution_count": 37,
   "metadata": {},
   "outputs": [
    {
     "name": "stdout",
     "output_type": "stream",
     "text": [
      "AutoML progress: |████████████████████████████████████████████████████████| 100%\n"
     ]
    }
   ],
   "source": [
    "aml = H2OAutoML(max_runtime_secs = 60, seed = 1, project_name = \"Poker_leaderboard\")\n",
    "aml.train(y = 'hand', training_frame = data_train, leaderboard_frame = data_test)"
   ]
  },
  {
   "cell_type": "code",
   "execution_count": 38,
   "metadata": {},
   "outputs": [
    {
     "data": {
      "text/html": [
       "<table>\n",
       "<thead>\n",
       "<tr><th>model_id                                             </th><th style=\"text-align: right;\">  mean_per_class_error</th><th style=\"text-align: right;\">  logloss</th><th style=\"text-align: right;\">    rmse</th><th style=\"text-align: right;\">     mse</th></tr>\n",
       "</thead>\n",
       "<tbody>\n",
       "<tr><td>StackedEnsemble_BestOfFamily_0_AutoML_20181027_152439</td><td style=\"text-align: right;\">              0.463967</td><td style=\"text-align: right;\"> 0.857257</td><td style=\"text-align: right;\">0.535917</td><td style=\"text-align: right;\">0.287207</td></tr>\n",
       "<tr><td>StackedEnsemble_AllModels_0_AutoML_20181027_152439   </td><td style=\"text-align: right;\">              0.463967</td><td style=\"text-align: right;\"> 0.857257</td><td style=\"text-align: right;\">0.535917</td><td style=\"text-align: right;\">0.287207</td></tr>\n",
       "<tr><td>XRT_0_AutoML_20181027_152439                         </td><td style=\"text-align: right;\">              0.470453</td><td style=\"text-align: right;\"> 1.00746 </td><td style=\"text-align: right;\">0.552943</td><td style=\"text-align: right;\">0.305746</td></tr>\n",
       "<tr><td>DRF_0_AutoML_20181027_152439                         </td><td style=\"text-align: right;\">              0.573736</td><td style=\"text-align: right;\"> 1.28255 </td><td style=\"text-align: right;\">0.560817</td><td style=\"text-align: right;\">0.314516</td></tr>\n",
       "</tbody>\n",
       "</table>"
      ]
     },
     "metadata": {},
     "output_type": "display_data"
    },
    {
     "data": {
      "text/plain": []
     },
     "execution_count": 38,
     "metadata": {},
     "output_type": "execute_result"
    }
   ],
   "source": [
    "aml.leaderboard.head()"
   ]
  },
  {
   "cell_type": "code",
   "execution_count": 39,
   "metadata": {},
   "outputs": [
    {
     "name": "stdout",
     "output_type": "stream",
     "text": [
      "stackedensemble prediction progress: |████████████████████████████████████| 100%\n"
     ]
    },
    {
     "data": {
      "text/html": [
       "<table>\n",
       "<thead>\n",
       "<tr><th>predict  </th><th style=\"text-align: right;\">         p9</th><th style=\"text-align: right;\">      Eight</th><th style=\"text-align: right;\">       Five</th><th style=\"text-align: right;\">       Four</th><th style=\"text-align: right;\">     One</th><th style=\"text-align: right;\">      Seven</th><th style=\"text-align: right;\">        Six</th><th style=\"text-align: right;\">     Three</th><th style=\"text-align: right;\">       Two</th><th style=\"text-align: right;\">    Zero</th></tr>\n",
       "</thead>\n",
       "<tbody>\n",
       "<tr><td>One      </td><td style=\"text-align: right;\">0.000773191</td><td style=\"text-align: right;\">0.000809348</td><td style=\"text-align: right;\">0.000398427</td><td style=\"text-align: right;\">0.00286031 </td><td style=\"text-align: right;\">0.580109</td><td style=\"text-align: right;\">0.000284813</td><td style=\"text-align: right;\">0.00135395 </td><td style=\"text-align: right;\">0.0251126 </td><td style=\"text-align: right;\">0.0536267 </td><td style=\"text-align: right;\">0.334671</td></tr>\n",
       "<tr><td>One      </td><td style=\"text-align: right;\">0.000781677</td><td style=\"text-align: right;\">0.000888477</td><td style=\"text-align: right;\">0.000247299</td><td style=\"text-align: right;\">0.00214735 </td><td style=\"text-align: right;\">0.600237</td><td style=\"text-align: right;\">0.000259387</td><td style=\"text-align: right;\">0.0013797  </td><td style=\"text-align: right;\">0.0219943 </td><td style=\"text-align: right;\">0.0530831 </td><td style=\"text-align: right;\">0.318982</td></tr>\n",
       "<tr><td>Zero     </td><td style=\"text-align: right;\">0.000134592</td><td style=\"text-align: right;\">0.000131009</td><td style=\"text-align: right;\">0.00202952 </td><td style=\"text-align: right;\">0.000169496</td><td style=\"text-align: right;\">0.235629</td><td style=\"text-align: right;\">2.64948e-05</td><td style=\"text-align: right;\">4.79587e-05</td><td style=\"text-align: right;\">0.0015802 </td><td style=\"text-align: right;\">0.00895678</td><td style=\"text-align: right;\">0.751295</td></tr>\n",
       "<tr><td>Zero     </td><td style=\"text-align: right;\">9.86592e-05</td><td style=\"text-align: right;\">8.69823e-05</td><td style=\"text-align: right;\">0.00230193 </td><td style=\"text-align: right;\">9.82705e-05</td><td style=\"text-align: right;\">0.198442</td><td style=\"text-align: right;\">1.72461e-05</td><td style=\"text-align: right;\">2.16285e-05</td><td style=\"text-align: right;\">0.00102519</td><td style=\"text-align: right;\">0.00605214</td><td style=\"text-align: right;\">0.791856</td></tr>\n",
       "<tr><td>Zero     </td><td style=\"text-align: right;\">0.000159782</td><td style=\"text-align: right;\">0.000143294</td><td style=\"text-align: right;\">0.00211842 </td><td style=\"text-align: right;\">0.000244541</td><td style=\"text-align: right;\">0.266593</td><td style=\"text-align: right;\">3.46817e-05</td><td style=\"text-align: right;\">5.7786e-05 </td><td style=\"text-align: right;\">0.00223299</td><td style=\"text-align: right;\">0.0105456 </td><td style=\"text-align: right;\">0.71787 </td></tr>\n",
       "<tr><td>Zero     </td><td style=\"text-align: right;\">0.000215336</td><td style=\"text-align: right;\">0.00019392 </td><td style=\"text-align: right;\">0.00201223 </td><td style=\"text-align: right;\">0.000431076</td><td style=\"text-align: right;\">0.309456</td><td style=\"text-align: right;\">5.35302e-05</td><td style=\"text-align: right;\">9.81536e-05</td><td style=\"text-align: right;\">0.00362936</td><td style=\"text-align: right;\">0.0157105 </td><td style=\"text-align: right;\">0.6682  </td></tr>\n",
       "<tr><td>Zero     </td><td style=\"text-align: right;\">0.000128298</td><td style=\"text-align: right;\">0.000126518</td><td style=\"text-align: right;\">0.00265587 </td><td style=\"text-align: right;\">0.000185159</td><td style=\"text-align: right;\">0.217543</td><td style=\"text-align: right;\">2.55462e-05</td><td style=\"text-align: right;\">4.96356e-05</td><td style=\"text-align: right;\">0.00160723</td><td style=\"text-align: right;\">0.00789554</td><td style=\"text-align: right;\">0.769783</td></tr>\n",
       "<tr><td>One      </td><td style=\"text-align: right;\">0.00117583 </td><td style=\"text-align: right;\">0.00173501 </td><td style=\"text-align: right;\">4.28743e-05</td><td style=\"text-align: right;\">0.0146143  </td><td style=\"text-align: right;\">0.615764</td><td style=\"text-align: right;\">0.000584556</td><td style=\"text-align: right;\">0.00222143 </td><td style=\"text-align: right;\">0.0460647 </td><td style=\"text-align: right;\">0.110688  </td><td style=\"text-align: right;\">0.207109</td></tr>\n",
       "<tr><td>One      </td><td style=\"text-align: right;\">0.000592118</td><td style=\"text-align: right;\">0.000542824</td><td style=\"text-align: right;\">0.000834607</td><td style=\"text-align: right;\">0.00203103 </td><td style=\"text-align: right;\">0.56976 </td><td style=\"text-align: right;\">0.000210092</td><td style=\"text-align: right;\">0.000561244</td><td style=\"text-align: right;\">0.0189829 </td><td style=\"text-align: right;\">0.0549913 </td><td style=\"text-align: right;\">0.351494</td></tr>\n",
       "<tr><td>One      </td><td style=\"text-align: right;\">0.0037461  </td><td style=\"text-align: right;\">0.00493533 </td><td style=\"text-align: right;\">0.0040561  </td><td style=\"text-align: right;\">0.00726069 </td><td style=\"text-align: right;\">0.49731 </td><td style=\"text-align: right;\">0.000654958</td><td style=\"text-align: right;\">0.00410273 </td><td style=\"text-align: right;\">0.0356785 </td><td style=\"text-align: right;\">0.0859571 </td><td style=\"text-align: right;\">0.356299</td></tr>\n",
       "</tbody>\n",
       "</table>"
      ]
     },
     "metadata": {},
     "output_type": "display_data"
    },
    {
     "data": {
      "text/plain": []
     },
     "execution_count": 39,
     "metadata": {},
     "output_type": "execute_result"
    }
   ],
   "source": [
    "pred = aml.predict(data_test)\n",
    "pred.head()"
   ]
  },
  {
   "cell_type": "code",
   "execution_count": 40,
   "metadata": {},
   "outputs": [
    {
     "name": "stdout",
     "output_type": "stream",
     "text": [
      "H2O session _sid_8ab1 closed.\n"
     ]
    }
   ],
   "source": [
    "h2o.cluster().shutdown()"
   ]
  },
  {
   "cell_type": "code",
   "execution_count": null,
   "metadata": {},
   "outputs": [],
   "source": []
  }
 ],
 "metadata": {
  "kernelspec": {
   "display_name": "Python 3",
   "language": "python",
   "name": "python3"
  },
  "language_info": {
   "codemirror_mode": {
    "name": "ipython",
    "version": 3
   },
   "file_extension": ".py",
   "mimetype": "text/x-python",
   "name": "python",
   "nbconvert_exporter": "python",
   "pygments_lexer": "ipython3",
   "version": "3.6.4"
  }
 },
 "nbformat": 4,
 "nbformat_minor": 2
}
