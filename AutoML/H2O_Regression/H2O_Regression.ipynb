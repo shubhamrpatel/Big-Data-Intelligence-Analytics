{
 "cells": [
  {
   "cell_type": "code",
   "execution_count": 7,
   "metadata": {},
   "outputs": [
    {
     "name": "stdout",
     "output_type": "stream",
     "text": [
      "Checking whether there is an H2O instance running at http://localhost:54321..... not found.\n",
      "Attempting to start a local H2O server...\n",
      "; Java HotSpot(TM) 64-Bit Server VM (build 25.161-b12, mixed mode)\n",
      "  Starting server from C:\\Users\\shlok\\anaconda3\\lib\\site-packages\\h2o\\backend\\bin\\h2o.jar\n",
      "  Ice root: C:\\Users\\shlok\\AppData\\Local\\Temp\\tmp69tci4ic\n",
      "  JVM stdout: C:\\Users\\shlok\\AppData\\Local\\Temp\\tmp69tci4ic\\h2o_shlok_started_from_python.out\n",
      "  JVM stderr: C:\\Users\\shlok\\AppData\\Local\\Temp\\tmp69tci4ic\\h2o_shlok_started_from_python.err\n",
      "  Server is running at http://127.0.0.1:54321\n",
      "Connecting to H2O server at http://127.0.0.1:54321... successful.\n"
     ]
    },
    {
     "data": {
      "text/html": [
       "<div style=\"overflow:auto\"><table style=\"width:50%\"><tr><td>H2O cluster uptime:</td>\n",
       "<td>02 secs</td></tr>\n",
       "<tr><td>H2O cluster timezone:</td>\n",
       "<td>America/New_York</td></tr>\n",
       "<tr><td>H2O data parsing timezone:</td>\n",
       "<td>UTC</td></tr>\n",
       "<tr><td>H2O cluster version:</td>\n",
       "<td>3.20.0.9</td></tr>\n",
       "<tr><td>H2O cluster version age:</td>\n",
       "<td>1 month and 1 day </td></tr>\n",
       "<tr><td>H2O cluster name:</td>\n",
       "<td>H2O_from_python_shlok_2nrgpa</td></tr>\n",
       "<tr><td>H2O cluster total nodes:</td>\n",
       "<td>1</td></tr>\n",
       "<tr><td>H2O cluster free memory:</td>\n",
       "<td>7.111 Gb</td></tr>\n",
       "<tr><td>H2O cluster total cores:</td>\n",
       "<td>0</td></tr>\n",
       "<tr><td>H2O cluster allowed cores:</td>\n",
       "<td>0</td></tr>\n",
       "<tr><td>H2O cluster status:</td>\n",
       "<td>accepting new members, healthy</td></tr>\n",
       "<tr><td>H2O connection url:</td>\n",
       "<td>http://127.0.0.1:54321</td></tr>\n",
       "<tr><td>H2O connection proxy:</td>\n",
       "<td>None</td></tr>\n",
       "<tr><td>H2O internal security:</td>\n",
       "<td>False</td></tr>\n",
       "<tr><td>H2O API Extensions:</td>\n",
       "<td>Algos, AutoML, Core V3, Core V4</td></tr>\n",
       "<tr><td>Python version:</td>\n",
       "<td>3.6.4 final</td></tr></table></div>"
      ],
      "text/plain": [
       "--------------------------  -------------------------------\n",
       "H2O cluster uptime:         02 secs\n",
       "H2O cluster timezone:       America/New_York\n",
       "H2O data parsing timezone:  UTC\n",
       "H2O cluster version:        3.20.0.9\n",
       "H2O cluster version age:    1 month and 1 day\n",
       "H2O cluster name:           H2O_from_python_shlok_2nrgpa\n",
       "H2O cluster total nodes:    1\n",
       "H2O cluster free memory:    7.111 Gb\n",
       "H2O cluster total cores:    0\n",
       "H2O cluster allowed cores:  0\n",
       "H2O cluster status:         accepting new members, healthy\n",
       "H2O connection url:         http://127.0.0.1:54321\n",
       "H2O connection proxy:\n",
       "H2O internal security:      False\n",
       "H2O API Extensions:         Algos, AutoML, Core V3, Core V4\n",
       "Python version:             3.6.4 final\n",
       "--------------------------  -------------------------------"
      ]
     },
     "metadata": {},
     "output_type": "display_data"
    }
   ],
   "source": [
    "# Load the H2O library and start up the H2O cluter locally on your machine\n",
    "import h2o\n",
    "\n",
    "# Number of threads, nthreads = -1, means use all cores on your machine\n",
    "# max_mem_size is the maximum memory (in GB) to allocate to H2O\n",
    "h2o.init(nthreads = -1, max_mem_size = 8)"
   ]
  },
  {
   "cell_type": "code",
   "execution_count": 8,
   "metadata": {},
   "outputs": [
    {
     "name": "stdout",
     "output_type": "stream",
     "text": [
      "Parse progress: |█████████████████████████████████████████████████████████| 100%\n"
     ]
    }
   ],
   "source": [
    "data = h2o.import_file(\"insurance_revised.csv\")"
   ]
  },
  {
   "cell_type": "code",
   "execution_count": 4,
   "metadata": {},
   "outputs": [
    {
     "data": {
      "text/plain": [
       "(1338, 7)"
      ]
     },
     "execution_count": 4,
     "metadata": {},
     "output_type": "execute_result"
    }
   ],
   "source": [
    "data.shape"
   ]
  },
  {
   "cell_type": "code",
   "execution_count": 5,
   "metadata": {},
   "outputs": [
    {
     "data": {
      "text/html": [
       "<table>\n",
       "<thead>\n",
       "<tr><th style=\"text-align: right;\">  age</th><th style=\"text-align: right;\">  sex</th><th style=\"text-align: right;\">   bmi</th><th style=\"text-align: right;\">  children</th><th style=\"text-align: right;\">  smoker</th><th style=\"text-align: right;\">  region</th><th style=\"text-align: right;\">  charges</th></tr>\n",
       "</thead>\n",
       "<tbody>\n",
       "<tr><td style=\"text-align: right;\">   19</td><td style=\"text-align: right;\">    0</td><td style=\"text-align: right;\">27.9  </td><td style=\"text-align: right;\">         0</td><td style=\"text-align: right;\">       1</td><td style=\"text-align: right;\">       4</td><td style=\"text-align: right;\"> 16884.9 </td></tr>\n",
       "<tr><td style=\"text-align: right;\">   18</td><td style=\"text-align: right;\">    1</td><td style=\"text-align: right;\">33.77 </td><td style=\"text-align: right;\">         1</td><td style=\"text-align: right;\">       0</td><td style=\"text-align: right;\">       3</td><td style=\"text-align: right;\">  1725.55</td></tr>\n",
       "<tr><td style=\"text-align: right;\">   28</td><td style=\"text-align: right;\">    1</td><td style=\"text-align: right;\">33    </td><td style=\"text-align: right;\">         3</td><td style=\"text-align: right;\">       0</td><td style=\"text-align: right;\">       3</td><td style=\"text-align: right;\">  4449.46</td></tr>\n",
       "<tr><td style=\"text-align: right;\">   33</td><td style=\"text-align: right;\">    1</td><td style=\"text-align: right;\">22.705</td><td style=\"text-align: right;\">         0</td><td style=\"text-align: right;\">       0</td><td style=\"text-align: right;\">       2</td><td style=\"text-align: right;\"> 21984.5 </td></tr>\n",
       "<tr><td style=\"text-align: right;\">   32</td><td style=\"text-align: right;\">    1</td><td style=\"text-align: right;\">28.88 </td><td style=\"text-align: right;\">         0</td><td style=\"text-align: right;\">       0</td><td style=\"text-align: right;\">       2</td><td style=\"text-align: right;\">  3866.86</td></tr>\n",
       "<tr><td style=\"text-align: right;\">   31</td><td style=\"text-align: right;\">    0</td><td style=\"text-align: right;\">25.74 </td><td style=\"text-align: right;\">         0</td><td style=\"text-align: right;\">       0</td><td style=\"text-align: right;\">       3</td><td style=\"text-align: right;\">  3756.62</td></tr>\n",
       "<tr><td style=\"text-align: right;\">   46</td><td style=\"text-align: right;\">    0</td><td style=\"text-align: right;\">33.44 </td><td style=\"text-align: right;\">         1</td><td style=\"text-align: right;\">       0</td><td style=\"text-align: right;\">       3</td><td style=\"text-align: right;\">  8240.59</td></tr>\n",
       "<tr><td style=\"text-align: right;\">   37</td><td style=\"text-align: right;\">    0</td><td style=\"text-align: right;\">27.74 </td><td style=\"text-align: right;\">         3</td><td style=\"text-align: right;\">       0</td><td style=\"text-align: right;\">       2</td><td style=\"text-align: right;\">  7281.51</td></tr>\n",
       "<tr><td style=\"text-align: right;\">   37</td><td style=\"text-align: right;\">    1</td><td style=\"text-align: right;\">29.83 </td><td style=\"text-align: right;\">         2</td><td style=\"text-align: right;\">       0</td><td style=\"text-align: right;\">       1</td><td style=\"text-align: right;\">  6406.41</td></tr>\n",
       "<tr><td style=\"text-align: right;\">   60</td><td style=\"text-align: right;\">    0</td><td style=\"text-align: right;\">25.84 </td><td style=\"text-align: right;\">         0</td><td style=\"text-align: right;\">       0</td><td style=\"text-align: right;\">       2</td><td style=\"text-align: right;\"> 28923.1 </td></tr>\n",
       "</tbody>\n",
       "</table>"
      ]
     },
     "metadata": {},
     "output_type": "display_data"
    },
    {
     "data": {
      "text/plain": []
     },
     "execution_count": 5,
     "metadata": {},
     "output_type": "execute_result"
    }
   ],
   "source": [
    "data.head()"
   ]
  },
  {
   "cell_type": "code",
   "execution_count": 6,
   "metadata": {},
   "outputs": [
    {
     "name": "stdout",
     "output_type": "stream",
     "text": [
      "Rows:1338\n",
      "Cols:7\n",
      "\n",
      "\n"
     ]
    },
    {
     "data": {
      "text/html": [
       "<table>\n",
       "<thead>\n",
       "<tr><th>       </th><th>age               </th><th>sex               </th><th>bmi               </th><th>children          </th><th>smoker             </th><th>region            </th><th>charges           </th></tr>\n",
       "</thead>\n",
       "<tbody>\n",
       "<tr><td>type   </td><td>int               </td><td>int               </td><td>real              </td><td>int               </td><td>int                </td><td>int               </td><td>real              </td></tr>\n",
       "<tr><td>mins   </td><td>18.0              </td><td>0.0               </td><td>15.96             </td><td>0.0               </td><td>0.0                </td><td>1.0               </td><td>1121.8739         </td></tr>\n",
       "<tr><td>mean   </td><td>39.20702541106125 </td><td>0.5052316890881914</td><td>30.663396860986524</td><td>1.0949177877429015</td><td>0.20478325859491778</td><td>2.5156950672645735</td><td>13270.422265141255</td></tr>\n",
       "<tr><td>maxs   </td><td>64.0              </td><td>1.0               </td><td>53.13             </td><td>5.0               </td><td>1.0                </td><td>4.0               </td><td>63770.42801       </td></tr>\n",
       "<tr><td>sigma  </td><td>14.049960379216147</td><td>0.500159569284377 </td><td>6.098186911679012 </td><td>1.205492739781914 </td><td>0.4036940375456173 </td><td>1.10488491858269  </td><td>12110.011236693992</td></tr>\n",
       "<tr><td>zeros  </td><td>0                 </td><td>662               </td><td>0                 </td><td>574               </td><td>1064               </td><td>0                 </td><td>0                 </td></tr>\n",
       "<tr><td>missing</td><td>0                 </td><td>0                 </td><td>0                 </td><td>0                 </td><td>0                  </td><td>0                 </td><td>0                 </td></tr>\n",
       "<tr><td>0      </td><td>19.0              </td><td>0.0               </td><td>27.9              </td><td>0.0               </td><td>1.0                </td><td>4.0               </td><td>16884.924         </td></tr>\n",
       "<tr><td>1      </td><td>18.0              </td><td>1.0               </td><td>33.77             </td><td>1.0               </td><td>0.0                </td><td>3.0               </td><td>1725.5523         </td></tr>\n",
       "<tr><td>2      </td><td>28.0              </td><td>1.0               </td><td>33.0              </td><td>3.0               </td><td>0.0                </td><td>3.0               </td><td>4449.462          </td></tr>\n",
       "<tr><td>3      </td><td>33.0              </td><td>1.0               </td><td>22.705            </td><td>0.0               </td><td>0.0                </td><td>2.0               </td><td>21984.47061       </td></tr>\n",
       "<tr><td>4      </td><td>32.0              </td><td>1.0               </td><td>28.88             </td><td>0.0               </td><td>0.0                </td><td>2.0               </td><td>3866.8552         </td></tr>\n",
       "<tr><td>5      </td><td>31.0              </td><td>0.0               </td><td>25.74             </td><td>0.0               </td><td>0.0                </td><td>3.0               </td><td>3756.6216         </td></tr>\n",
       "<tr><td>6      </td><td>46.0              </td><td>0.0               </td><td>33.44             </td><td>1.0               </td><td>0.0                </td><td>3.0               </td><td>8240.5896         </td></tr>\n",
       "<tr><td>7      </td><td>37.0              </td><td>0.0               </td><td>27.74             </td><td>3.0               </td><td>0.0                </td><td>2.0               </td><td>7281.5056         </td></tr>\n",
       "<tr><td>8      </td><td>37.0              </td><td>1.0               </td><td>29.83             </td><td>2.0               </td><td>0.0                </td><td>1.0               </td><td>6406.4107         </td></tr>\n",
       "<tr><td>9      </td><td>60.0              </td><td>0.0               </td><td>25.84             </td><td>0.0               </td><td>0.0                </td><td>2.0               </td><td>28923.136919999997</td></tr>\n",
       "</tbody>\n",
       "</table>"
      ]
     },
     "metadata": {},
     "output_type": "display_data"
    }
   ],
   "source": [
    "data.describe()"
   ]
  },
  {
   "cell_type": "code",
   "execution_count": 7,
   "metadata": {},
   "outputs": [
    {
     "data": {
      "text/plain": [
       "['age', 'sex', 'bmi', 'children', 'smoker', 'region', 'charges']"
      ]
     },
     "execution_count": 7,
     "metadata": {},
     "output_type": "execute_result"
    }
   ],
   "source": [
    "data.columns"
   ]
  },
  {
   "cell_type": "code",
   "execution_count": 9,
   "metadata": {},
   "outputs": [],
   "source": [
    "# Define features (or predictors) manually\n",
    "features =['age', 'sex', 'bmi', 'children', 'smoker', 'region']"
   ]
  },
  {
   "cell_type": "code",
   "execution_count": 10,
   "metadata": {},
   "outputs": [],
   "source": [
    "# Split the H2O data frame into training/test sets\n",
    "# so we can evaluate out-of-bag performance\n",
    "data_split = data.split_frame(ratios = [0.9], seed = 1234)\n",
    "\n",
    "data_train = data_split[0] # using 90% for training\n",
    "data_test = data_split[1]  # using the rest 10% for out-of-bag evaluation"
   ]
  },
  {
   "cell_type": "code",
   "execution_count": 10,
   "metadata": {},
   "outputs": [
    {
     "data": {
      "text/plain": [
       "(1207, 7)"
      ]
     },
     "execution_count": 10,
     "metadata": {},
     "output_type": "execute_result"
    }
   ],
   "source": [
    "data_train.shape"
   ]
  },
  {
   "cell_type": "code",
   "execution_count": 11,
   "metadata": {},
   "outputs": [
    {
     "data": {
      "text/plain": [
       "(131, 7)"
      ]
     },
     "execution_count": 11,
     "metadata": {},
     "output_type": "execute_result"
    }
   ],
   "source": [
    "data_test.shape"
   ]
  },
  {
   "cell_type": "code",
   "execution_count": 12,
   "metadata": {},
   "outputs": [
    {
     "data": {
      "text/html": [
       "<table>\n",
       "<thead>\n",
       "<tr><th style=\"text-align: right;\">  age</th><th style=\"text-align: right;\">  sex</th><th style=\"text-align: right;\">  bmi</th><th style=\"text-align: right;\">  children</th><th style=\"text-align: right;\">  smoker</th><th style=\"text-align: right;\">  region</th><th style=\"text-align: right;\">  charges</th></tr>\n",
       "</thead>\n",
       "<tbody>\n",
       "<tr><td style=\"text-align: right;\">   19</td><td style=\"text-align: right;\">    0</td><td style=\"text-align: right;\">27.9 </td><td style=\"text-align: right;\">         0</td><td style=\"text-align: right;\">       1</td><td style=\"text-align: right;\">       4</td><td style=\"text-align: right;\"> 16884.9 </td></tr>\n",
       "<tr><td style=\"text-align: right;\">   18</td><td style=\"text-align: right;\">    1</td><td style=\"text-align: right;\">33.77</td><td style=\"text-align: right;\">         1</td><td style=\"text-align: right;\">       0</td><td style=\"text-align: right;\">       3</td><td style=\"text-align: right;\">  1725.55</td></tr>\n",
       "<tr><td style=\"text-align: right;\">   28</td><td style=\"text-align: right;\">    1</td><td style=\"text-align: right;\">33   </td><td style=\"text-align: right;\">         3</td><td style=\"text-align: right;\">       0</td><td style=\"text-align: right;\">       3</td><td style=\"text-align: right;\">  4449.46</td></tr>\n",
       "<tr><td style=\"text-align: right;\">   32</td><td style=\"text-align: right;\">    1</td><td style=\"text-align: right;\">28.88</td><td style=\"text-align: right;\">         0</td><td style=\"text-align: right;\">       0</td><td style=\"text-align: right;\">       2</td><td style=\"text-align: right;\">  3866.86</td></tr>\n",
       "<tr><td style=\"text-align: right;\">   31</td><td style=\"text-align: right;\">    0</td><td style=\"text-align: right;\">25.74</td><td style=\"text-align: right;\">         0</td><td style=\"text-align: right;\">       0</td><td style=\"text-align: right;\">       3</td><td style=\"text-align: right;\">  3756.62</td></tr>\n",
       "<tr><td style=\"text-align: right;\">   46</td><td style=\"text-align: right;\">    0</td><td style=\"text-align: right;\">33.44</td><td style=\"text-align: right;\">         1</td><td style=\"text-align: right;\">       0</td><td style=\"text-align: right;\">       3</td><td style=\"text-align: right;\">  8240.59</td></tr>\n",
       "<tr><td style=\"text-align: right;\">   37</td><td style=\"text-align: right;\">    0</td><td style=\"text-align: right;\">27.74</td><td style=\"text-align: right;\">         3</td><td style=\"text-align: right;\">       0</td><td style=\"text-align: right;\">       2</td><td style=\"text-align: right;\">  7281.51</td></tr>\n",
       "<tr><td style=\"text-align: right;\">   37</td><td style=\"text-align: right;\">    1</td><td style=\"text-align: right;\">29.83</td><td style=\"text-align: right;\">         2</td><td style=\"text-align: right;\">       0</td><td style=\"text-align: right;\">       1</td><td style=\"text-align: right;\">  6406.41</td></tr>\n",
       "<tr><td style=\"text-align: right;\">   25</td><td style=\"text-align: right;\">    1</td><td style=\"text-align: right;\">26.22</td><td style=\"text-align: right;\">         0</td><td style=\"text-align: right;\">       0</td><td style=\"text-align: right;\">       1</td><td style=\"text-align: right;\">  2721.32</td></tr>\n",
       "<tr><td style=\"text-align: right;\">   62</td><td style=\"text-align: right;\">    0</td><td style=\"text-align: right;\">26.29</td><td style=\"text-align: right;\">         0</td><td style=\"text-align: right;\">       1</td><td style=\"text-align: right;\">       3</td><td style=\"text-align: right;\"> 27808.7 </td></tr>\n",
       "</tbody>\n",
       "</table>"
      ]
     },
     "metadata": {},
     "output_type": "display_data"
    },
    {
     "data": {
      "text/plain": []
     },
     "execution_count": 12,
     "metadata": {},
     "output_type": "execute_result"
    }
   ],
   "source": [
    "data_train"
   ]
  },
  {
   "cell_type": "markdown",
   "metadata": {},
   "source": [
    "## Generalized Linear Model"
   ]
  },
  {
   "cell_type": "code",
   "execution_count": 13,
   "metadata": {},
   "outputs": [],
   "source": [
    "#Setting Parameters for grid search\n",
    "hyper_parameters = { 'alpha': [0.01,0.1,0.3,0.5,0.7,0.9], \n",
    "                     'lambda': [1e-4,1e-5,1e-6,1e-7,1e-8] }\n",
    "\n",
    "search_criteria = { 'strategy': \"RandomDiscrete\", 'seed': 42,\n",
    "                    'stopping_metric': \"AUTO\", \n",
    "                    'stopping_tolerance': 0.001,\n",
    "                    'stopping_rounds': 2 }"
   ]
  },
  {
   "cell_type": "code",
   "execution_count": 14,
   "metadata": {},
   "outputs": [],
   "source": [
    "# Build a Generalized Linear Model (GLM) with default settings\n",
    "\n",
    "# Import the function for GLM\n",
    "from h2o.estimators.glm import H2OGeneralizedLinearEstimator\n",
    "from h2o.grid.grid_search import H2OGridSearch\n",
    "\n",
    "\n",
    "glm_gridSearch = H2OGridSearch(H2OGeneralizedLinearEstimator(model_id = 'glm_hyperParam', family='poisson', nfolds=5),\n",
    "                               hyper_parameters, \n",
    "                               grid_id=\"glm_gridSearch\", \n",
    "                               search_criteria=search_criteria)"
   ]
  },
  {
   "cell_type": "code",
   "execution_count": 15,
   "metadata": {},
   "outputs": [
    {
     "name": "stdout",
     "output_type": "stream",
     "text": [
      "glm Grid Build progress: |████████████████████████████████████████████████| 100%\n"
     ]
    }
   ],
   "source": [
    "glm_girdSearch_fit = glm_gridSearch.train(x = features,\n",
    "                                         y = 'charges',\n",
    "                                         training_frame = data_train)"
   ]
  },
  {
   "cell_type": "code",
   "execution_count": 16,
   "metadata": {},
   "outputs": [],
   "source": [
    "glm_gridPerformance = glm_gridSearch.get_grid(sort_by='mse', decreasing=True)"
   ]
  },
  {
   "cell_type": "code",
   "execution_count": 17,
   "metadata": {},
   "outputs": [],
   "source": [
    "glm_gridPerformance2 = glm_gridSearch.get_grid(sort_by='r2', decreasing=True)"
   ]
  },
  {
   "cell_type": "code",
   "execution_count": 18,
   "metadata": {},
   "outputs": [
    {
     "name": "stdout",
     "output_type": "stream",
     "text": [
      "       alpha    lambda                model_ids                   mse\n",
      "0      [0.9]  [1.0E-8]  glm_gridSearch_model_16   3.784105403680041E7\n",
      "1      [0.5]  [1.0E-8]  glm_gridSearch_model_21   3.740442650011666E7\n",
      "2      [0.5]  [1.0E-4]  glm_gridSearch_model_23   3.734338330843134E7\n",
      "3      [0.1]  [1.0E-4]  glm_gridSearch_model_17   3.733000792434925E7\n",
      "4      [0.7]  [1.0E-5]  glm_gridSearch_model_11    3.72168540929851E7\n",
      "5      [0.1]  [1.0E-8]   glm_gridSearch_model_7  3.7210066171807274E7\n",
      "6      [0.7]  [1.0E-7]   glm_gridSearch_model_9   3.712078385998471E7\n",
      "7      [0.7]  [1.0E-4]  glm_gridSearch_model_25   3.711827452321806E7\n",
      "8     [0.01]  [1.0E-4]   glm_gridSearch_model_2   3.706251178286966E7\n",
      "9      [0.3]  [1.0E-6]   glm_gridSearch_model_5   3.703886357686174E7\n",
      "10     [0.9]  [1.0E-7]   glm_gridSearch_model_3   3.702251518276792E7\n",
      "11     [0.5]  [1.0E-5]  glm_gridSearch_model_22   3.700449829239779E7\n",
      "12     [0.3]  [1.0E-4]  glm_gridSearch_model_12  3.6997602179189235E7\n",
      "13     [0.1]  [1.0E-6]  glm_gridSearch_model_24    3.69903885810549E7\n",
      "14     [0.1]  [1.0E-7]   glm_gridSearch_model_4    3.69799232409696E7\n",
      "15     [0.5]  [1.0E-7]  glm_gridSearch_model_19    3.69341806953889E7\n",
      "16     [0.9]  [1.0E-5]   glm_gridSearch_model_8   3.690892229872081E7\n",
      "17     [0.1]  [1.0E-5]  glm_gridSearch_model_10   3.688642882183073E7\n",
      "18    [0.01]  [1.0E-7]  glm_gridSearch_model_14   3.682978963106071E7\n",
      "19     [0.3]  [1.0E-8]  glm_gridSearch_model_20  3.6774857170017496E7\n",
      "20     [0.3]  [1.0E-5]  glm_gridSearch_model_18   3.677296812997924E7\n",
      "21     [0.5]  [1.0E-6]  glm_gridSearch_model_27  3.6759796281155005E7\n",
      "22     [0.9]  [1.0E-4]  glm_gridSearch_model_15  3.6741234104046024E7\n",
      "23     [0.7]  [1.0E-6]  glm_gridSearch_model_26   3.672279254001756E7\n",
      "24    [0.01]  [1.0E-6]   glm_gridSearch_model_6   3.659759808512484E7\n",
      "25     [0.9]  [1.0E-6]  glm_gridSearch_model_13   3.657683978949353E7\n",
      "26    [0.01]  [1.0E-8]   glm_gridSearch_model_1   3.656722219999997E7\n",
      "27     [0.3]  [1.0E-7]   glm_gridSearch_model_0   3.655617710629118E7\n",
      "\n"
     ]
    }
   ],
   "source": [
    "print(glm_gridPerformance)"
   ]
  },
  {
   "cell_type": "code",
   "execution_count": 19,
   "metadata": {},
   "outputs": [
    {
     "name": "stdout",
     "output_type": "stream",
     "text": [
      "       alpha    lambda                model_ids                  r2\n",
      "0      [0.3]  [1.0E-7]   glm_gridSearch_model_0  0.7546477957344109\n",
      "1     [0.01]  [1.0E-8]   glm_gridSearch_model_1  0.7545736649498955\n",
      "2      [0.9]  [1.0E-6]  glm_gridSearch_model_13  0.7545091150716328\n",
      "3     [0.01]  [1.0E-6]   glm_gridSearch_model_6  0.7543697926918573\n",
      "4      [0.7]  [1.0E-6]  glm_gridSearch_model_26  0.7535295315403577\n",
      "5      [0.9]  [1.0E-4]  glm_gridSearch_model_15  0.7534057582483275\n",
      "6      [0.5]  [1.0E-6]  glm_gridSearch_model_27  0.7532811754437192\n",
      "7      [0.3]  [1.0E-5]  glm_gridSearch_model_18  0.7531927706268292\n",
      "8      [0.3]  [1.0E-8]  glm_gridSearch_model_20  0.7531800920544505\n",
      "9     [0.01]  [1.0E-7]  glm_gridSearch_model_14  0.7528114046951706\n",
      "10     [0.1]  [1.0E-5]  glm_gridSearch_model_10  0.7524312623662056\n",
      "11     [0.9]  [1.0E-5]   glm_gridSearch_model_8  0.7522802940600686\n",
      "12     [0.5]  [1.0E-7]  glm_gridSearch_model_19  0.7521107685847785\n",
      "13     [0.1]  [1.0E-7]   glm_gridSearch_model_4  0.7518037607060742\n",
      "14     [0.1]  [1.0E-6]  glm_gridSearch_model_24  0.7517335210239857\n",
      "15     [0.3]  [1.0E-4]  glm_gridSearch_model_12  0.7516851058902643\n",
      "16     [0.5]  [1.0E-5]  glm_gridSearch_model_22  0.7516388216037082\n",
      "17     [0.9]  [1.0E-7]   glm_gridSearch_model_3  0.7515178985719188\n",
      "18     [0.3]  [1.0E-6]   glm_gridSearch_model_5  0.7514081739003411\n",
      "19    [0.01]  [1.0E-4]   glm_gridSearch_model_2  0.7512494554584729\n",
      "20     [0.7]  [1.0E-4]  glm_gridSearch_model_25  0.7508751955564982\n",
      "21     [0.7]  [1.0E-7]   glm_gridSearch_model_9  0.7508583537706313\n",
      "22     [0.1]  [1.0E-8]   glm_gridSearch_model_7  0.7502591222934474\n",
      "23     [0.7]  [1.0E-5]  glm_gridSearch_model_11  0.7502135641537514\n",
      "24     [0.1]  [1.0E-4]  glm_gridSearch_model_17  0.7494541154327987\n",
      "25     [0.5]  [1.0E-4]  glm_gridSearch_model_23  0.7493643445588396\n",
      "26     [0.5]  [1.0E-8]  glm_gridSearch_model_21  0.7489546441245777\n",
      "27     [0.9]  [1.0E-8]  glm_gridSearch_model_16  0.7460241536562521\n",
      "\n"
     ]
    }
   ],
   "source": [
    "print(glm_gridPerformance2)"
   ]
  },
  {
   "cell_type": "markdown",
   "metadata": {},
   "source": [
    "## Distributed Random Forest"
   ]
  },
  {
   "cell_type": "code",
   "execution_count": 20,
   "metadata": {},
   "outputs": [],
   "source": [
    "# DRF hyperparameters\n",
    "drf_params = {'mtries': [2, 4, 6] }"
   ]
  },
  {
   "cell_type": "code",
   "execution_count": 21,
   "metadata": {},
   "outputs": [],
   "source": [
    "# Build a Distributed Random Forest (DRF) model with default settings\n",
    "\n",
    "# Import the function for DRF\n",
    "from h2o.estimators.random_forest import H2ORandomForestEstimator"
   ]
  },
  {
   "cell_type": "code",
   "execution_count": 22,
   "metadata": {},
   "outputs": [],
   "source": [
    "drf_gridSearch = H2OGridSearch(H2ORandomForestEstimator(seed = 1234, model_id = 'drf_hyperParam'), \n",
    "                                   hyper_params = drf_params,\n",
    "                                   search_criteria = {'strategy': \"Cartesian\"}, \n",
    "                                   grid_id = \"drf_gridSearch\" )"
   ]
  },
  {
   "cell_type": "code",
   "execution_count": 25,
   "metadata": {},
   "outputs": [
    {
     "name": "stdout",
     "output_type": "stream",
     "text": [
      "drf Grid Build progress: |████████████████████████████████████████████████| 100%\n"
     ]
    }
   ],
   "source": [
    "drf_gridSearch.train(x = features, y = 'charges', training_frame = data_train)"
   ]
  },
  {
   "cell_type": "code",
   "execution_count": 26,
   "metadata": {},
   "outputs": [],
   "source": [
    "drf_gridPerformance = drf_gridSearch.get_grid(sort_by='r2', decreasing=True)"
   ]
  },
  {
   "cell_type": "code",
   "execution_count": 27,
   "metadata": {},
   "outputs": [
    {
     "name": "stdout",
     "output_type": "stream",
     "text": [
      "    mtries               model_ids                  r2\n",
      "0        2  drf_gridSearch_model_0  0.8307252488500709\n",
      "1        4  drf_gridSearch_model_1  0.8229664848864364\n",
      "2        6  drf_gridSearch_model_2  0.8207937589334898\n"
     ]
    },
    {
     "data": {
      "text/plain": []
     },
     "execution_count": 27,
     "metadata": {},
     "output_type": "execute_result"
    }
   ],
   "source": [
    "drf_gridPerformance"
   ]
  },
  {
   "cell_type": "markdown",
   "metadata": {},
   "source": [
    "## Gradient Boosting Machines"
   ]
  },
  {
   "cell_type": "code",
   "execution_count": 30,
   "metadata": {},
   "outputs": [],
   "source": [
    "# Import H2O Grid Search:\n",
    "from h2o.grid.grid_search import H2OGridSearch\n",
    "\n",
    "# Import H2O GBM:\n",
    "from h2o.estimators.gbm import H2OGradientBoostingEstimator"
   ]
  },
  {
   "cell_type": "code",
   "execution_count": 29,
   "metadata": {},
   "outputs": [],
   "source": [
    "# GBM hyperparameters\n",
    "gbm_params = {'learn_rate': [0.01, 0.1], \n",
    "                'max_depth': [3, 5, 9],\n",
    "                'sample_rate': [0.8, 1.0],\n",
    "                'col_sample_rate': [0.2, 0.5, 1.0]}"
   ]
  },
  {
   "cell_type": "code",
   "execution_count": 30,
   "metadata": {},
   "outputs": [
    {
     "name": "stdout",
     "output_type": "stream",
     "text": [
      "gbm Grid Build progress: |████████████████████████████████████████████████| 100%\n"
     ]
    }
   ],
   "source": [
    "gbm_gridSearch = H2OGridSearch(model=H2OGradientBoostingEstimator,\n",
    "                          grid_id='gbm_grid1',\n",
    "                          hyper_params=gbm_params)\n",
    "gbm_gridSearch.train(x=features, y='charges', \n",
    "                training_frame=data_train, \n",
    "                ntrees=100,\n",
    "                seed=1)"
   ]
  },
  {
   "cell_type": "code",
   "execution_count": 31,
   "metadata": {},
   "outputs": [],
   "source": [
    "gbm_gridPerf = gbm_gridSearch.get_grid(sort_by='r2', decreasing=True)"
   ]
  },
  {
   "cell_type": "code",
   "execution_count": 32,
   "metadata": {},
   "outputs": [
    {
     "name": "stdout",
     "output_type": "stream",
     "text": [
      "     col_sample_rate learn_rate max_depth sample_rate           model_ids  \\\n",
      "0                1.0        0.1         9         0.8  gbm_grid1_model_17   \n",
      "1                0.5        0.1         9         1.0  gbm_grid1_model_34   \n",
      "2                0.5        0.1         9         0.8  gbm_grid1_model_16   \n",
      "3                1.0        0.1         9         1.0  gbm_grid1_model_35   \n",
      "4                0.2        0.1         9         1.0  gbm_grid1_model_33   \n",
      "5                0.2        0.1         9         0.8  gbm_grid1_model_15   \n",
      "6                1.0        0.1         5         0.8  gbm_grid1_model_11   \n",
      "7                0.5        0.1         5         1.0  gbm_grid1_model_28   \n",
      "8                0.5        0.1         5         0.8  gbm_grid1_model_10   \n",
      "9                1.0        0.1         5         1.0  gbm_grid1_model_29   \n",
      "10               0.2        0.1         5         0.8   gbm_grid1_model_9   \n",
      "11               0.2        0.1         5         1.0  gbm_grid1_model_27   \n",
      "12               1.0        0.1         3         1.0  gbm_grid1_model_23   \n",
      "13               1.0        0.1         3         0.8   gbm_grid1_model_5   \n",
      "14               0.5        0.1         3         1.0  gbm_grid1_model_22   \n",
      "15               0.5        0.1         3         0.8   gbm_grid1_model_4   \n",
      "16               0.2        0.1         3         0.8   gbm_grid1_model_3   \n",
      "17               0.2        0.1         3         1.0  gbm_grid1_model_21   \n",
      "18               1.0       0.01         9         1.0  gbm_grid1_model_32   \n",
      "19               1.0       0.01         9         0.8  gbm_grid1_model_14   \n",
      "20               0.5       0.01         9         1.0  gbm_grid1_model_31   \n",
      "21               0.5       0.01         9         0.8  gbm_grid1_model_13   \n",
      "22               1.0       0.01         5         0.8   gbm_grid1_model_8   \n",
      "23               1.0       0.01         5         1.0  gbm_grid1_model_26   \n",
      "24               0.5       0.01         5         1.0  gbm_grid1_model_25   \n",
      "25               0.5       0.01         5         0.8   gbm_grid1_model_7   \n",
      "26               1.0       0.01         3         0.8   gbm_grid1_model_2   \n",
      "27               1.0       0.01         3         1.0  gbm_grid1_model_20   \n",
      "28               0.5       0.01         3         0.8   gbm_grid1_model_1   \n",
      "29               0.5       0.01         3         1.0  gbm_grid1_model_19   \n",
      "30               0.2       0.01         9         1.0  gbm_grid1_model_30   \n",
      "31               0.2       0.01         9         0.8  gbm_grid1_model_12   \n",
      "32               0.2       0.01         5         1.0  gbm_grid1_model_24   \n",
      "33               0.2       0.01         5         0.8   gbm_grid1_model_6   \n",
      "34               0.2       0.01         3         1.0  gbm_grid1_model_18   \n",
      "35               0.2       0.01         3         0.8   gbm_grid1_model_0   \n",
      "\n",
      "                    r2  \n",
      "0   0.9519292064699834  \n",
      "1   0.9510146591432265  \n",
      "2    0.950415889966047  \n",
      "3   0.9444481958030226  \n",
      "4   0.9333890501164475  \n",
      "5   0.9306051234799826  \n",
      "6   0.9132893665960944  \n",
      "7   0.9112360207974295  \n",
      "8   0.9100160059195034  \n",
      "9   0.9086486130383824  \n",
      "10  0.9010063193849979  \n",
      "11  0.8978484034055678  \n",
      "12  0.8874117912347993  \n",
      "13  0.8869978958545612  \n",
      "14  0.8850996160265073  \n",
      "15  0.8845346158738008  \n",
      "16  0.8648799507441369  \n",
      "17  0.8616264853988777  \n",
      "18  0.7765758750929864  \n",
      "19  0.7738629017184694  \n",
      "20  0.7708148176945373  \n",
      "21  0.7646500340286774  \n",
      "22  0.7613120422237238  \n",
      "23  0.7603593268146666  \n",
      "24  0.7507434572860807  \n",
      "25  0.7485891199254214  \n",
      "26  0.7450203532756036  \n",
      "27  0.7440269012683369  \n",
      "28  0.7100420909695491  \n",
      "29  0.7094833015333739  \n",
      "30  0.6753199152882227  \n",
      "31  0.6509755542269735  \n",
      "32  0.6243663814530667  \n",
      "33  0.6077415973619995  \n",
      "34  0.4824193888979126  \n",
      "35  0.4746946325348075  \n"
     ]
    },
    {
     "data": {
      "text/plain": []
     },
     "execution_count": 32,
     "metadata": {},
     "output_type": "execute_result"
    }
   ],
   "source": [
    "gbm_gridPerf"
   ]
  },
  {
   "cell_type": "markdown",
   "metadata": {},
   "source": [
    "## Deep Learning"
   ]
  },
  {
   "cell_type": "code",
   "execution_count": 33,
   "metadata": {},
   "outputs": [],
   "source": [
    "# Build a Deep Learning (Deep Neural Networks, DNN) model with default settings\n",
    "\n",
    "# Import the function for DNN\n",
    "from h2o.estimators.deeplearning import H2ODeepLearningEstimator"
   ]
  },
  {
   "cell_type": "code",
   "execution_count": 34,
   "metadata": {},
   "outputs": [],
   "source": [
    "# DL hyperparameters\n",
    "activation_opt = [\"Rectifier\", \"RectifierWithDropout\", \"Maxout\", \"MaxoutWithDropout\"]\n",
    "l1_opt = [0, 0.00001, 0.0001, 0.001, 0.01, 0.1]\n",
    "l2_opt = [0, 0.00001, 0.0001, 0.001, 0.01, 0.1]\n",
    "dl_params = {'activation': activation_opt, 'l1': l1_opt, 'l2': l2_opt}"
   ]
  },
  {
   "cell_type": "code",
   "execution_count": 35,
   "metadata": {},
   "outputs": [],
   "source": [
    "# Search criteria\n",
    "search_criteria = {'strategy': 'RandomDiscrete', 'max_runtime_secs': 120, 'seed':1}"
   ]
  },
  {
   "cell_type": "code",
   "execution_count": 36,
   "metadata": {},
   "outputs": [],
   "source": [
    "dl_gridSearch = H2OGridSearch(model=H2ODeepLearningEstimator,\n",
    "                        grid_id='dl_grid',\n",
    "                        hyper_params=dl_params,\n",
    "                        search_criteria=search_criteria)"
   ]
  },
  {
   "cell_type": "code",
   "execution_count": 37,
   "metadata": {},
   "outputs": [
    {
     "name": "stdout",
     "output_type": "stream",
     "text": [
      "deeplearning Grid Build progress: |███████████████████████████████████████| 100%\n"
     ]
    }
   ],
   "source": [
    "dl_gridSearch.train(x=features, y='charges',\n",
    "              training_frame=data_train,              \n",
    "              hidden=[10,10],          \n",
    "              search_criteria=search_criteria)\n"
   ]
  },
  {
   "cell_type": "code",
   "execution_count": 39,
   "metadata": {},
   "outputs": [],
   "source": [
    "dl_gridPerf = dl_gridSearch.get_grid(sort_by='r2', decreasing=True)"
   ]
  },
  {
   "cell_type": "code",
   "execution_count": 40,
   "metadata": {},
   "outputs": [
    {
     "name": "stdout",
     "output_type": "stream",
     "text": [
      "                  activation      l1      l2          model_ids  \\\n",
      "0                     Maxout  1.0E-5     0.0   dl_grid_model_84   \n",
      "1                     Maxout   0.001    0.01   dl_grid_model_60   \n",
      "2                     Maxout     0.0   0.001   dl_grid_model_78   \n",
      "3                  Rectifier  1.0E-4   0.001   dl_grid_model_36   \n",
      "4                  Rectifier     0.0     0.0  dl_grid_model_104   \n",
      "5                  Rectifier  1.0E-5   0.001  dl_grid_model_140   \n",
      "6                     Maxout    0.01  1.0E-4   dl_grid_model_82   \n",
      "7                  Rectifier    0.01     0.0   dl_grid_model_21   \n",
      "8                  Rectifier  1.0E-5  1.0E-5  dl_grid_model_127   \n",
      "9                     Maxout    0.01   0.001  dl_grid_model_119   \n",
      "10                    Maxout  1.0E-5   0.001   dl_grid_model_35   \n",
      "11                    Maxout   0.001  1.0E-4  dl_grid_model_110   \n",
      "12                 Rectifier  1.0E-5  1.0E-4   dl_grid_model_49   \n",
      "13                    Maxout     0.0     0.0   dl_grid_model_58   \n",
      "14                 Rectifier   0.001   0.001  dl_grid_model_101   \n",
      "15                 Rectifier    0.01  1.0E-5   dl_grid_model_39   \n",
      "16                    Maxout  1.0E-4     0.1  dl_grid_model_118   \n",
      "17                 Rectifier   0.001    0.01   dl_grid_model_79   \n",
      "18                 Rectifier    0.01  1.0E-4   dl_grid_model_53   \n",
      "19                    Maxout  1.0E-5     0.1   dl_grid_model_42   \n",
      "20                    Maxout  1.0E-4    0.01  dl_grid_model_117   \n",
      "21                    Maxout  1.0E-4  1.0E-4  dl_grid_model_116   \n",
      "22                 Rectifier  1.0E-5    0.01   dl_grid_model_98   \n",
      "23                    Maxout  1.0E-4  1.0E-5  dl_grid_model_108   \n",
      "24                    Maxout     0.0    0.01   dl_grid_model_34   \n",
      "25                    Maxout  1.0E-5    0.01   dl_grid_model_20   \n",
      "26                 Rectifier   0.001  1.0E-5   dl_grid_model_74   \n",
      "27                    Maxout    0.01     0.0   dl_grid_model_76   \n",
      "28                    Maxout  1.0E-5  1.0E-5    dl_grid_model_3   \n",
      "29                 Rectifier    0.01   0.001  dl_grid_model_138   \n",
      "..  ..                   ...     ...     ...                ...   \n",
      "114     RectifierWithDropout  1.0E-4    0.01    dl_grid_model_1   \n",
      "115        MaxoutWithDropout   0.001     0.0    dl_grid_model_4   \n",
      "116     RectifierWithDropout     0.0  1.0E-5   dl_grid_model_95   \n",
      "117     RectifierWithDropout  1.0E-5  1.0E-5   dl_grid_model_75   \n",
      "118     RectifierWithDropout     0.0   0.001   dl_grid_model_12   \n",
      "119        MaxoutWithDropout  1.0E-5  1.0E-5  dl_grid_model_109   \n",
      "120     RectifierWithDropout     0.0     0.1   dl_grid_model_93   \n",
      "121        MaxoutWithDropout     0.1    0.01  dl_grid_model_106   \n",
      "122     RectifierWithDropout    0.01  1.0E-5   dl_grid_model_32   \n",
      "123     RectifierWithDropout  1.0E-5     0.1  dl_grid_model_130   \n",
      "124     RectifierWithDropout   0.001   0.001  dl_grid_model_129   \n",
      "125     RectifierWithDropout  1.0E-5  1.0E-4   dl_grid_model_62   \n",
      "126     RectifierWithDropout    0.01    0.01    dl_grid_model_2   \n",
      "127     RectifierWithDropout    0.01     0.0   dl_grid_model_86   \n",
      "128        MaxoutWithDropout     0.1     0.1   dl_grid_model_27   \n",
      "129     RectifierWithDropout  1.0E-5   0.001   dl_grid_model_85   \n",
      "130     RectifierWithDropout  1.0E-5     0.0   dl_grid_model_28   \n",
      "131     RectifierWithDropout  1.0E-4     0.0  dl_grid_model_114   \n",
      "132     RectifierWithDropout   0.001     0.1  dl_grid_model_115   \n",
      "133        MaxoutWithDropout     0.1  1.0E-4    dl_grid_model_6   \n",
      "134        MaxoutWithDropout     0.1  1.0E-5   dl_grid_model_80   \n",
      "135        MaxoutWithDropout     0.1     0.0   dl_grid_model_26   \n",
      "136     RectifierWithDropout  1.0E-4  1.0E-4   dl_grid_model_64   \n",
      "137     RectifierWithDropout     0.1   0.001  dl_grid_model_126   \n",
      "138     RectifierWithDropout   0.001  1.0E-4  dl_grid_model_120   \n",
      "139     RectifierWithDropout     0.1     0.0   dl_grid_model_96   \n",
      "140     RectifierWithDropout     0.1    0.01    dl_grid_model_8   \n",
      "141     RectifierWithDropout     0.1  1.0E-5  dl_grid_model_133   \n",
      "142     RectifierWithDropout     0.1  1.0E-4   dl_grid_model_33   \n",
      "143     RectifierWithDropout     0.1     0.1   dl_grid_model_73   \n",
      "\n",
      "                      r2  \n",
      "0     0.8488959556671316  \n",
      "1     0.8487989398121352  \n",
      "2     0.8472417216811412  \n",
      "3     0.8463651655489814  \n",
      "4     0.8457885200195894  \n",
      "5      0.845402802051656  \n",
      "6     0.8434929470154304  \n",
      "7     0.8428566976540687  \n",
      "8     0.8423958046755429  \n",
      "9     0.8416518808381362  \n",
      "10    0.8404987033953721  \n",
      "11     0.839738458141314  \n",
      "12    0.8393369712545301  \n",
      "13    0.8393122605354528  \n",
      "14    0.8382666902807576  \n",
      "15    0.8382569442095889  \n",
      "16    0.8374824658707412  \n",
      "17    0.8374786253557337  \n",
      "18    0.8373561726509475  \n",
      "19    0.8373189206252984  \n",
      "20    0.8372001248882857  \n",
      "21    0.8369806478340621  \n",
      "22    0.8367385870096345  \n",
      "23    0.8367165365262195  \n",
      "24    0.8366527902402933  \n",
      "25     0.836213532469388  \n",
      "26     0.836197099645311  \n",
      "27    0.8361791928544878  \n",
      "28    0.8357167486411444  \n",
      "29    0.8355156760100966  \n",
      "..                   ...  \n",
      "114    0.603378665509117  \n",
      "115   0.6024056064439649  \n",
      "116   0.6016050752290892  \n",
      "117   0.6005263136853558  \n",
      "118   0.5996800914264199  \n",
      "119    0.592590383965723  \n",
      "120   0.5909394373951657  \n",
      "121   0.5874800654533578  \n",
      "122   0.5797937320045672  \n",
      "123   0.5729025716137608  \n",
      "124   0.5709125981051433  \n",
      "125   0.5683704280171316  \n",
      "126   0.5681617460550257  \n",
      "127    0.558535432712234  \n",
      "128   0.5552971935050699  \n",
      "129   0.5545060668838131  \n",
      "130   0.5428769237236922  \n",
      "131   0.5370984947120824  \n",
      "132   0.5354256360407192  \n",
      "133   0.5348813307016658  \n",
      "134   0.5215923144869109  \n",
      "135   0.5184930289683686  \n",
      "136    0.488842883293252  \n",
      "137  0.46498935361176175  \n",
      "138   0.4490924080837362  \n",
      "139   0.4300651233894738  \n",
      "140  0.40080223834135853  \n",
      "141   0.3991384967389584  \n",
      "142   0.3598895224212989  \n",
      "143   0.2993502949964443  \n",
      "\n",
      "[144 rows x 6 columns]\n"
     ]
    },
    {
     "data": {
      "text/plain": []
     },
     "execution_count": 40,
     "metadata": {},
     "output_type": "execute_result"
    }
   ],
   "source": [
    "dl_gridPerf"
   ]
  },
  {
   "cell_type": "markdown",
   "metadata": {},
   "source": [
    "## AutoML"
   ]
  },
  {
   "cell_type": "code",
   "execution_count": 41,
   "metadata": {},
   "outputs": [],
   "source": [
    "from h2o.automl import H2OAutoML"
   ]
  },
  {
   "cell_type": "markdown",
   "metadata": {},
   "source": [
    "Run AutoML, stopping after 60 seconds. The max_runtime_secs argument provides a way to limit the AutoML run by time. When using a time-limited stopping criterion, the number of models train will vary between runs. If different hardware is used or even if the same machine is used but the available compute resources on that machine are not the same between runs, then AutoML may be able to train more models on one run vs another.\n",
    "\n",
    "The test frame is passed explicitly to the leaderboard_frame argument here, which means that instead of using cross-validated metrics, we use test set metrics for generating the leaderboard."
   ]
  },
  {
   "cell_type": "code",
   "execution_count": 42,
   "metadata": {},
   "outputs": [
    {
     "name": "stdout",
     "output_type": "stream",
     "text": [
      "AutoML progress: |████████████████████████████████████████████████████████| 100%\n"
     ]
    }
   ],
   "source": [
    "aml = H2OAutoML(max_runtime_secs = 60, seed = 1, project_name = \"Insurance_Appointment\")\n",
    "aml.train(y = 'charges', training_frame = data_train, leaderboard_frame = data_test)"
   ]
  },
  {
   "cell_type": "code",
   "execution_count": 43,
   "metadata": {},
   "outputs": [
    {
     "name": "stdout",
     "output_type": "stream",
     "text": [
      "AutoML progress: |████████████████████████████████████████████████████████| 100%\n"
     ]
    }
   ],
   "source": [
    "aml2 = H2OAutoML(max_runtime_secs = 60, seed = 1, project_name = \"Insurance_Appointment_CV\")\n",
    "aml2.train(y = 'charges', training_frame = data_train)"
   ]
  },
  {
   "cell_type": "markdown",
   "metadata": {},
   "source": [
    "For demonstration purposes, we will also execute a second AutoML run, this time providing the original, full dataset, df (without passing a leaderboard_frame). This is a more efficient use of our data since we can use 100% of the data for training, rather than 80% like we did above. This time our leaderboard will use cross-validated metrics.\n",
    "\n",
    "Note: Using an explicit leaderboard_frame for scoring may be useful in some cases, which is why the option is available."
   ]
  },
  {
   "cell_type": "code",
   "execution_count": 44,
   "metadata": {},
   "outputs": [
    {
     "name": "stdout",
     "output_type": "stream",
     "text": [
      "AutoML progress: |████████████████████████████████████████████████████████| 100%\n"
     ]
    }
   ],
   "source": [
    "aml3 = H2OAutoML(max_runtime_secs = 60, seed = 1, project_name = \"Insurance_Appointment_full_data\")\n",
    "aml3.train(y = 'charges', training_frame = data)"
   ]
  },
  {
   "cell_type": "markdown",
   "metadata": {},
   "source": [
    "## Leaderboard\n",
    "\n",
    "Next, we will view the AutoML Leaderboard. Since we specified a leaderboard_frame in the H2OAutoML.train() method for scoring and ranking the models, the AutoML leaderboard uses the performance on this data to rank the models.\n",
    "\n",
    "After viewing the \"powerplant_lb_frame\" AutoML project leaderboard, we compare that to the leaderboard for the \"powerplant_full_data\" project. We can see that the results are better when the full dataset is used for training.\n",
    "\n",
    "A default performance metric for each machine learning task (binary classification, multiclass classification, regression) is specified internally and the leaderboard will be sorted by that metric. In the case of regression, the default ranking metric is mean residual deviance. In the future, the user will be able to specify any of the H2O metrics so that different metrics can be used to generate rankings on the leaderboard."
   ]
  },
  {
   "cell_type": "code",
   "execution_count": 45,
   "metadata": {},
   "outputs": [
    {
     "data": {
      "text/html": [
       "<table>\n",
       "<thead>\n",
       "<tr><th>model_id                                  </th><th style=\"text-align: right;\">  mean_residual_deviance</th><th style=\"text-align: right;\">   rmse</th><th style=\"text-align: right;\">        mse</th><th style=\"text-align: right;\">    mae</th><th style=\"text-align: right;\">   rmsle</th></tr>\n",
       "</thead>\n",
       "<tbody>\n",
       "<tr><td>GBM_grid_0_AutoML_20181027_123216_model_54</td><td style=\"text-align: right;\">             1.13756e+07</td><td style=\"text-align: right;\">3372.77</td><td style=\"text-align: right;\">1.13756e+07</td><td style=\"text-align: right;\">2096.05</td><td style=\"text-align: right;\">0.353928</td></tr>\n",
       "<tr><td>GBM_grid_0_AutoML_20181027_123216_model_21</td><td style=\"text-align: right;\">             1.20766e+07</td><td style=\"text-align: right;\">3475.15</td><td style=\"text-align: right;\">1.20766e+07</td><td style=\"text-align: right;\">2142.98</td><td style=\"text-align: right;\">0.363244</td></tr>\n",
       "<tr><td>GBM_grid_0_AutoML_20181027_123216_model_31</td><td style=\"text-align: right;\">             1.21575e+07</td><td style=\"text-align: right;\">3486.77</td><td style=\"text-align: right;\">1.21575e+07</td><td style=\"text-align: right;\">2227.47</td><td style=\"text-align: right;\">0.403044</td></tr>\n",
       "<tr><td>GBM_grid_0_AutoML_20181027_123216_model_52</td><td style=\"text-align: right;\">             1.24557e+07</td><td style=\"text-align: right;\">3529.26</td><td style=\"text-align: right;\">1.24557e+07</td><td style=\"text-align: right;\">2244.21</td><td style=\"text-align: right;\">0.393175</td></tr>\n",
       "<tr><td>GBM_grid_0_AutoML_20181027_123216_model_28</td><td style=\"text-align: right;\">             1.28733e+07</td><td style=\"text-align: right;\">3587.93</td><td style=\"text-align: right;\">1.28733e+07</td><td style=\"text-align: right;\">2327.65</td><td style=\"text-align: right;\">0.384389</td></tr>\n",
       "<tr><td>GBM_grid_0_AutoML_20181027_123216_model_43</td><td style=\"text-align: right;\">             1.29534e+07</td><td style=\"text-align: right;\">3599.08</td><td style=\"text-align: right;\">1.29534e+07</td><td style=\"text-align: right;\">2344.52</td><td style=\"text-align: right;\">0.379596</td></tr>\n",
       "<tr><td>GBM_grid_0_AutoML_20181027_123216_model_45</td><td style=\"text-align: right;\">             1.33297e+07</td><td style=\"text-align: right;\">3650.99</td><td style=\"text-align: right;\">1.33297e+07</td><td style=\"text-align: right;\">2273.3 </td><td style=\"text-align: right;\">0.389622</td></tr>\n",
       "<tr><td>GBM_grid_0_AutoML_20181027_123216_model_1 </td><td style=\"text-align: right;\">             1.3341e+07 </td><td style=\"text-align: right;\">3652.53</td><td style=\"text-align: right;\">1.3341e+07 </td><td style=\"text-align: right;\">2409.54</td><td style=\"text-align: right;\">0.416542</td></tr>\n",
       "<tr><td>GBM_grid_0_AutoML_20181027_123216_model_23</td><td style=\"text-align: right;\">             1.361e+07  </td><td style=\"text-align: right;\">3689.17</td><td style=\"text-align: right;\">1.361e+07  </td><td style=\"text-align: right;\">2301.27</td><td style=\"text-align: right;\">0.397381</td></tr>\n",
       "<tr><td>GBM_grid_0_AutoML_20181027_123216_model_46</td><td style=\"text-align: right;\">             1.36954e+07</td><td style=\"text-align: right;\">3700.72</td><td style=\"text-align: right;\">1.36954e+07</td><td style=\"text-align: right;\">2526.09</td><td style=\"text-align: right;\">0.444603</td></tr>\n",
       "</tbody>\n",
       "</table>"
      ]
     },
     "metadata": {},
     "output_type": "display_data"
    },
    {
     "data": {
      "text/plain": []
     },
     "execution_count": 45,
     "metadata": {},
     "output_type": "execute_result"
    }
   ],
   "source": [
    "aml.leaderboard.head()"
   ]
  },
  {
   "cell_type": "markdown",
   "metadata": {},
   "source": [
    "Now we will view a snapshot of the top models. Here we should see the two Stacked Ensembles at or near the top of the leaderboard. Stacked Ensembles can almost always outperform a single model."
   ]
  },
  {
   "cell_type": "code",
   "execution_count": 46,
   "metadata": {},
   "outputs": [
    {
     "data": {
      "text/html": [
       "<table>\n",
       "<thead>\n",
       "<tr><th>model_id                                  </th><th style=\"text-align: right;\">  mean_residual_deviance</th><th style=\"text-align: right;\">   rmse</th><th style=\"text-align: right;\">        mse</th><th style=\"text-align: right;\">    mae</th><th style=\"text-align: right;\">     rmsle</th></tr>\n",
       "</thead>\n",
       "<tbody>\n",
       "<tr><td>GBM_grid_0_AutoML_20181027_123404_model_31</td><td style=\"text-align: right;\">             2.24506e+07</td><td style=\"text-align: right;\">4738.21</td><td style=\"text-align: right;\">2.24506e+07</td><td style=\"text-align: right;\">2725.46</td><td style=\"text-align: right;\">  0.456319</td></tr>\n",
       "<tr><td>GBM_grid_0_AutoML_20181027_123404_model_54</td><td style=\"text-align: right;\">             2.25127e+07</td><td style=\"text-align: right;\">4744.75</td><td style=\"text-align: right;\">2.25127e+07</td><td style=\"text-align: right;\">2704.39</td><td style=\"text-align: right;\">  0.441204</td></tr>\n",
       "<tr><td>GBM_grid_0_AutoML_20181027_123404_model_28</td><td style=\"text-align: right;\">             2.43348e+07</td><td style=\"text-align: right;\">4933.03</td><td style=\"text-align: right;\">2.43348e+07</td><td style=\"text-align: right;\">3003.43</td><td style=\"text-align: right;\">  0.458959</td></tr>\n",
       "<tr><td>GBM_grid_0_AutoML_20181027_123404_model_23</td><td style=\"text-align: right;\">             2.44006e+07</td><td style=\"text-align: right;\">4939.7 </td><td style=\"text-align: right;\">2.44006e+07</td><td style=\"text-align: right;\">2930.57</td><td style=\"text-align: right;\">  0.475415</td></tr>\n",
       "<tr><td>GBM_grid_0_AutoML_20181027_123404_model_21</td><td style=\"text-align: right;\">             2.45335e+07</td><td style=\"text-align: right;\">4953.13</td><td style=\"text-align: right;\">2.45335e+07</td><td style=\"text-align: right;\">2814.64</td><td style=\"text-align: right;\">  0.479546</td></tr>\n",
       "<tr><td>GBM_grid_0_AutoML_20181027_123404_model_45</td><td style=\"text-align: right;\">             2.45823e+07</td><td style=\"text-align: right;\">4958.05</td><td style=\"text-align: right;\">2.45823e+07</td><td style=\"text-align: right;\">2891.94</td><td style=\"text-align: right;\">  0.490887</td></tr>\n",
       "<tr><td>GBM_grid_0_AutoML_20181027_123404_model_43</td><td style=\"text-align: right;\">             2.4623e+07 </td><td style=\"text-align: right;\">4962.16</td><td style=\"text-align: right;\">2.4623e+07 </td><td style=\"text-align: right;\">2990.04</td><td style=\"text-align: right;\">  0.459616</td></tr>\n",
       "<tr><td>GBM_grid_0_AutoML_20181027_123404_model_6 </td><td style=\"text-align: right;\">             2.50316e+07</td><td style=\"text-align: right;\">5003.16</td><td style=\"text-align: right;\">2.50316e+07</td><td style=\"text-align: right;\">3317.03</td><td style=\"text-align: right;\">  0.514075</td></tr>\n",
       "<tr><td>GBM_grid_0_AutoML_20181027_123404_model_36</td><td style=\"text-align: right;\">             2.52922e+07</td><td style=\"text-align: right;\">5029.14</td><td style=\"text-align: right;\">2.52922e+07</td><td style=\"text-align: right;\">2971.72</td><td style=\"text-align: right;\">nan       </td></tr>\n",
       "<tr><td>GBM_grid_0_AutoML_20181027_123404_model_10</td><td style=\"text-align: right;\">             2.54806e+07</td><td style=\"text-align: right;\">5047.83</td><td style=\"text-align: right;\">2.54806e+07</td><td style=\"text-align: right;\">3058.74</td><td style=\"text-align: right;\">  0.488135</td></tr>\n",
       "</tbody>\n",
       "</table>"
      ]
     },
     "metadata": {},
     "output_type": "display_data"
    },
    {
     "data": {
      "text/plain": []
     },
     "execution_count": 46,
     "metadata": {},
     "output_type": "execute_result"
    }
   ],
   "source": [
    "aml2.leaderboard.head()"
   ]
  },
  {
   "cell_type": "code",
   "execution_count": 47,
   "metadata": {},
   "outputs": [
    {
     "data": {
      "text/html": [
       "<table>\n",
       "<thead>\n",
       "<tr><th>model_id                                  </th><th style=\"text-align: right;\">  mean_residual_deviance</th><th style=\"text-align: right;\">   rmse</th><th style=\"text-align: right;\">        mse</th><th style=\"text-align: right;\">    mae</th><th style=\"text-align: right;\">   rmsle</th></tr>\n",
       "</thead>\n",
       "<tbody>\n",
       "<tr><td>GBM_grid_0_AutoML_20181027_123608_model_54</td><td style=\"text-align: right;\">             1.96475e+07</td><td style=\"text-align: right;\">4432.55</td><td style=\"text-align: right;\">1.96475e+07</td><td style=\"text-align: right;\">2415.68</td><td style=\"text-align: right;\">0.390348</td></tr>\n",
       "<tr><td>GBM_grid_0_AutoML_20181027_123608_model_31</td><td style=\"text-align: right;\">             1.99015e+07</td><td style=\"text-align: right;\">4461.11</td><td style=\"text-align: right;\">1.99015e+07</td><td style=\"text-align: right;\">2476.01</td><td style=\"text-align: right;\">0.416367</td></tr>\n",
       "<tr><td>GBM_grid_0_AutoML_20181027_123608_model_45</td><td style=\"text-align: right;\">             2.05282e+07</td><td style=\"text-align: right;\">4530.8 </td><td style=\"text-align: right;\">2.05282e+07</td><td style=\"text-align: right;\">2521.15</td><td style=\"text-align: right;\">0.430383</td></tr>\n",
       "<tr><td>GBM_grid_0_AutoML_20181027_123608_model_21</td><td style=\"text-align: right;\">             2.1118e+07 </td><td style=\"text-align: right;\">4595.43</td><td style=\"text-align: right;\">2.1118e+07 </td><td style=\"text-align: right;\">2524.27</td><td style=\"text-align: right;\">0.424965</td></tr>\n",
       "<tr><td>GBM_grid_0_AutoML_20181027_123608_model_43</td><td style=\"text-align: right;\">             2.11722e+07</td><td style=\"text-align: right;\">4601.32</td><td style=\"text-align: right;\">2.11722e+07</td><td style=\"text-align: right;\">2654.21</td><td style=\"text-align: right;\">0.416275</td></tr>\n",
       "<tr><td>GBM_grid_0_AutoML_20181027_123608_model_28</td><td style=\"text-align: right;\">             2.14511e+07</td><td style=\"text-align: right;\">4631.53</td><td style=\"text-align: right;\">2.14511e+07</td><td style=\"text-align: right;\">2687.13</td><td style=\"text-align: right;\">0.415292</td></tr>\n",
       "<tr><td>GBM_grid_0_AutoML_20181027_123608_model_23</td><td style=\"text-align: right;\">             2.14946e+07</td><td style=\"text-align: right;\">4636.23</td><td style=\"text-align: right;\">2.14946e+07</td><td style=\"text-align: right;\">2653.48</td><td style=\"text-align: right;\">0.435689</td></tr>\n",
       "<tr><td>GBM_grid_0_AutoML_20181027_123608_model_52</td><td style=\"text-align: right;\">             2.17847e+07</td><td style=\"text-align: right;\">4667.41</td><td style=\"text-align: right;\">2.17847e+07</td><td style=\"text-align: right;\">2584.01</td><td style=\"text-align: right;\">0.425546</td></tr>\n",
       "<tr><td>GBM_grid_0_AutoML_20181027_123608_model_6 </td><td style=\"text-align: right;\">             2.18274e+07</td><td style=\"text-align: right;\">4671.99</td><td style=\"text-align: right;\">2.18274e+07</td><td style=\"text-align: right;\">2990.47</td><td style=\"text-align: right;\">0.479888</td></tr>\n",
       "<tr><td>GBM_grid_0_AutoML_20181027_123608_model_36</td><td style=\"text-align: right;\">             2.19706e+07</td><td style=\"text-align: right;\">4687.28</td><td style=\"text-align: right;\">2.19706e+07</td><td style=\"text-align: right;\">2660.98</td><td style=\"text-align: right;\">0.442723</td></tr>\n",
       "</tbody>\n",
       "</table>"
      ]
     },
     "metadata": {},
     "output_type": "display_data"
    },
    {
     "data": {
      "text/plain": []
     },
     "execution_count": 47,
     "metadata": {},
     "output_type": "execute_result"
    }
   ],
   "source": [
    "aml3.leaderboard.head()"
   ]
  },
  {
   "cell_type": "markdown",
   "metadata": {},
   "source": [
    "## Predict Using Leader Model\n",
    "If you need to generate predictions on a test set, you can make predictions on the \"H2OAutoML\" object directly, or on the leader model object."
   ]
  },
  {
   "cell_type": "code",
   "execution_count": 48,
   "metadata": {},
   "outputs": [
    {
     "name": "stdout",
     "output_type": "stream",
     "text": [
      "gbm prediction progress: |████████████████████████████████████████████████| 100%\n"
     ]
    },
    {
     "data": {
      "text/html": [
       "<table>\n",
       "<thead>\n",
       "<tr><th style=\"text-align: right;\">  predict</th></tr>\n",
       "</thead>\n",
       "<tbody>\n",
       "<tr><td style=\"text-align: right;\">  4385.37</td></tr>\n",
       "<tr><td style=\"text-align: right;\"> 14647.9 </td></tr>\n",
       "<tr><td style=\"text-align: right;\"> 11442.7 </td></tr>\n",
       "<tr><td style=\"text-align: right;\"> 38811.7 </td></tr>\n",
       "<tr><td style=\"text-align: right;\"> 15281.1 </td></tr>\n",
       "<tr><td style=\"text-align: right;\">  6662.94</td></tr>\n",
       "<tr><td style=\"text-align: right;\"> 41836.6 </td></tr>\n",
       "<tr><td style=\"text-align: right;\">  7341.91</td></tr>\n",
       "<tr><td style=\"text-align: right;\"> 16732.6 </td></tr>\n",
       "<tr><td style=\"text-align: right;\"> 16862   </td></tr>\n",
       "</tbody>\n",
       "</table>"
      ]
     },
     "metadata": {},
     "output_type": "display_data"
    },
    {
     "data": {
      "text/plain": []
     },
     "execution_count": 48,
     "metadata": {},
     "output_type": "execute_result"
    }
   ],
   "source": [
    "pred = aml.predict(data_test)\n",
    "pred.head()"
   ]
  },
  {
   "cell_type": "code",
   "execution_count": 49,
   "metadata": {},
   "outputs": [
    {
     "name": "stdout",
     "output_type": "stream",
     "text": [
      "gbm prediction progress: |████████████████████████████████████████████████| 100%\n"
     ]
    },
    {
     "data": {
      "text/html": [
       "<table>\n",
       "<thead>\n",
       "<tr><th style=\"text-align: right;\">  predict</th></tr>\n",
       "</thead>\n",
       "<tbody>\n",
       "<tr><td style=\"text-align: right;\">  4773.82</td></tr>\n",
       "<tr><td style=\"text-align: right;\"> 14191.7 </td></tr>\n",
       "<tr><td style=\"text-align: right;\"> 12350.9 </td></tr>\n",
       "<tr><td style=\"text-align: right;\"> 38920.1 </td></tr>\n",
       "<tr><td style=\"text-align: right;\"> 14238.1 </td></tr>\n",
       "<tr><td style=\"text-align: right;\">  6538.02</td></tr>\n",
       "<tr><td style=\"text-align: right;\"> 40923.3 </td></tr>\n",
       "<tr><td style=\"text-align: right;\">  7269.51</td></tr>\n",
       "<tr><td style=\"text-align: right;\"> 17975.8 </td></tr>\n",
       "<tr><td style=\"text-align: right;\"> 16290.8 </td></tr>\n",
       "</tbody>\n",
       "</table>"
      ]
     },
     "metadata": {},
     "output_type": "display_data"
    },
    {
     "data": {
      "text/plain": []
     },
     "execution_count": 49,
     "metadata": {},
     "output_type": "execute_result"
    }
   ],
   "source": [
    "pred = aml2.predict(data_test)\n",
    "pred.head()"
   ]
  },
  {
   "cell_type": "code",
   "execution_count": 50,
   "metadata": {},
   "outputs": [
    {
     "name": "stdout",
     "output_type": "stream",
     "text": [
      "gbm prediction progress: |████████████████████████████████████████████████| 100%\n"
     ]
    },
    {
     "data": {
      "text/html": [
       "<table>\n",
       "<thead>\n",
       "<tr><th style=\"text-align: right;\">  predict</th></tr>\n",
       "</thead>\n",
       "<tbody>\n",
       "<tr><td style=\"text-align: right;\">  4829.55</td></tr>\n",
       "<tr><td style=\"text-align: right;\"> 13716.8 </td></tr>\n",
       "<tr><td style=\"text-align: right;\"> 11020.4 </td></tr>\n",
       "<tr><td style=\"text-align: right;\"> 37656   </td></tr>\n",
       "<tr><td style=\"text-align: right;\"> 15257.3 </td></tr>\n",
       "<tr><td style=\"text-align: right;\">  6023.81</td></tr>\n",
       "<tr><td style=\"text-align: right;\"> 41927.9 </td></tr>\n",
       "<tr><td style=\"text-align: right;\">  5353.16</td></tr>\n",
       "<tr><td style=\"text-align: right;\"> 16381.1 </td></tr>\n",
       "<tr><td style=\"text-align: right;\"> 16456.8 </td></tr>\n",
       "</tbody>\n",
       "</table>"
      ]
     },
     "metadata": {},
     "output_type": "display_data"
    },
    {
     "data": {
      "text/plain": []
     },
     "execution_count": 50,
     "metadata": {},
     "output_type": "execute_result"
    }
   ],
   "source": [
    "pred = aml3.predict(data_test)\n",
    "pred.head()"
   ]
  },
  {
   "cell_type": "code",
   "execution_count": 24,
   "metadata": {},
   "outputs": [
    {
     "name": "stdout",
     "output_type": "stream",
     "text": [
      "H2O session _sid_93fe closed.\n"
     ]
    }
   ],
   "source": [
    "h2o.cluster().shutdown()"
   ]
  },
  {
   "cell_type": "code",
   "execution_count": 7,
   "metadata": {},
   "outputs": [
    {
     "data": {
      "image/png": "[encoded data removed]",
      "text/plain": [
       "<matplotlib.figure.Figure at 0x13c12b0bbe0>"
      ]
     },
     "metadata": {},
     "output_type": "display_data"
    }
   ],
   "source": [
    "import pandas as pd\n",
    "from sklearn.ensemble import GradientBoostingRegressor, GradientBoostingClassifier\n",
    "from sklearn.ensemble.partial_dependence import partial_dependence, plot_partial_dependence\n",
    "from sklearn.preprocessing import Imputer\n",
    "\n",
    "cols_to_use = ['age', 'sex', 'bmi', 'children', 'smoker', 'region']\n",
    "\n",
    "def get_some_data():\n",
    "   data = pd.read_csv('insurance_revised.csv')\n",
    "   y = data.charges\n",
    "   X = data[cols_to_use]\n",
    "   my_imputer = Imputer()\n",
    "   imputed_X = my_imputer.fit_transform(X)\n",
    "   return imputed_X, y\n",
    "\n",
    "\n",
    "X, y = get_some_data()\n",
    "my_model = GradientBoostingRegressor()\n",
    "my_model.fit(X, y)\n",
    "my_plots = plot_partial_dependence(my_model,\n",
    "                                  features=[0,2],\n",
    "                                  X=X,\n",
    "                                  feature_names=cols_to_use,\n",
    "                                  grid_resolution=10)"
   ]
  },
  {
   "cell_type": "code",
   "execution_count": 1,
   "metadata": {},
   "outputs": [
    {
     "name": "stderr",
     "output_type": "stream",
     "text": [
      "C:\\Users\\shlok\\anaconda3\\lib\\site-packages\\sklearn\\cross_validation.py:41: DeprecationWarning: This module was deprecated in version 0.18 in favor of the model_selection module into which all the refactored classes and functions are moved. Also note that the interface of the new CV iterators are different from that of this module. This module will be removed in 0.20.\n",
      "  \"This module will be removed in 0.20.\", DeprecationWarning)\n"
     ]
    }
   ],
   "source": [
    "import pandas as pd\n",
    "from sklearn.model_selection import train_test_split, cross_val_score\n",
    "from sklearn.feature_selection import RFE\n",
    "from sklearn import cross_validation, metrics   \n",
    "import matplotlib.pyplot as plt\n",
    "import numpy as np"
   ]
  },
  {
   "cell_type": "code",
   "execution_count": 3,
   "metadata": {},
   "outputs": [],
   "source": [
    "df = pd.read_csv('insurance_revised.csv')\n",
    "cols_to_use = ['age', 'sex', 'bmi', 'children', 'smoker', 'region']\n",
    "y = df.charges\n",
    "X = df[cols_to_use]\n",
    "X_train, X_test, y_train, y_test = train_test_split(X, y, test_size=0.25, random_state=42)"
   ]
  },
  {
   "cell_type": "code",
   "execution_count": 4,
   "metadata": {},
   "outputs": [
    {
     "data": {
      "text/plain": [
       "RandomForestRegressor(bootstrap=True, criterion='mse', max_depth=2,\n",
       "           max_features='auto', max_leaf_nodes=None,\n",
       "           min_impurity_decrease=0.0, min_impurity_split=None,\n",
       "           min_samples_leaf=1, min_samples_split=2,\n",
       "           min_weight_fraction_leaf=0.0, n_estimators=100, n_jobs=1,\n",
       "           oob_score=False, random_state=0, verbose=0, warm_start=False)"
      ]
     },
     "execution_count": 4,
     "metadata": {},
     "output_type": "execute_result"
    }
   ],
   "source": [
    "from sklearn.ensemble import RandomForestRegressor\n",
    "rf1 = RandomForestRegressor(max_depth=2, random_state=0, n_estimators=100)\n",
    "rf1.fit(X, y)"
   ]
  },
  {
   "cell_type": "code",
   "execution_count": 5,
   "metadata": {},
   "outputs": [],
   "source": [
    "imp=rf1.feature_importances_\n",
    "imp\n",
    "features=X.columns"
   ]
  },
  {
   "cell_type": "code",
   "execution_count": 6,
   "metadata": {},
   "outputs": [
    {
     "data": {
      "image/png": "[encoded data removed]",
      "text/plain": [
       "<matplotlib.figure.Figure at 0x289df38c3c8>"
      ]
     },
     "metadata": {},
     "output_type": "display_data"
    }
   ],
   "source": [
    "indices = np.argsort(imp)\n",
    "\n",
    "plt.title('Feature Importances')\n",
    "plt.barh(range(len(indices)), imp[indices], color='b', align='center')\n",
    "plt.yticks(range(len(indices)), [features[i] for i in indices])\n",
    "plt.xlabel('Relative Importance')\n",
    "plt.show()"
   ]
  },
  {
   "cell_type": "code",
   "execution_count": 11,
   "metadata": {},
   "outputs": [],
   "source": [
    "from h2o.estimators.random_forest import H2ORandomForestEstimator\n",
    "drf_default = H2ORandomForestEstimator(model_id = 'drf_default',seed =1234)"
   ]
  },
  {
   "cell_type": "code",
   "execution_count": 12,
   "metadata": {},
   "outputs": [
    {
     "name": "stdout",
     "output_type": "stream",
     "text": [
      "drf Model Build progress: |███████████████████████████████████████████████| 100%\n"
     ]
    }
   ],
   "source": [
    "data_split = data.split_frame(ratios = [0.9], seed = 1234)\n",
    "\n",
    "data_train = data_split[0] # using 90% for training\n",
    "data_test = data_split[1]\n",
    "drf_default.train(x= features, y= 'charges', training_frame= data_train)\n"
   ]
  },
  {
   "cell_type": "code",
   "execution_count": 13,
   "metadata": {},
   "outputs": [
    {
     "data": {
      "image/png": "[encoded data removed]",
      "text/plain": [
       "<matplotlib.figure.Figure at 0x289df7f5da0>"
      ]
     },
     "metadata": {},
     "output_type": "display_data"
    }
   ],
   "source": [
    "drf_default.varimp_plot()"
   ]
  },
  {
   "cell_type": "code",
   "execution_count": 14,
   "metadata": {},
   "outputs": [],
   "source": [
    "from h2o.estimators.gbm import H2OGradientBoostingEstimator\n",
    "gbm_default = H2OGradientBoostingEstimator(model_id = 'gbm_default',seed =1234)"
   ]
  },
  {
   "cell_type": "code",
   "execution_count": 15,
   "metadata": {},
   "outputs": [
    {
     "name": "stdout",
     "output_type": "stream",
     "text": [
      "gbm Model Build progress: |███████████████████████████████████████████████| 100%\n"
     ]
    }
   ],
   "source": [
    "gbm_default.train(x= features, y= 'charges', training_frame= data_train)"
   ]
  },
  {
   "cell_type": "code",
   "execution_count": 16,
   "metadata": {},
   "outputs": [
    {
     "data": {
      "image/png": "[encoded data removed]",
      "text/plain": [
       "<matplotlib.figure.Figure at 0x289df4f7128>"
      ]
     },
     "metadata": {},
     "output_type": "display_data"
    }
   ],
   "source": [
    "gbm_default.varimp_plot()"
   ]
  },
  {
   "cell_type": "code",
   "execution_count": 17,
   "metadata": {},
   "outputs": [],
   "source": [
    "from h2o.estimators.deeplearning import H2ODeepLearningEstimator\n",
    "dnn_default = H2ODeepLearningEstimator(model_id='dnn_default', seed =1234)"
   ]
  },
  {
   "cell_type": "code",
   "execution_count": 18,
   "metadata": {},
   "outputs": [
    {
     "name": "stdout",
     "output_type": "stream",
     "text": [
      "deeplearning Model Build progress: |██████████████████████████████████████| 100%\n"
     ]
    }
   ],
   "source": [
    "dnn_default.train(x= features, y= 'charges', training_frame= data_train)"
   ]
  },
  {
   "cell_type": "code",
   "execution_count": 19,
   "metadata": {},
   "outputs": [
    {
     "data": {
      "image/png": "[encoded data removed]",
      "text/plain": [
       "<matplotlib.figure.Figure at 0x289df4f7ba8>"
      ]
     },
     "metadata": {},
     "output_type": "display_data"
    }
   ],
   "source": [
    "dnn_default.varimp_plot()"
   ]
  },
  {
   "cell_type": "code",
   "execution_count": 20,
   "metadata": {},
   "outputs": [],
   "source": [
    "from h2o.estimators.glm import H2OGeneralizedLinearEstimator\n",
    "gle_default = H2OGeneralizedLinearEstimator(model_id='dnn_default', seed =1234)"
   ]
  },
  {
   "cell_type": "code",
   "execution_count": 21,
   "metadata": {},
   "outputs": [
    {
     "name": "stdout",
     "output_type": "stream",
     "text": [
      "glm Model Build progress: |███████████████████████████████████████████████| 100%\n"
     ]
    }
   ],
   "source": [
    "gle_default.train(x= features, y= 'charges', training_frame= data_train)"
   ]
  },
  {
   "cell_type": "code",
   "execution_count": 23,
   "metadata": {},
   "outputs": [
    {
     "name": "stdout",
     "output_type": "stream",
     "text": [
      "Variable importance does not apply to GLM. Will use std_coef_plot() instead.\n"
     ]
    },
    {
     "data": {
      "image/png": "[encoded data removed]",
      "text/plain": [
       "<matplotlib.figure.Figure at 0x289e000beb8>"
      ]
     },
     "metadata": {},
     "output_type": "display_data"
    }
   ],
   "source": [
    "gle_default.varimp_plot()"
   ]
  },
  {
   "cell_type": "code",
   "execution_count": 25,
   "metadata": {},
   "outputs": [
    {
     "name": "stderr",
     "output_type": "stream",
     "text": [
      "C:\\Users\\shlok\\anaconda3\\lib\\site-packages\\pandas_profiling\\plot.py:15: UserWarning: \n",
      "This call to matplotlib.use() has no effect because the backend has already\n",
      "been chosen; matplotlib.use() must be called *before* pylab, matplotlib.pyplot,\n",
      "or matplotlib.backends is imported for the first time.\n",
      "\n",
      "The backend was *originally* set to 'module://ipykernel.pylab.backend_inline' by the following code:\n",
      "  File \"C:\\Users\\shlok\\anaconda3\\lib\\runpy.py\", line 193, in _run_module_as_main\n",
      "    \"__main__\", mod_spec)\n",
      "  File \"C:\\Users\\shlok\\anaconda3\\lib\\runpy.py\", line 85, in _run_code\n",
      "    exec(code, run_globals)\n",
      "  File \"C:\\Users\\shlok\\anaconda3\\lib\\site-packages\\ipykernel_launcher.py\", line 16, in <module>\n",
      "    app.launch_new_instance()\n",
      "  File \"C:\\Users\\shlok\\anaconda3\\lib\\site-packages\\traitlets\\config\\application.py\", line 658, in launch_instance\n",
      "    app.start()\n",
      "  File \"C:\\Users\\shlok\\anaconda3\\lib\\site-packages\\ipykernel\\kernelapp.py\", line 478, in start\n",
      "    self.io_loop.start()\n",
      "  File \"C:\\Users\\shlok\\anaconda3\\lib\\site-packages\\zmq\\eventloop\\ioloop.py\", line 177, in start\n",
      "    super(ZMQIOLoop, self).start()\n",
      "  File \"C:\\Users\\shlok\\anaconda3\\lib\\site-packages\\tornado\\ioloop.py\", line 888, in start\n",
      "    handler_func(fd_obj, events)\n",
      "  File \"C:\\Users\\shlok\\anaconda3\\lib\\site-packages\\tornado\\stack_context.py\", line 277, in null_wrapper\n",
      "    return fn(*args, **kwargs)\n",
      "  File \"C:\\Users\\shlok\\anaconda3\\lib\\site-packages\\zmq\\eventloop\\zmqstream.py\", line 440, in _handle_events\n",
      "    self._handle_recv()\n",
      "  File \"C:\\Users\\shlok\\anaconda3\\lib\\site-packages\\zmq\\eventloop\\zmqstream.py\", line 472, in _handle_recv\n",
      "    self._run_callback(callback, msg)\n",
      "  File \"C:\\Users\\shlok\\anaconda3\\lib\\site-packages\\zmq\\eventloop\\zmqstream.py\", line 414, in _run_callback\n",
      "    callback(*args, **kwargs)\n",
      "  File \"C:\\Users\\shlok\\anaconda3\\lib\\site-packages\\tornado\\stack_context.py\", line 277, in null_wrapper\n",
      "    return fn(*args, **kwargs)\n",
      "  File \"C:\\Users\\shlok\\anaconda3\\lib\\site-packages\\ipykernel\\kernelbase.py\", line 283, in dispatcher\n",
      "    return self.dispatch_shell(stream, msg)\n",
      "  File \"C:\\Users\\shlok\\anaconda3\\lib\\site-packages\\ipykernel\\kernelbase.py\", line 233, in dispatch_shell\n",
      "    handler(stream, idents, msg)\n",
      "  File \"C:\\Users\\shlok\\anaconda3\\lib\\site-packages\\ipykernel\\kernelbase.py\", line 399, in execute_request\n",
      "    user_expressions, allow_stdin)\n",
      "  File \"C:\\Users\\shlok\\anaconda3\\lib\\site-packages\\ipykernel\\ipkernel.py\", line 208, in do_execute\n",
      "    res = shell.run_cell(code, store_history=store_history, silent=silent)\n",
      "  File \"C:\\Users\\shlok\\anaconda3\\lib\\site-packages\\ipykernel\\zmqshell.py\", line 537, in run_cell\n",
      "    return super(ZMQInteractiveShell, self).run_cell(*args, **kwargs)\n",
      "  File \"C:\\Users\\shlok\\anaconda3\\lib\\site-packages\\IPython\\core\\interactiveshell.py\", line 2739, in run_cell\n",
      "    self.events.trigger('post_run_cell')\n",
      "  File \"C:\\Users\\shlok\\anaconda3\\lib\\site-packages\\IPython\\core\\events.py\", line 73, in trigger\n",
      "    func(*args, **kwargs)\n",
      "  File \"C:\\Users\\shlok\\anaconda3\\lib\\site-packages\\ipykernel\\pylab\\backend_inline.py\", line 160, in configure_once\n",
      "    activate_matplotlib(backend)\n",
      "  File \"C:\\Users\\shlok\\anaconda3\\lib\\site-packages\\IPython\\core\\pylabtools.py\", line 308, in activate_matplotlib\n",
      "    matplotlib.pyplot.switch_backend(backend)\n",
      "  File \"C:\\Users\\shlok\\anaconda3\\lib\\site-packages\\matplotlib\\pyplot.py\", line 232, in switch_backend\n",
      "    matplotlib.use(newbackend, warn=False, force=True)\n",
      "  File \"C:\\Users\\shlok\\anaconda3\\lib\\site-packages\\matplotlib\\__init__.py\", line 1305, in use\n",
      "    reload(sys.modules['matplotlib.backends'])\n",
      "  File \"C:\\Users\\shlok\\anaconda3\\lib\\importlib\\__init__.py\", line 166, in reload\n",
      "    _bootstrap._exec(spec, module)\n",
      "  File \"C:\\Users\\shlok\\anaconda3\\lib\\site-packages\\matplotlib\\backends\\__init__.py\", line 14, in <module>\n",
      "    line for line in traceback.format_stack()\n",
      "\n",
      "\n",
      "  matplotlib.use(BACKEND)\n"
     ]
    }
   ],
   "source": [
    "import pandas as pd\n",
    "import numpy as np\n",
    "import seaborn as sns\n",
    "import matplotlib as mpl\n",
    "import matplotlib.pyplot as plt\n",
    "import pandas_profiling\n",
    "mpl.rcParams['patch.force_edgecolor'] = True\n",
    "%matplotlib inline\n",
    "sns.set_style(\"whitegrid\")"
   ]
  },
  {
   "cell_type": "code",
   "execution_count": 26,
   "metadata": {},
   "outputs": [
    {
     "data": {
      "text/html": [
       "<div>\n",
       "<style scoped>\n",
       "    .dataframe tbody tr th:only-of-type {\n",
       "        vertical-align: middle;\n",
       "    }\n",
       "\n",
       "    .dataframe tbody tr th {\n",
       "        vertical-align: top;\n",
       "    }\n",
       "\n",
       "    .dataframe thead th {\n",
       "        text-align: right;\n",
       "    }\n",
       "</style>\n",
       "<table border=\"1\" class=\"dataframe\">\n",
       "  <thead>\n",
       "    <tr style=\"text-align: right;\">\n",
       "      <th></th>\n",
       "      <th>age</th>\n",
       "      <th>sex</th>\n",
       "      <th>bmi</th>\n",
       "      <th>children</th>\n",
       "      <th>smoker</th>\n",
       "      <th>region</th>\n",
       "      <th>charges</th>\n",
       "    </tr>\n",
       "  </thead>\n",
       "  <tbody>\n",
       "    <tr>\n",
       "      <th>0</th>\n",
       "      <td>19</td>\n",
       "      <td>female</td>\n",
       "      <td>27.900</td>\n",
       "      <td>0</td>\n",
       "      <td>yes</td>\n",
       "      <td>southwest</td>\n",
       "      <td>16884.92400</td>\n",
       "    </tr>\n",
       "    <tr>\n",
       "      <th>1</th>\n",
       "      <td>18</td>\n",
       "      <td>male</td>\n",
       "      <td>33.770</td>\n",
       "      <td>1</td>\n",
       "      <td>no</td>\n",
       "      <td>southeast</td>\n",
       "      <td>1725.55230</td>\n",
       "    </tr>\n",
       "    <tr>\n",
       "      <th>2</th>\n",
       "      <td>28</td>\n",
       "      <td>male</td>\n",
       "      <td>33.000</td>\n",
       "      <td>3</td>\n",
       "      <td>no</td>\n",
       "      <td>southeast</td>\n",
       "      <td>4449.46200</td>\n",
       "    </tr>\n",
       "    <tr>\n",
       "      <th>3</th>\n",
       "      <td>33</td>\n",
       "      <td>male</td>\n",
       "      <td>22.705</td>\n",
       "      <td>0</td>\n",
       "      <td>no</td>\n",
       "      <td>northwest</td>\n",
       "      <td>21984.47061</td>\n",
       "    </tr>\n",
       "    <tr>\n",
       "      <th>4</th>\n",
       "      <td>32</td>\n",
       "      <td>male</td>\n",
       "      <td>28.880</td>\n",
       "      <td>0</td>\n",
       "      <td>no</td>\n",
       "      <td>northwest</td>\n",
       "      <td>3866.85520</td>\n",
       "    </tr>\n",
       "  </tbody>\n",
       "</table>\n",
       "</div>"
      ],
      "text/plain": [
       "   age     sex     bmi  children smoker     region      charges\n",
       "0   19  female  27.900         0    yes  southwest  16884.92400\n",
       "1   18    male  33.770         1     no  southeast   1725.55230\n",
       "2   28    male  33.000         3     no  southeast   4449.46200\n",
       "3   33    male  22.705         0     no  northwest  21984.47061\n",
       "4   32    male  28.880         0     no  northwest   3866.85520"
      ]
     },
     "execution_count": 26,
     "metadata": {},
     "output_type": "execute_result"
    }
   ],
   "source": [
    "df = pd.read_csv(\"insurance.csv\")\n",
    "df.head()"
   ]
  },
  {
   "cell_type": "markdown",
   "metadata": {},
   "source": [
    "Checking for missing values"
   ]
  },
  {
   "cell_type": "code",
   "execution_count": 27,
   "metadata": {},
   "outputs": [
    {
     "data": {
      "text/plain": [
       "age         0\n",
       "sex         0\n",
       "bmi         0\n",
       "children    0\n",
       "smoker      0\n",
       "region      0\n",
       "charges     0\n",
       "dtype: int64"
      ]
     },
     "execution_count": 27,
     "metadata": {},
     "output_type": "execute_result"
    }
   ],
   "source": [
    "df.isnull().sum()"
   ]
  },
  {
   "cell_type": "markdown",
   "metadata": {},
   "source": [
    "Number of people who are smokers"
   ]
  },
  {
   "cell_type": "code",
   "execution_count": 28,
   "metadata": {},
   "outputs": [
    {
     "data": {
      "text/plain": [
       "<matplotlib.axes._subplots.AxesSubplot at 0x289e0cd9940>"
      ]
     },
     "execution_count": 28,
     "metadata": {},
     "output_type": "execute_result"
    },
    {
     "data": {
      "image/png": "[encoded data removed]",
      "text/plain": [
       "<matplotlib.figure.Figure at 0x289e0cb8f98>"
      ]
     },
     "metadata": {},
     "output_type": "display_data"
    }
   ],
   "source": [
    "sns.countplot(x='smoker',data=df,palette='viridis')"
   ]
  },
  {
   "cell_type": "code",
   "execution_count": 29,
   "metadata": {},
   "outputs": [
    {
     "data": {
      "text/plain": [
       "<matplotlib.axes._subplots.AxesSubplot at 0x289e0cb6208>"
      ]
     },
     "execution_count": 29,
     "metadata": {},
     "output_type": "execute_result"
    },
    {
     "data": {
      "image/png": "[encoded data removed]",
      "text/plain": [
       "<matplotlib.figure.Figure at 0x289e0da4080>"
      ]
     },
     "metadata": {},
     "output_type": "display_data"
    }
   ],
   "source": [
    "by_smoker = df.groupby('smoker').charges.sum()\n",
    "by_smoker.plot(kind='bar')"
   ]
  },
  {
   "cell_type": "code",
   "execution_count": 30,
   "metadata": {},
   "outputs": [
    {
     "data": {
      "text/plain": [
       "<matplotlib.axes._subplots.AxesSubplot at 0x289e0e34be0>"
      ]
     },
     "execution_count": 30,
     "metadata": {},
     "output_type": "execute_result"
    },
    {
     "data": {
      "image/png": "[encoded data removed]",
      "text/plain": [
       "<matplotlib.figure.Figure at 0x289e05439b0>"
      ]
     },
     "metadata": {},
     "output_type": "display_data"
    }
   ],
   "source": [
    "sns.countplot(x='children',data=df,palette='viridis')"
   ]
  },
  {
   "cell_type": "markdown",
   "metadata": {},
   "source": [
    "### Gender Count according to Region"
   ]
  },
  {
   "cell_type": "code",
   "execution_count": 31,
   "metadata": {},
   "outputs": [
    {
     "data": {
      "text/plain": [
       "<matplotlib.axes._subplots.AxesSubplot at 0x289e0e533c8>"
      ]
     },
     "execution_count": 31,
     "metadata": {},
     "output_type": "execute_result"
    },
    {
     "data": {
      "image/png": "[encoded data removed]",
      "text/plain": [
       "<matplotlib.figure.Figure at 0x289e0e03b38>"
      ]
     },
     "metadata": {},
     "output_type": "display_data"
    }
   ],
   "source": [
    "sns.countplot(x='region',data=df,hue='sex',palette='viridis')"
   ]
  },
  {
   "cell_type": "markdown",
   "metadata": {},
   "source": [
    "### Health Insurance Charges according to Region"
   ]
  },
  {
   "cell_type": "code",
   "execution_count": 32,
   "metadata": {},
   "outputs": [
    {
     "data": {
      "text/plain": [
       "<matplotlib.axes._subplots.AxesSubplot at 0x289e0ef3eb8>"
      ]
     },
     "execution_count": 32,
     "metadata": {},
     "output_type": "execute_result"
    },
    {
     "data": {
      "image/png": "[encoded data removed]",
      "text/plain": [
       "<matplotlib.figure.Figure at 0x289e0eb7160>"
      ]
     },
     "metadata": {},
     "output_type": "display_data"
    }
   ],
   "source": [
    "by_region = df.groupby('region').charges.sum()\n",
    "by_region.plot(kind='bar')"
   ]
  },
  {
   "cell_type": "code",
   "execution_count": 33,
   "metadata": {},
   "outputs": [
    {
     "data": {
      "text/plain": [
       "<matplotlib.axes._subplots.AxesSubplot at 0x289e0d92668>"
      ]
     },
     "execution_count": 33,
     "metadata": {},
     "output_type": "execute_result"
    },
    {
     "data": {
      "image/png": "[encoded data removed]",
      "text/plain": [
       "<matplotlib.figure.Figure at 0x289e0e4b518>"
      ]
     },
     "metadata": {},
     "output_type": "display_data"
    }
   ],
   "source": [
    "sns.distplot(df['age'])"
   ]
  },
  {
   "cell_type": "code",
   "execution_count": 34,
   "metadata": {},
   "outputs": [
    {
     "data": {
      "text/plain": [
       "<matplotlib.axes._subplots.AxesSubplot at 0x289e056edd8>"
      ]
     },
     "execution_count": 34,
     "metadata": {},
     "output_type": "execute_result"
    },
    {
     "data": {
      "image/png": "[encoded data removed]",
      "text/plain": [
       "<matplotlib.figure.Figure at 0x289e05820b8>"
      ]
     },
     "metadata": {},
     "output_type": "display_data"
    }
   ],
   "source": [
    "sns.distplot(df['bmi'])"
   ]
  },
  {
   "cell_type": "code",
   "execution_count": 35,
   "metadata": {},
   "outputs": [
    {
     "data": {
      "text/plain": [
       "<matplotlib.axes._subplots.AxesSubplot at 0x289e02e0748>"
      ]
     },
     "execution_count": 35,
     "metadata": {},
     "output_type": "execute_result"
    },
    {
     "data": {
      "image/png": "[encoded data removed]",
      "text/plain": [
       "<matplotlib.figure.Figure at 0x289e02bc080>"
      ]
     },
     "metadata": {},
     "output_type": "display_data"
    }
   ],
   "source": [
    "sns.distplot(df['children'])"
   ]
  },
  {
   "cell_type": "code",
   "execution_count": 36,
   "metadata": {},
   "outputs": [
    {
     "data": {
      "text/plain": [
       "<seaborn.axisgrid.JointGrid at 0x289e058b9b0>"
      ]
     },
     "execution_count": 36,
     "metadata": {},
     "output_type": "execute_result"
    },
    {
     "data": {
      "image/png": "[encoded data removed]",
      "text/plain": [
       "<matplotlib.figure.Figure at 0x289e058bac8>"
      ]
     },
     "metadata": {},
     "output_type": "display_data"
    }
   ],
   "source": [
    "sns.jointplot(x='bmi',y='charges',data=df,kind='reg')"
   ]
  },
  {
   "cell_type": "code",
   "execution_count": 41,
   "metadata": {},
   "outputs": [
    {
     "data": {
      "text/html": [
       "<div>\n",
       "<style scoped>\n",
       "    .dataframe tbody tr th:only-of-type {\n",
       "        vertical-align: middle;\n",
       "    }\n",
       "\n",
       "    .dataframe tbody tr th {\n",
       "        vertical-align: top;\n",
       "    }\n",
       "\n",
       "    .dataframe thead th {\n",
       "        text-align: right;\n",
       "    }\n",
       "</style>\n",
       "<table border=\"1\" class=\"dataframe\">\n",
       "  <thead>\n",
       "    <tr style=\"text-align: right;\">\n",
       "      <th></th>\n",
       "      <th>Category</th>\n",
       "      <th>Values</th>\n",
       "    </tr>\n",
       "  </thead>\n",
       "  <tbody>\n",
       "    <tr>\n",
       "      <th>0</th>\n",
       "      <td>Underweight</td>\n",
       "      <td>20</td>\n",
       "    </tr>\n",
       "    <tr>\n",
       "      <th>1</th>\n",
       "      <td>Normal</td>\n",
       "      <td>221</td>\n",
       "    </tr>\n",
       "    <tr>\n",
       "      <th>2</th>\n",
       "      <td>Overweight</td>\n",
       "      <td>372</td>\n",
       "    </tr>\n",
       "    <tr>\n",
       "      <th>3</th>\n",
       "      <td>Obese</td>\n",
       "      <td>705</td>\n",
       "    </tr>\n",
       "  </tbody>\n",
       "</table>\n",
       "</div>"
      ],
      "text/plain": [
       "      Category  Values\n",
       "0  Underweight      20\n",
       "1       Normal     221\n",
       "2   Overweight     372\n",
       "3        Obese     705"
      ]
     },
     "execution_count": 41,
     "metadata": {},
     "output_type": "execute_result"
    }
   ],
   "source": [
    "Underweight = df[df[\"bmi\"] < 18.5].bmi.count()\n",
    "Normal = df[(df[\"bmi\"] > 18.5) & (df[\"bmi\"] < 24.9)].bmi.count()\n",
    "Overweight = df[(df[\"bmi\"] > 25) & (df[\"bmi\"] < 29.9)].bmi.count()\n",
    "Obese = df[df[\"bmi\"] > 30].bmi.count()\n",
    "\n",
    "bmi = pd.DataFrame({'Category':['Underweight','Normal','Overweight', 'Obese'],'Values':[Underweight,Normal,Overweight,Obese]})\n",
    "bmi"
   ]
  },
  {
   "cell_type": "code",
   "execution_count": 43,
   "metadata": {},
   "outputs": [
    {
     "data": {
      "image/png": "[encoded data removed]",
      "text/plain": [
       "<matplotlib.figure.Figure at 0x289e1f9d390>"
      ]
     },
     "metadata": {},
     "output_type": "display_data"
    }
   ],
   "source": [
    "fig = plt.figure(1, figsize=(20, 10))\n",
    "sns.set_style('white')\n",
    "ax = sns.boxplot(x=\"region\", y=\"charges\", data=df, palette='rainbow')"
   ]
  },
  {
   "cell_type": "markdown",
   "metadata": {},
   "source": [
    "### As we can observe, region of origin doesn’t have much impact with the amount of medical cost."
   ]
  },
  {
   "cell_type": "code",
   "execution_count": 44,
   "metadata": {},
   "outputs": [
    {
     "data": {
      "image/png": "[encoded data removed]",
      "text/plain": [
       "<matplotlib.figure.Figure at 0x289e1fb0eb8>"
      ]
     },
     "metadata": {},
     "output_type": "display_data"
    }
   ],
   "source": [
    "fig = plt.figure(1, figsize=(20, 10))\n",
    "sns.set_style('white')\n",
    "ax = sns.boxplot(x=\"smoker\", y=\"charges\", data=df, palette='rainbow')"
   ]
  },
  {
   "cell_type": "markdown",
   "metadata": {},
   "source": [
    "### On the other hand, the same cannot be said with smoking status. It can be clearly deceived that smokers spends a lot more in medical expenses compared to non-smokers by almost 4x."
   ]
  },
  {
   "cell_type": "code",
   "execution_count": null,
   "metadata": {},
   "outputs": [],
   "source": []
  }
 ],
 "metadata": {
  "kernelspec": {
   "display_name": "Python 3",
   "language": "python",
   "name": "python3"
  },
  "language_info": {
   "codemirror_mode": {
    "name": "ipython",
    "version": 3
   },
   "file_extension": ".py",
   "mimetype": "text/x-python",
   "name": "python",
   "nbconvert_exporter": "python",
   "pygments_lexer": "ipython3",
   "version": "3.6.4"
  }
 },
 "nbformat": 4,
 "nbformat_minor": 2
}
