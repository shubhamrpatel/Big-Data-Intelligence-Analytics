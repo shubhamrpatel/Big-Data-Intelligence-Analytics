{
 "cells": [
  {
   "cell_type": "code",
   "execution_count": 43,
   "metadata": {},
   "outputs": [
    {
     "name": "stdout",
     "output_type": "stream",
     "text": [
      "Checking whether there is an H2O instance running at http://localhost:54321. connected.\n"
     ]
    },
    {
     "data": {
      "text/html": [
       "<div style=\"overflow:auto\"><table style=\"width:50%\"><tr><td>H2O cluster uptime:</td>\n",
       "<td>3 mins 34 secs</td></tr>\n",
       "<tr><td>H2O cluster timezone:</td>\n",
       "<td>America/New_York</td></tr>\n",
       "<tr><td>H2O data parsing timezone:</td>\n",
       "<td>UTC</td></tr>\n",
       "<tr><td>H2O cluster version:</td>\n",
       "<td>3.20.0.9</td></tr>\n",
       "<tr><td>H2O cluster version age:</td>\n",
       "<td>1 month and 1 day </td></tr>\n",
       "<tr><td>H2O cluster name:</td>\n",
       "<td>H2O_from_python_shlok_ctgjlp</td></tr>\n",
       "<tr><td>H2O cluster total nodes:</td>\n",
       "<td>1</td></tr>\n",
       "<tr><td>H2O cluster free memory:</td>\n",
       "<td>7.040 Gb</td></tr>\n",
       "<tr><td>H2O cluster total cores:</td>\n",
       "<td>4</td></tr>\n",
       "<tr><td>H2O cluster allowed cores:</td>\n",
       "<td>4</td></tr>\n",
       "<tr><td>H2O cluster status:</td>\n",
       "<td>locked, healthy</td></tr>\n",
       "<tr><td>H2O connection url:</td>\n",
       "<td>http://localhost:54321</td></tr>\n",
       "<tr><td>H2O connection proxy:</td>\n",
       "<td>None</td></tr>\n",
       "<tr><td>H2O internal security:</td>\n",
       "<td>False</td></tr>\n",
       "<tr><td>H2O API Extensions:</td>\n",
       "<td>Algos, AutoML, Core V3, Core V4</td></tr>\n",
       "<tr><td>Python version:</td>\n",
       "<td>3.6.4 final</td></tr></table></div>"
      ],
      "text/plain": [
       "--------------------------  -------------------------------\n",
       "H2O cluster uptime:         3 mins 34 secs\n",
       "H2O cluster timezone:       America/New_York\n",
       "H2O data parsing timezone:  UTC\n",
       "H2O cluster version:        3.20.0.9\n",
       "H2O cluster version age:    1 month and 1 day\n",
       "H2O cluster name:           H2O_from_python_shlok_ctgjlp\n",
       "H2O cluster total nodes:    1\n",
       "H2O cluster free memory:    7.040 Gb\n",
       "H2O cluster total cores:    4\n",
       "H2O cluster allowed cores:  4\n",
       "H2O cluster status:         locked, healthy\n",
       "H2O connection url:         http://localhost:54321\n",
       "H2O connection proxy:\n",
       "H2O internal security:      False\n",
       "H2O API Extensions:         Algos, AutoML, Core V3, Core V4\n",
       "Python version:             3.6.4 final\n",
       "--------------------------  -------------------------------"
      ]
     },
     "metadata": {},
     "output_type": "display_data"
    }
   ],
   "source": [
    "# Load the H2O library and start up the H2O cluter locally on your machine\n",
    "import h2o\n",
    "\n",
    "# Number of threads, nthreads = -1, means use all cores on your machine\n",
    "# max_mem_size is the maximum memory (in GB) to allocate to H2O\n",
    "h2o.init(nthreads = -1, max_mem_size = 8)"
   ]
  },
  {
   "cell_type": "code",
   "execution_count": 44,
   "metadata": {},
   "outputs": [
    {
     "name": "stdout",
     "output_type": "stream",
     "text": [
      "Parse progress: |█████████████████████████████████████████████████████████| 100%\n"
     ]
    }
   ],
   "source": [
    "data = h2o.import_file(\"noshow_revised.csv\")"
   ]
  },
  {
   "cell_type": "code",
   "execution_count": 3,
   "metadata": {},
   "outputs": [
    {
     "data": {
      "text/plain": [
       "(71954, 18)"
      ]
     },
     "execution_count": 3,
     "metadata": {},
     "output_type": "execute_result"
    }
   ],
   "source": [
    "data.shape"
   ]
  },
  {
   "cell_type": "code",
   "execution_count": 4,
   "metadata": {
    "scrolled": true
   },
   "outputs": [
    {
     "data": {
      "text/html": [
       "<table>\n",
       "<thead>\n",
       "<tr><th style=\"text-align: right;\">  C1</th><th style=\"text-align: right;\">  PatientID</th><th style=\"text-align: right;\">  AppointmentID</th><th>Gender  </th><th>ScheduledDay       </th><th>AppointmentDay     </th><th style=\"text-align: right;\">  Age</th><th>Neighborhood  </th><th style=\"text-align: right;\">  Scholarship</th><th style=\"text-align: right;\">  Hypertension</th><th style=\"text-align: right;\">  Diabetes</th><th style=\"text-align: right;\">  Alcoholism</th><th style=\"text-align: right;\">  Handicap</th><th style=\"text-align: right;\">  SMS_received</th><th>NoShow  </th><th style=\"text-align: right;\">  ScheduledMonth</th><th style=\"text-align: right;\">  AppointmentMonth</th><th style=\"text-align: right;\">  Time</th></tr>\n",
       "</thead>\n",
       "<tbody>\n",
       "<tr><td style=\"text-align: right;\">   5</td><td style=\"text-align: right;\">9.59851e+13</td><td style=\"text-align: right;\">    5.62677e+06</td><td>F       </td><td>2016-04-27 08:36:51</td><td>2016-04-29 00:00:00</td><td style=\"text-align: right;\">   76</td><td>REPÃšBLICA    </td><td style=\"text-align: right;\">            0</td><td style=\"text-align: right;\">             1</td><td style=\"text-align: right;\">         0</td><td style=\"text-align: right;\">           0</td><td style=\"text-align: right;\">         0</td><td style=\"text-align: right;\">             0</td><td>No      </td><td style=\"text-align: right;\">               4</td><td style=\"text-align: right;\">                 4</td><td style=\"text-align: right;\">     1</td></tr>\n",
       "<tr><td style=\"text-align: right;\">   6</td><td style=\"text-align: right;\">7.33688e+14</td><td style=\"text-align: right;\">    5.63028e+06</td><td>F       </td><td>2016-04-27 15:05:12</td><td>2016-04-29 00:00:00</td><td style=\"text-align: right;\">   23</td><td>GOIABEIRAS    </td><td style=\"text-align: right;\">            0</td><td style=\"text-align: right;\">             0</td><td style=\"text-align: right;\">         0</td><td style=\"text-align: right;\">           0</td><td style=\"text-align: right;\">         0</td><td style=\"text-align: right;\">             0</td><td>Yes     </td><td style=\"text-align: right;\">               4</td><td style=\"text-align: right;\">                 4</td><td style=\"text-align: right;\">     1</td></tr>\n",
       "<tr><td style=\"text-align: right;\">   7</td><td style=\"text-align: right;\">3.44983e+12</td><td style=\"text-align: right;\">    5.63058e+06</td><td>F       </td><td>2016-04-27 15:39:58</td><td>2016-04-29 00:00:00</td><td style=\"text-align: right;\">   39</td><td>GOIABEIRAS    </td><td style=\"text-align: right;\">            0</td><td style=\"text-align: right;\">             0</td><td style=\"text-align: right;\">         0</td><td style=\"text-align: right;\">           0</td><td style=\"text-align: right;\">         0</td><td style=\"text-align: right;\">             0</td><td>Yes     </td><td style=\"text-align: right;\">               4</td><td style=\"text-align: right;\">                 4</td><td style=\"text-align: right;\">     1</td></tr>\n",
       "<tr><td style=\"text-align: right;\">   9</td><td style=\"text-align: right;\">7.81246e+13</td><td style=\"text-align: right;\">    5.62912e+06</td><td>F       </td><td>2016-04-27 12:48:25</td><td>2016-04-29 00:00:00</td><td style=\"text-align: right;\">   19</td><td>CONQUISTA     </td><td style=\"text-align: right;\">            0</td><td style=\"text-align: right;\">             0</td><td style=\"text-align: right;\">         0</td><td style=\"text-align: right;\">           0</td><td style=\"text-align: right;\">         0</td><td style=\"text-align: right;\">             0</td><td>No      </td><td style=\"text-align: right;\">               4</td><td style=\"text-align: right;\">                 4</td><td style=\"text-align: right;\">     1</td></tr>\n",
       "<tr><td style=\"text-align: right;\">  10</td><td style=\"text-align: right;\">7.34536e+14</td><td style=\"text-align: right;\">    5.63021e+06</td><td>F       </td><td>2016-04-27 14:58:11</td><td>2016-04-29 00:00:00</td><td style=\"text-align: right;\">   30</td><td>NOVA PALESTINA</td><td style=\"text-align: right;\">            0</td><td style=\"text-align: right;\">             0</td><td style=\"text-align: right;\">         0</td><td style=\"text-align: right;\">           0</td><td style=\"text-align: right;\">         0</td><td style=\"text-align: right;\">             0</td><td>No      </td><td style=\"text-align: right;\">               4</td><td style=\"text-align: right;\">                 4</td><td style=\"text-align: right;\">     1</td></tr>\n",
       "<tr><td style=\"text-align: right;\">  11</td><td style=\"text-align: right;\">7.54295e+12</td><td style=\"text-align: right;\">    5.62016e+06</td><td>M       </td><td>2016-04-26 08:44:12</td><td>2016-04-29 00:00:00</td><td style=\"text-align: right;\">   29</td><td>NOVA PALESTINA</td><td style=\"text-align: right;\">            0</td><td style=\"text-align: right;\">             0</td><td style=\"text-align: right;\">         0</td><td style=\"text-align: right;\">           0</td><td style=\"text-align: right;\">         0</td><td style=\"text-align: right;\">             1</td><td>Yes     </td><td style=\"text-align: right;\">               4</td><td style=\"text-align: right;\">                 4</td><td style=\"text-align: right;\">     2</td></tr>\n",
       "<tr><td style=\"text-align: right;\">  12</td><td style=\"text-align: right;\">5.66655e+14</td><td style=\"text-align: right;\">    5.63472e+06</td><td>F       </td><td>2016-04-28 11:33:51</td><td>2016-04-29 00:00:00</td><td style=\"text-align: right;\">   22</td><td>NOVA PALESTINA</td><td style=\"text-align: right;\">            1</td><td style=\"text-align: right;\">             0</td><td style=\"text-align: right;\">         0</td><td style=\"text-align: right;\">           0</td><td style=\"text-align: right;\">         0</td><td style=\"text-align: right;\">             0</td><td>No      </td><td style=\"text-align: right;\">               4</td><td style=\"text-align: right;\">                 4</td><td style=\"text-align: right;\">     0</td></tr>\n",
       "<tr><td style=\"text-align: right;\">  13</td><td style=\"text-align: right;\">9.11395e+14</td><td style=\"text-align: right;\">    5.63625e+06</td><td>M       </td><td>2016-04-28 14:52:07</td><td>2016-04-29 00:00:00</td><td style=\"text-align: right;\">   28</td><td>NOVA PALESTINA</td><td style=\"text-align: right;\">            0</td><td style=\"text-align: right;\">             0</td><td style=\"text-align: right;\">         0</td><td style=\"text-align: right;\">           0</td><td style=\"text-align: right;\">         0</td><td style=\"text-align: right;\">             0</td><td>No      </td><td style=\"text-align: right;\">               4</td><td style=\"text-align: right;\">                 4</td><td style=\"text-align: right;\">     0</td></tr>\n",
       "<tr><td style=\"text-align: right;\">  14</td><td style=\"text-align: right;\">9.98847e+13</td><td style=\"text-align: right;\">    5.63395e+06</td><td>F       </td><td>2016-04-28 10:06:24</td><td>2016-04-29 00:00:00</td><td style=\"text-align: right;\">   54</td><td>NOVA PALESTINA</td><td style=\"text-align: right;\">            0</td><td style=\"text-align: right;\">             0</td><td style=\"text-align: right;\">         0</td><td style=\"text-align: right;\">           0</td><td style=\"text-align: right;\">         0</td><td style=\"text-align: right;\">             0</td><td>No      </td><td style=\"text-align: right;\">               4</td><td style=\"text-align: right;\">                 4</td><td style=\"text-align: right;\">     0</td></tr>\n",
       "<tr><td style=\"text-align: right;\">  15</td><td style=\"text-align: right;\">9.99484e+10</td><td style=\"text-align: right;\">    5.62021e+06</td><td>F       </td><td>2016-04-26 08:47:27</td><td>2016-04-29 00:00:00</td><td style=\"text-align: right;\">   15</td><td>NOVA PALESTINA</td><td style=\"text-align: right;\">            0</td><td style=\"text-align: right;\">             0</td><td style=\"text-align: right;\">         0</td><td style=\"text-align: right;\">           0</td><td style=\"text-align: right;\">         0</td><td style=\"text-align: right;\">             1</td><td>No      </td><td style=\"text-align: right;\">               4</td><td style=\"text-align: right;\">                 4</td><td style=\"text-align: right;\">     2</td></tr>\n",
       "</tbody>\n",
       "</table>"
      ]
     },
     "metadata": {},
     "output_type": "display_data"
    },
    {
     "data": {
      "text/plain": []
     },
     "execution_count": 4,
     "metadata": {},
     "output_type": "execute_result"
    }
   ],
   "source": [
    "data.head()"
   ]
  },
  {
   "cell_type": "code",
   "execution_count": 45,
   "metadata": {},
   "outputs": [],
   "source": [
    "data = data.drop([ 'Neighborhood','Gender','PatientID','AppointmentID'], axis=1)\n"
   ]
  },
  {
   "cell_type": "code",
   "execution_count": 6,
   "metadata": {
    "scrolled": true
   },
   "outputs": [
    {
     "name": "stdout",
     "output_type": "stream",
     "text": [
      "Rows:71954\n",
      "Cols:14\n",
      "\n",
      "\n"
     ]
    },
    {
     "data": {
      "text/html": [
       "<table>\n",
       "<thead>\n",
       "<tr><th>       </th><th>C1                </th><th>ScheduledDay       </th><th>AppointmentDay     </th><th>Age               </th><th>Scholarship        </th><th>Hypertension       </th><th>Diabetes           </th><th>Alcoholism          </th><th>Handicap           </th><th>SMS_received      </th><th>NoShow  </th><th>ScheduledMonth    </th><th>AppointmentMonth   </th><th>Time              </th></tr>\n",
       "</thead>\n",
       "<tbody>\n",
       "<tr><td>type   </td><td>int               </td><td>time               </td><td>time               </td><td>int               </td><td>int                </td><td>int                </td><td>int                </td><td>int                 </td><td>int                </td><td>int               </td><td>enum    </td><td>int               </td><td>int                </td><td>int               </td></tr>\n",
       "<tr><td>mins   </td><td>5.0               </td><td>1447139636000.0    </td><td>1461888000000.0    </td><td>0.0               </td><td>0.0                </td><td>0.0                </td><td>0.0                </td><td>0.0                 </td><td>0.0                </td><td>0.0               </td><td>        </td><td>1.0               </td><td>4.0                </td><td>0.0               </td></tr>\n",
       "<tr><td>mean   </td><td>54586.14990132581 </td><td>1462312324593.4636 </td><td>1463622151530.1438 </td><td>38.497428912916575</td><td>0.09271201045112155</td><td>0.20889735108541568</td><td>0.07472829863523918</td><td>0.025321733329627262</td><td>0.01998499041054007</td><td>0.4931067070628457</td><td>        </td><td>4.617561219668126 </td><td>5.210717958695833  </td><td>14.642257553436918</td></tr>\n",
       "<tr><td>maxs   </td><td>110526.0          </td><td>1465326237000.0    </td><td>1465344000000.0    </td><td>100.0             </td><td>1.0                </td><td>1.0                </td><td>1.0                </td><td>1.0                 </td><td>4.0                </td><td>1.0               </td><td>        </td><td>12.0              </td><td>6.0                </td><td>178.0             </td></tr>\n",
       "<tr><td>sigma  </td><td>32339.741038617798</td><td>1725341803.053832  </td><td>1054137366.9352598 </td><td>22.91789870571808 </td><td>0.2900304511891708 </td><td>0.40652373185525215</td><td>0.262954256437638  </td><td>0.15710151546067544 </td><td>0.1539469365549716 </td><td>0.499955954402364 </td><td>        </td><td>0.7397613188917292</td><td>0.47641254661559734</td><td>16.494482893312956</td></tr>\n",
       "<tr><td>zeros  </td><td>0                 </td><td>0                  </td><td>0                  </td><td>2131              </td><td>65283              </td><td>56923              </td><td>66577              </td><td>70132               </td><td>70650              </td><td>36473             </td><td>        </td><td>0                 </td><td>0                  </td><td>5213              </td></tr>\n",
       "<tr><td>missing</td><td>0                 </td><td>0                  </td><td>0                  </td><td>0                 </td><td>0                  </td><td>0                  </td><td>0                  </td><td>0                   </td><td>0                  </td><td>0                 </td><td>0       </td><td>0                 </td><td>0                  </td><td>0                 </td></tr>\n",
       "<tr><td>0      </td><td>5.0               </td><td>2016-04-27 08:36:51</td><td>2016-04-29 00:00:00</td><td>76.0              </td><td>0.0                </td><td>1.0                </td><td>0.0                </td><td>0.0                 </td><td>0.0                </td><td>0.0               </td><td>No      </td><td>4.0               </td><td>4.0                </td><td>1.0               </td></tr>\n",
       "<tr><td>1      </td><td>6.0               </td><td>2016-04-27 15:05:12</td><td>2016-04-29 00:00:00</td><td>23.0              </td><td>0.0                </td><td>0.0                </td><td>0.0                </td><td>0.0                 </td><td>0.0                </td><td>0.0               </td><td>Yes     </td><td>4.0               </td><td>4.0                </td><td>1.0               </td></tr>\n",
       "<tr><td>2      </td><td>7.0               </td><td>2016-04-27 15:39:58</td><td>2016-04-29 00:00:00</td><td>39.0              </td><td>0.0                </td><td>0.0                </td><td>0.0                </td><td>0.0                 </td><td>0.0                </td><td>0.0               </td><td>Yes     </td><td>4.0               </td><td>4.0                </td><td>1.0               </td></tr>\n",
       "<tr><td>3      </td><td>9.0               </td><td>2016-04-27 12:48:25</td><td>2016-04-29 00:00:00</td><td>19.0              </td><td>0.0                </td><td>0.0                </td><td>0.0                </td><td>0.0                 </td><td>0.0                </td><td>0.0               </td><td>No      </td><td>4.0               </td><td>4.0                </td><td>1.0               </td></tr>\n",
       "<tr><td>4      </td><td>10.0              </td><td>2016-04-27 14:58:11</td><td>2016-04-29 00:00:00</td><td>30.0              </td><td>0.0                </td><td>0.0                </td><td>0.0                </td><td>0.0                 </td><td>0.0                </td><td>0.0               </td><td>No      </td><td>4.0               </td><td>4.0                </td><td>1.0               </td></tr>\n",
       "<tr><td>5      </td><td>11.0              </td><td>2016-04-26 08:44:12</td><td>2016-04-29 00:00:00</td><td>29.0              </td><td>0.0                </td><td>0.0                </td><td>0.0                </td><td>0.0                 </td><td>0.0                </td><td>1.0               </td><td>Yes     </td><td>4.0               </td><td>4.0                </td><td>2.0               </td></tr>\n",
       "<tr><td>6      </td><td>12.0              </td><td>2016-04-28 11:33:51</td><td>2016-04-29 00:00:00</td><td>22.0              </td><td>1.0                </td><td>0.0                </td><td>0.0                </td><td>0.0                 </td><td>0.0                </td><td>0.0               </td><td>No      </td><td>4.0               </td><td>4.0                </td><td>0.0               </td></tr>\n",
       "<tr><td>7      </td><td>13.0              </td><td>2016-04-28 14:52:07</td><td>2016-04-29 00:00:00</td><td>28.0              </td><td>0.0                </td><td>0.0                </td><td>0.0                </td><td>0.0                 </td><td>0.0                </td><td>0.0               </td><td>No      </td><td>4.0               </td><td>4.0                </td><td>0.0               </td></tr>\n",
       "<tr><td>8      </td><td>14.0              </td><td>2016-04-28 10:06:24</td><td>2016-04-29 00:00:00</td><td>54.0              </td><td>0.0                </td><td>0.0                </td><td>0.0                </td><td>0.0                 </td><td>0.0                </td><td>0.0               </td><td>No      </td><td>4.0               </td><td>4.0                </td><td>0.0               </td></tr>\n",
       "<tr><td>9      </td><td>15.0              </td><td>2016-04-26 08:47:27</td><td>2016-04-29 00:00:00</td><td>15.0              </td><td>0.0                </td><td>0.0                </td><td>0.0                </td><td>0.0                 </td><td>0.0                </td><td>1.0               </td><td>No      </td><td>4.0               </td><td>4.0                </td><td>2.0               </td></tr>\n",
       "</tbody>\n",
       "</table>"
      ]
     },
     "metadata": {},
     "output_type": "display_data"
    }
   ],
   "source": [
    "data.describe()"
   ]
  },
  {
   "cell_type": "code",
   "execution_count": 8,
   "metadata": {
    "scrolled": true
   },
   "outputs": [
    {
     "data": {
      "text/plain": [
       "['C1',\n",
       " 'ScheduledDay',\n",
       " 'AppointmentDay',\n",
       " 'Age',\n",
       " 'Scholarship',\n",
       " 'Hypertension',\n",
       " 'Diabetes',\n",
       " 'Alcoholism',\n",
       " 'Handicap',\n",
       " 'SMS_received',\n",
       " 'NoShow',\n",
       " 'ScheduledMonth',\n",
       " 'AppointmentMonth',\n",
       " 'Time']"
      ]
     },
     "execution_count": 8,
     "metadata": {},
     "output_type": "execute_result"
    }
   ],
   "source": [
    "data.columns"
   ]
  },
  {
   "cell_type": "code",
   "execution_count": 46,
   "metadata": {},
   "outputs": [],
   "source": [
    "# Define features (or predictors) manually\n",
    "features =['C1',\n",
    " 'ScheduledDay',\n",
    " 'AppointmentDay',\n",
    " 'Age',\n",
    " 'Scholarship',\n",
    " 'Hypertension',\n",
    " 'Diabetes',\n",
    " 'Alcoholism',\n",
    " 'Handicap',\n",
    " 'SMS_received',\n",
    " 'ScheduledMonth',\n",
    " 'AppointmentMonth',\n",
    " 'Time']"
   ]
  },
  {
   "cell_type": "code",
   "execution_count": 47,
   "metadata": {},
   "outputs": [],
   "source": [
    "# Split the H2O data frame into training/test sets\n",
    "# so we can evaluate out-of-bag performance\n",
    "data_split = data.split_frame(ratios = [0.9], seed = 1234)\n",
    "\n",
    "data_train = data_split[0] # using 90% for training\n",
    "data_test = data_split[1]  # using the rest 10% for out-of-bag evaluation"
   ]
  },
  {
   "cell_type": "code",
   "execution_count": 11,
   "metadata": {},
   "outputs": [
    {
     "data": {
      "text/plain": [
       "(64586, 14)"
      ]
     },
     "execution_count": 11,
     "metadata": {},
     "output_type": "execute_result"
    }
   ],
   "source": [
    "data_train.shape"
   ]
  },
  {
   "cell_type": "code",
   "execution_count": 12,
   "metadata": {},
   "outputs": [
    {
     "data": {
      "text/plain": [
       "(7368, 14)"
      ]
     },
     "execution_count": 12,
     "metadata": {},
     "output_type": "execute_result"
    }
   ],
   "source": [
    "data_test.shape"
   ]
  },
  {
   "cell_type": "code",
   "execution_count": 13,
   "metadata": {},
   "outputs": [
    {
     "data": {
      "text/html": [
       "<table>\n",
       "<thead>\n",
       "<tr><th style=\"text-align: right;\">  C1</th><th>ScheduledDay       </th><th>AppointmentDay     </th><th style=\"text-align: right;\">  Age</th><th style=\"text-align: right;\">  Scholarship</th><th style=\"text-align: right;\">  Hypertension</th><th style=\"text-align: right;\">  Diabetes</th><th style=\"text-align: right;\">  Alcoholism</th><th style=\"text-align: right;\">  Handicap</th><th style=\"text-align: right;\">  SMS_received</th><th>NoShow  </th><th style=\"text-align: right;\">  ScheduledMonth</th><th style=\"text-align: right;\">  AppointmentMonth</th><th style=\"text-align: right;\">  Time</th></tr>\n",
       "</thead>\n",
       "<tbody>\n",
       "<tr><td style=\"text-align: right;\">   5</td><td>2016-04-27 08:36:51</td><td>2016-04-29 00:00:00</td><td style=\"text-align: right;\">   76</td><td style=\"text-align: right;\">            0</td><td style=\"text-align: right;\">             1</td><td style=\"text-align: right;\">         0</td><td style=\"text-align: right;\">           0</td><td style=\"text-align: right;\">         0</td><td style=\"text-align: right;\">             0</td><td>No      </td><td style=\"text-align: right;\">               4</td><td style=\"text-align: right;\">                 4</td><td style=\"text-align: right;\">     1</td></tr>\n",
       "<tr><td style=\"text-align: right;\">   6</td><td>2016-04-27 15:05:12</td><td>2016-04-29 00:00:00</td><td style=\"text-align: right;\">   23</td><td style=\"text-align: right;\">            0</td><td style=\"text-align: right;\">             0</td><td style=\"text-align: right;\">         0</td><td style=\"text-align: right;\">           0</td><td style=\"text-align: right;\">         0</td><td style=\"text-align: right;\">             0</td><td>Yes     </td><td style=\"text-align: right;\">               4</td><td style=\"text-align: right;\">                 4</td><td style=\"text-align: right;\">     1</td></tr>\n",
       "<tr><td style=\"text-align: right;\">   7</td><td>2016-04-27 15:39:58</td><td>2016-04-29 00:00:00</td><td style=\"text-align: right;\">   39</td><td style=\"text-align: right;\">            0</td><td style=\"text-align: right;\">             0</td><td style=\"text-align: right;\">         0</td><td style=\"text-align: right;\">           0</td><td style=\"text-align: right;\">         0</td><td style=\"text-align: right;\">             0</td><td>Yes     </td><td style=\"text-align: right;\">               4</td><td style=\"text-align: right;\">                 4</td><td style=\"text-align: right;\">     1</td></tr>\n",
       "<tr><td style=\"text-align: right;\">  10</td><td>2016-04-27 14:58:11</td><td>2016-04-29 00:00:00</td><td style=\"text-align: right;\">   30</td><td style=\"text-align: right;\">            0</td><td style=\"text-align: right;\">             0</td><td style=\"text-align: right;\">         0</td><td style=\"text-align: right;\">           0</td><td style=\"text-align: right;\">         0</td><td style=\"text-align: right;\">             0</td><td>No      </td><td style=\"text-align: right;\">               4</td><td style=\"text-align: right;\">                 4</td><td style=\"text-align: right;\">     1</td></tr>\n",
       "<tr><td style=\"text-align: right;\">  11</td><td>2016-04-26 08:44:12</td><td>2016-04-29 00:00:00</td><td style=\"text-align: right;\">   29</td><td style=\"text-align: right;\">            0</td><td style=\"text-align: right;\">             0</td><td style=\"text-align: right;\">         0</td><td style=\"text-align: right;\">           0</td><td style=\"text-align: right;\">         0</td><td style=\"text-align: right;\">             1</td><td>Yes     </td><td style=\"text-align: right;\">               4</td><td style=\"text-align: right;\">                 4</td><td style=\"text-align: right;\">     2</td></tr>\n",
       "<tr><td style=\"text-align: right;\">  12</td><td>2016-04-28 11:33:51</td><td>2016-04-29 00:00:00</td><td style=\"text-align: right;\">   22</td><td style=\"text-align: right;\">            1</td><td style=\"text-align: right;\">             0</td><td style=\"text-align: right;\">         0</td><td style=\"text-align: right;\">           0</td><td style=\"text-align: right;\">         0</td><td style=\"text-align: right;\">             0</td><td>No      </td><td style=\"text-align: right;\">               4</td><td style=\"text-align: right;\">                 4</td><td style=\"text-align: right;\">     0</td></tr>\n",
       "<tr><td style=\"text-align: right;\">  13</td><td>2016-04-28 14:52:07</td><td>2016-04-29 00:00:00</td><td style=\"text-align: right;\">   28</td><td style=\"text-align: right;\">            0</td><td style=\"text-align: right;\">             0</td><td style=\"text-align: right;\">         0</td><td style=\"text-align: right;\">           0</td><td style=\"text-align: right;\">         0</td><td style=\"text-align: right;\">             0</td><td>No      </td><td style=\"text-align: right;\">               4</td><td style=\"text-align: right;\">                 4</td><td style=\"text-align: right;\">     0</td></tr>\n",
       "<tr><td style=\"text-align: right;\">  14</td><td>2016-04-28 10:06:24</td><td>2016-04-29 00:00:00</td><td style=\"text-align: right;\">   54</td><td style=\"text-align: right;\">            0</td><td style=\"text-align: right;\">             0</td><td style=\"text-align: right;\">         0</td><td style=\"text-align: right;\">           0</td><td style=\"text-align: right;\">         0</td><td style=\"text-align: right;\">             0</td><td>No      </td><td style=\"text-align: right;\">               4</td><td style=\"text-align: right;\">                 4</td><td style=\"text-align: right;\">     0</td></tr>\n",
       "<tr><td style=\"text-align: right;\">  16</td><td>2016-04-28 08:51:47</td><td>2016-04-29 00:00:00</td><td style=\"text-align: right;\">   50</td><td style=\"text-align: right;\">            0</td><td style=\"text-align: right;\">             0</td><td style=\"text-align: right;\">         0</td><td style=\"text-align: right;\">           0</td><td style=\"text-align: right;\">         0</td><td style=\"text-align: right;\">             0</td><td>No      </td><td style=\"text-align: right;\">               4</td><td style=\"text-align: right;\">                 4</td><td style=\"text-align: right;\">     0</td></tr>\n",
       "<tr><td style=\"text-align: right;\">  17</td><td>2016-04-28 09:28:57</td><td>2016-04-29 00:00:00</td><td style=\"text-align: right;\">   40</td><td style=\"text-align: right;\">            1</td><td style=\"text-align: right;\">             0</td><td style=\"text-align: right;\">         0</td><td style=\"text-align: right;\">           0</td><td style=\"text-align: right;\">         0</td><td style=\"text-align: right;\">             0</td><td>Yes     </td><td style=\"text-align: right;\">               4</td><td style=\"text-align: right;\">                 4</td><td style=\"text-align: right;\">     0</td></tr>\n",
       "</tbody>\n",
       "</table>"
      ]
     },
     "metadata": {},
     "output_type": "display_data"
    },
    {
     "data": {
      "text/plain": []
     },
     "execution_count": 13,
     "metadata": {},
     "output_type": "execute_result"
    }
   ],
   "source": [
    "data_train"
   ]
  },
  {
   "cell_type": "markdown",
   "metadata": {},
   "source": [
    "# Generalized Linear Model"
   ]
  },
  {
   "cell_type": "code",
   "execution_count": 14,
   "metadata": {},
   "outputs": [],
   "source": [
    "#Setting Parameters for grid search\n",
    "hyper_parameters = { 'alpha': [0.01,0.1,0.3,0.5,0.7,0.9], \n",
    "                     'lambda': [1e-4,1e-5,1e-6,1e-7,1e-8] }\n",
    "\n",
    "search_criteria = { 'strategy': \"RandomDiscrete\", 'seed': 42,\n",
    "                    'stopping_metric': \"AUTO\", \n",
    "                    'stopping_tolerance': 0.001,\n",
    "                    'stopping_rounds': 2 }"
   ]
  },
  {
   "cell_type": "code",
   "execution_count": 15,
   "metadata": {},
   "outputs": [],
   "source": [
    "# Build a Generalized Linear Model (GLM) with default settings\n",
    "\n",
    "# Import the function for GLM\n",
    "from h2o.estimators.glm import H2OGeneralizedLinearEstimator\n",
    "from h2o.grid.grid_search import H2OGridSearch\n",
    "\n",
    "\n",
    "glm_gridSearch = H2OGridSearch(H2OGeneralizedLinearEstimator(model_id = 'glm_hyperParam', family='binomial', nfolds=5),\n",
    "                               hyper_parameters, \n",
    "                               grid_id=\"glm_gridSearch\", \n",
    "                               search_criteria=search_criteria)"
   ]
  },
  {
   "cell_type": "code",
   "execution_count": 16,
   "metadata": {
    "scrolled": true
   },
   "outputs": [
    {
     "name": "stdout",
     "output_type": "stream",
     "text": [
      "glm Grid Build progress: |████████████████████████████████████████████████| 100%\n"
     ]
    }
   ],
   "source": [
    "glm_girdSearch_fit = glm_gridSearch.train(x = features,\n",
    "                                         y = 'NoShow',\n",
    "                                         training_frame = data_train)"
   ]
  },
  {
   "cell_type": "code",
   "execution_count": 17,
   "metadata": {
    "scrolled": true
   },
   "outputs": [],
   "source": [
    "glm_gridPerformance = glm_gridSearch.get_grid(sort_by='auc', decreasing=True)"
   ]
  },
  {
   "cell_type": "code",
   "execution_count": 18,
   "metadata": {},
   "outputs": [
    {
     "name": "stdout",
     "output_type": "stream",
     "text": [
      "      alpha    lambda               model_ids                 auc\n",
      "0    [0.01]  [1.0E-8]  glm_gridSearch_model_1  0.5866910867104446\n",
      "1     [0.9]  [1.0E-7]  glm_gridSearch_model_3  0.5865992332183763\n",
      "2     [0.3]  [1.0E-7]  glm_gridSearch_model_0  0.5864677491214542\n",
      "3     [0.1]  [1.0E-7]  glm_gridSearch_model_4  0.5863745339365533\n",
      "4    [0.01]  [1.0E-4]  glm_gridSearch_model_2   0.585262013276652\n",
      "\n"
     ]
    }
   ],
   "source": [
    "print(glm_gridPerformance)"
   ]
  },
  {
   "cell_type": "markdown",
   "metadata": {},
   "source": [
    "# Distributed Random Forest"
   ]
  },
  {
   "cell_type": "code",
   "execution_count": 31,
   "metadata": {},
   "outputs": [],
   "source": [
    "# DRF hyperparameters\n",
    "drf_params = {'mtries': [3, 6, 9] }"
   ]
  },
  {
   "cell_type": "code",
   "execution_count": 43,
   "metadata": {},
   "outputs": [],
   "source": [
    "# Build a Distributed Random Forest (DRF) model with default settings\n",
    "\n",
    "# Import the function for DRF\n",
    "from h2o.estimators.random_forest import H2ORandomForestEstimator"
   ]
  },
  {
   "cell_type": "code",
   "execution_count": 44,
   "metadata": {},
   "outputs": [],
   "source": [
    "\n",
    "drf_gridSearch = H2OGridSearch(H2ORandomForestEstimator(seed = 1234, model_id = 'drf_hyperParam'), \n",
    "                                   hyper_params = drf_params,\n",
    "                                   search_criteria = {'strategy': \"Cartesian\"}, \n",
    "                                   grid_id = \"drf_gridSearch\" )"
   ]
  },
  {
   "cell_type": "code",
   "execution_count": 45,
   "metadata": {},
   "outputs": [
    {
     "name": "stdout",
     "output_type": "stream",
     "text": [
      "drf Grid Build progress: |████████████████████████████████████████████████| 100%\n"
     ]
    }
   ],
   "source": [
    "drf_gridSearch.train(x = features, y = 'NoShow', training_frame = data_train)"
   ]
  },
  {
   "cell_type": "code",
   "execution_count": 46,
   "metadata": {},
   "outputs": [],
   "source": [
    "drf_gridPerformance = drf_gridSearch.get_grid(sort_by='auc', decreasing=True)"
   ]
  },
  {
   "cell_type": "code",
   "execution_count": 47,
   "metadata": {},
   "outputs": [
    {
     "name": "stdout",
     "output_type": "stream",
     "text": [
      "    mtries               model_ids                 auc\n",
      "0        3  drf_gridSearch_model_0  0.6160396799287857\n",
      "1        6  drf_gridSearch_model_1  0.6129486612736232\n",
      "2        9  drf_gridSearch_model_2  0.6092266791385752\n"
     ]
    },
    {
     "data": {
      "text/plain": []
     },
     "execution_count": 47,
     "metadata": {},
     "output_type": "execute_result"
    }
   ],
   "source": [
    "drf_gridPerformance"
   ]
  },
  {
   "cell_type": "markdown",
   "metadata": {},
   "source": [
    "# Gradient Boosting Machines"
   ]
  },
  {
   "cell_type": "code",
   "execution_count": 19,
   "metadata": {},
   "outputs": [],
   "source": [
    "# Import H2O Grid Search:\n",
    "from h2o.grid.grid_search import H2OGridSearch\n",
    "\n",
    "# Import H2O GBM:\n",
    "from h2o.estimators.gbm import H2OGradientBoostingEstimator"
   ]
  },
  {
   "cell_type": "code",
   "execution_count": 20,
   "metadata": {},
   "outputs": [],
   "source": [
    "# GBM hyperparameters\n",
    "gbm_params = {'learn_rate': [0.01, 0.1], \n",
    "                'max_depth': [3, 5, 9],\n",
    "                'sample_rate': [0.8, 1.0],\n",
    "                'col_sample_rate': [0.2, 0.5, 1.0]}"
   ]
  },
  {
   "cell_type": "code",
   "execution_count": 21,
   "metadata": {},
   "outputs": [
    {
     "name": "stdout",
     "output_type": "stream",
     "text": [
      "gbm Grid Build progress: |████████████████████████████████████████████████| 100%\n"
     ]
    }
   ],
   "source": [
    "gbm_gridSearch = H2OGridSearch(model=H2OGradientBoostingEstimator,\n",
    "                          grid_id='gbm_grid1',\n",
    "                          hyper_params=gbm_params)\n",
    "gbm_gridSearch.train(x=features, y='NoShow', \n",
    "                training_frame=data_train, \n",
    "                ntrees=100,\n",
    "                seed=1)"
   ]
  },
  {
   "cell_type": "code",
   "execution_count": 22,
   "metadata": {},
   "outputs": [],
   "source": [
    "gbm_gridPerf = gbm_gridSearch.get_grid(sort_by='auc', decreasing=True)"
   ]
  },
  {
   "cell_type": "code",
   "execution_count": 23,
   "metadata": {},
   "outputs": [
    {
     "name": "stdout",
     "output_type": "stream",
     "text": [
      "     col_sample_rate learn_rate max_depth sample_rate           model_ids  \\\n",
      "0                1.0        0.1         9         0.8  gbm_grid1_model_17   \n",
      "1                1.0        0.1         9         1.0  gbm_grid1_model_35   \n",
      "2                0.5        0.1         9         0.8  gbm_grid1_model_16   \n",
      "3                0.5        0.1         9         1.0  gbm_grid1_model_34   \n",
      "4                0.2        0.1         9         0.8  gbm_grid1_model_15   \n",
      "5                0.2        0.1         9         1.0  gbm_grid1_model_33   \n",
      "6                1.0       0.01         9         0.8  gbm_grid1_model_14   \n",
      "7                0.5       0.01         9         1.0  gbm_grid1_model_31   \n",
      "8                0.5       0.01         9         0.8  gbm_grid1_model_13   \n",
      "9                1.0       0.01         9         1.0  gbm_grid1_model_32   \n",
      "10               1.0        0.1         5         1.0  gbm_grid1_model_29   \n",
      "11               1.0        0.1         5         0.8  gbm_grid1_model_11   \n",
      "12               0.5        0.1         5         0.8  gbm_grid1_model_10   \n",
      "13               0.2       0.01         9         1.0  gbm_grid1_model_30   \n",
      "14               0.5        0.1         5         1.0  gbm_grid1_model_28   \n",
      "15               0.2       0.01         9         0.8  gbm_grid1_model_12   \n",
      "16               0.2        0.1         5         0.8   gbm_grid1_model_9   \n",
      "17               0.2        0.1         5         1.0  gbm_grid1_model_27   \n",
      "18               1.0        0.1         3         0.8   gbm_grid1_model_5   \n",
      "19               1.0        0.1         3         1.0  gbm_grid1_model_23   \n",
      "20               0.5        0.1         3         0.8   gbm_grid1_model_4   \n",
      "21               0.5        0.1         3         1.0  gbm_grid1_model_22   \n",
      "22               1.0       0.01         5         0.8   gbm_grid1_model_8   \n",
      "23               0.5       0.01         5         0.8   gbm_grid1_model_7   \n",
      "24               0.5       0.01         5         1.0  gbm_grid1_model_25   \n",
      "25               1.0       0.01         5         1.0  gbm_grid1_model_26   \n",
      "26               0.2        0.1         3         1.0  gbm_grid1_model_21   \n",
      "27               0.2        0.1         3         0.8   gbm_grid1_model_3   \n",
      "28               0.2       0.01         5         0.8   gbm_grid1_model_6   \n",
      "29               0.2       0.01         5         1.0  gbm_grid1_model_24   \n",
      "30               0.5       0.01         3         0.8   gbm_grid1_model_1   \n",
      "31               0.5       0.01         3         1.0  gbm_grid1_model_19   \n",
      "32               1.0       0.01         3         0.8   gbm_grid1_model_2   \n",
      "33               1.0       0.01         3         1.0  gbm_grid1_model_20   \n",
      "34               0.2       0.01         3         0.8   gbm_grid1_model_0   \n",
      "35               0.2       0.01         3         1.0  gbm_grid1_model_18   \n",
      "\n",
      "                   auc  \n",
      "0   0.7841185618139699  \n",
      "1   0.7757913785583878  \n",
      "2   0.7756196555281191  \n",
      "3   0.7653395968854872  \n",
      "4   0.7077138325296909  \n",
      "5   0.7072238579858309  \n",
      "6   0.7056516717509952  \n",
      "7   0.6982602163294804  \n",
      "8    0.696797122300891  \n",
      "9   0.6943006384660022  \n",
      "10  0.6698371890408683  \n",
      "11  0.6695820422133586  \n",
      "12  0.6629687751619946  \n",
      "13  0.6626535282979177  \n",
      "14  0.6618523033028392  \n",
      "15  0.6608134673123991  \n",
      "16  0.6392594358076185  \n",
      "17  0.6384139519787485  \n",
      "18  0.6296918877839448  \n",
      "19  0.6283014895974214  \n",
      "20  0.6260637391445145  \n",
      "21   0.625992584088129  \n",
      "22  0.6198169471451499  \n",
      "23  0.6191310796700406  \n",
      "24  0.6184230393260002  \n",
      "25  0.6183033624388571  \n",
      "26   0.617592498299719  \n",
      "27  0.6175391527058655  \n",
      "28  0.6145172327688826  \n",
      "29   0.614445031927704  \n",
      "30  0.6033573402891821  \n",
      "31  0.6031926617733216  \n",
      "32  0.6026902100362751  \n",
      "33  0.6023324077756242  \n",
      "34  0.6007325472918886  \n",
      "35  0.6003813773385012  \n"
     ]
    },
    {
     "data": {
      "text/plain": []
     },
     "execution_count": 23,
     "metadata": {},
     "output_type": "execute_result"
    }
   ],
   "source": [
    "gbm_gridPerf"
   ]
  },
  {
   "cell_type": "markdown",
   "metadata": {},
   "source": [
    "# Deep Learning"
   ]
  },
  {
   "cell_type": "code",
   "execution_count": 48,
   "metadata": {},
   "outputs": [],
   "source": [
    "# Build a Deep Learning (Deep Neural Networks, DNN) model with default settings\n",
    "\n",
    "# Import the function for DNN\n",
    "from h2o.estimators.deeplearning import H2ODeepLearningEstimator"
   ]
  },
  {
   "cell_type": "code",
   "execution_count": 49,
   "metadata": {},
   "outputs": [],
   "source": [
    "# DL hyperparameters\n",
    "activation_opt = [\"Rectifier\", \"RectifierWithDropout\", \"Maxout\", \"MaxoutWithDropout\"]\n",
    "l1_opt = [0, 0.00001, 0.0001, 0.001, 0.01, 0.1]\n",
    "l2_opt = [0, 0.00001, 0.0001, 0.001, 0.01, 0.1]\n",
    "dl_params = {'activation': activation_opt, 'l1': l1_opt, 'l2': l2_opt}"
   ]
  },
  {
   "cell_type": "code",
   "execution_count": 50,
   "metadata": {},
   "outputs": [],
   "source": [
    "# Search criteria\n",
    "search_criteria = {'strategy': 'RandomDiscrete', 'max_runtime_secs': 120, 'seed':1}"
   ]
  },
  {
   "cell_type": "code",
   "execution_count": 51,
   "metadata": {},
   "outputs": [],
   "source": [
    "dl_gridSearch = H2OGridSearch(model=H2ODeepLearningEstimator,\n",
    "                        grid_id='dl_grid',\n",
    "                        hyper_params=dl_params,\n",
    "                        search_criteria=search_criteria)"
   ]
  },
  {
   "cell_type": "code",
   "execution_count": 54,
   "metadata": {},
   "outputs": [
    {
     "name": "stdout",
     "output_type": "stream",
     "text": [
      "deeplearning Grid Build progress: |███████████████████████████████████████| 100%\n"
     ]
    }
   ],
   "source": [
    "dl_gridSearch.train(x=features, y='NoShow',\n",
    "              training_frame=data_train,              \n",
    "              hidden=[10,10],          \n",
    "              search_criteria=search_criteria)\n"
   ]
  },
  {
   "cell_type": "code",
   "execution_count": 55,
   "metadata": {},
   "outputs": [],
   "source": [
    "dl_gridPerf = dl_gridSearch.get_grid(sort_by='auc', decreasing=True)"
   ]
  },
  {
   "cell_type": "code",
   "execution_count": 56,
   "metadata": {},
   "outputs": [
    {
     "name": "stdout",
     "output_type": "stream",
     "text": [
      "                 activation      l1      l2         model_ids  \\\n",
      "0                 Rectifier  1.0E-4   0.001  dl_grid_model_36   \n",
      "1                 Rectifier  1.0E-5  1.0E-4  dl_grid_model_49   \n",
      "2      RectifierWithDropout  1.0E-4   0.001  dl_grid_model_17   \n",
      "3                 Rectifier     0.0  1.0E-5  dl_grid_model_24   \n",
      "4         MaxoutWithDropout  1.0E-4  1.0E-4  dl_grid_model_19   \n",
      "5      RectifierWithDropout     0.0   0.001  dl_grid_model_12   \n",
      "6         MaxoutWithDropout    0.01     0.0  dl_grid_model_10   \n",
      "7         MaxoutWithDropout   0.001  1.0E-4   dl_grid_model_9   \n",
      "8                    Maxout   0.001   0.001  dl_grid_model_40   \n",
      "9                    Maxout  1.0E-5  1.0E-4  dl_grid_model_18   \n",
      "10                   Maxout   0.001     0.0  dl_grid_model_51   \n",
      "11     RectifierWithDropout  1.0E-5     0.0  dl_grid_model_28   \n",
      "12        MaxoutWithDropout     0.0   0.001  dl_grid_model_63   \n",
      "13                   Maxout  1.0E-5   0.001  dl_grid_model_35   \n",
      "14     RectifierWithDropout   0.001     0.0  dl_grid_model_48   \n",
      "15     RectifierWithDropout  1.0E-5  1.0E-4  dl_grid_model_62   \n",
      "16                Rectifier  1.0E-5     0.0  dl_grid_model_65   \n",
      "17                   Maxout     0.0     0.0  dl_grid_model_58   \n",
      "18                   Maxout  1.0E-5    0.01  dl_grid_model_20   \n",
      "19     RectifierWithDropout  1.0E-4  1.0E-4  dl_grid_model_64   \n",
      "20        MaxoutWithDropout  1.0E-5  1.0E-4  dl_grid_model_13   \n",
      "21                   Maxout     0.0  1.0E-5  dl_grid_model_67   \n",
      "22     RectifierWithDropout     0.0    0.01  dl_grid_model_30   \n",
      "23                   Maxout   0.001    0.01  dl_grid_model_60   \n",
      "24                   Maxout  1.0E-4     0.0   dl_grid_model_5   \n",
      "25        MaxoutWithDropout   0.001    0.01  dl_grid_model_68   \n",
      "26                   Maxout     0.0    0.01  dl_grid_model_34   \n",
      "27                Rectifier    0.01  1.0E-4  dl_grid_model_53   \n",
      "28                Rectifier  1.0E-4  1.0E-4  dl_grid_model_71   \n",
      "29        MaxoutWithDropout   0.001     0.0   dl_grid_model_4   \n",
      ".. ..                   ...     ...     ...               ...   \n",
      "42     RectifierWithDropout  1.0E-5    0.01  dl_grid_model_23   \n",
      "43     RectifierWithDropout  1.0E-4    0.01   dl_grid_model_1   \n",
      "44                   Maxout  1.0E-5  1.0E-5   dl_grid_model_3   \n",
      "45        MaxoutWithDropout     0.0     0.0  dl_grid_model_15   \n",
      "46     RectifierWithDropout     0.1    0.01   dl_grid_model_8   \n",
      "47        MaxoutWithDropout     0.1  1.0E-4   dl_grid_model_6   \n",
      "48                   Maxout     0.1     0.0  dl_grid_model_45   \n",
      "49                   Maxout  1.0E-5     0.1  dl_grid_model_42   \n",
      "50        MaxoutWithDropout    0.01     0.1   dl_grid_model_7   \n",
      "51                Rectifier    0.01     0.1  dl_grid_model_22   \n",
      "52                Rectifier  1.0E-4     0.1  dl_grid_model_41   \n",
      "53                   Maxout   0.001     0.1  dl_grid_model_69   \n",
      "54     RectifierWithDropout  1.0E-4     0.1  dl_grid_model_52   \n",
      "55                   Maxout     0.1     0.1  dl_grid_model_31   \n",
      "56                Rectifier    0.01    0.01  dl_grid_model_55   \n",
      "57                Rectifier     0.1  1.0E-4  dl_grid_model_25   \n",
      "58                   Maxout     0.1  1.0E-4  dl_grid_model_66   \n",
      "59                   Maxout    0.01     0.1  dl_grid_model_47   \n",
      "60                Rectifier     0.1     0.1  dl_grid_model_50   \n",
      "61                   Maxout     0.1    0.01  dl_grid_model_16   \n",
      "62                   Maxout     0.1  1.0E-5  dl_grid_model_43   \n",
      "63        MaxoutWithDropout  1.0E-4     0.1  dl_grid_model_46   \n",
      "64        MaxoutWithDropout     0.1     0.1  dl_grid_model_27   \n",
      "65        MaxoutWithDropout     0.1     0.0  dl_grid_model_26   \n",
      "66     RectifierWithDropout    0.01    0.01   dl_grid_model_2   \n",
      "67                Rectifier   0.001     0.1  dl_grid_model_70   \n",
      "68        MaxoutWithDropout  1.0E-5     0.1  dl_grid_model_57   \n",
      "69                   Maxout     0.1   0.001  dl_grid_model_61   \n",
      "70     RectifierWithDropout     0.1  1.0E-4  dl_grid_model_33   \n",
      "71                Rectifier     0.1   0.001  dl_grid_model_11   \n",
      "\n",
      "                   auc  \n",
      "0   0.6049373297051133  \n",
      "1   0.6048934241743393  \n",
      "2   0.6017532526046282  \n",
      "3   0.5997619046908417  \n",
      "4   0.5974509881469505  \n",
      "5   0.5961533184131397  \n",
      "6   0.5938293310149877  \n",
      "7   0.5926748873880369  \n",
      "8    0.591110105217144  \n",
      "9   0.5909135070195188  \n",
      "10   0.590447477884712  \n",
      "11  0.5904058591138146  \n",
      "12  0.5895216351429042  \n",
      "13  0.5891699304122725  \n",
      "14  0.5886275379596969  \n",
      "15  0.5876194754058159  \n",
      "16  0.5875422208875616  \n",
      "17  0.5873704965232949  \n",
      "18  0.5861789657267613  \n",
      "19  0.5855579108797555  \n",
      "20  0.5846272359038911  \n",
      "21  0.5843637970103855  \n",
      "22  0.5835281617778864  \n",
      "23  0.5833877471020881  \n",
      "24  0.5833221550021906  \n",
      "25  0.5832854354916324  \n",
      "26  0.5825076421760568  \n",
      "27  0.5824361296051741  \n",
      "28  0.5821275773263194  \n",
      "29  0.5820071462937105  \n",
      "..                 ...  \n",
      "42  0.5685863983255063  \n",
      "43  0.5659406493399979  \n",
      "44  0.5474285573949439  \n",
      "45   0.519476510903353  \n",
      "46   0.502057924778204  \n",
      "47   0.500965365492491  \n",
      "48  0.5002859841304338  \n",
      "49                 0.5  \n",
      "50                 0.5  \n",
      "51                 0.5  \n",
      "52                 0.5  \n",
      "53                 0.5  \n",
      "54                 0.5  \n",
      "55                 0.5  \n",
      "56                 0.5  \n",
      "57                 0.5  \n",
      "58                 0.5  \n",
      "59                 0.5  \n",
      "60                 0.5  \n",
      "61                 0.5  \n",
      "62                 0.5  \n",
      "63                 0.5  \n",
      "64                 0.5  \n",
      "65                 0.5  \n",
      "66                 0.5  \n",
      "67                 0.5  \n",
      "68                 0.5  \n",
      "69   0.499929178470255  \n",
      "70  0.4976262608037692  \n",
      "71  0.4958876763044795  \n",
      "\n",
      "[72 rows x 6 columns]\n"
     ]
    },
    {
     "data": {
      "text/plain": []
     },
     "execution_count": 56,
     "metadata": {},
     "output_type": "execute_result"
    }
   ],
   "source": [
    "dl_gridPerf"
   ]
  },
  {
   "cell_type": "markdown",
   "metadata": {},
   "source": [
    "## AutoML"
   ]
  },
  {
   "cell_type": "code",
   "execution_count": 57,
   "metadata": {},
   "outputs": [],
   "source": [
    "from h2o.automl import H2OAutoML"
   ]
  },
  {
   "cell_type": "markdown",
   "metadata": {},
   "source": [
    "Run AutoML, stopping after 60 seconds. The max_runtime_secs argument provides a way to limit the AutoML run by time. When using a time-limited stopping criterion, the number of models train will vary between runs. If different hardware is used or even if the same machine is used but the available compute resources on that machine are not the same between runs, then AutoML may be able to train more models on one run vs another.\n",
    "\n",
    "The test frame is passed explicitly to the leaderboard_frame argument here, which means that instead of using cross-validated metrics, we use test set metrics for generating the leaderboard."
   ]
  },
  {
   "cell_type": "code",
   "execution_count": 58,
   "metadata": {},
   "outputs": [
    {
     "name": "stdout",
     "output_type": "stream",
     "text": [
      "AutoML progress: |████████████████████████████████████████████████████████| 100%\n"
     ]
    }
   ],
   "source": [
    "aml = H2OAutoML(max_runtime_secs = 60, seed = 1, project_name = \"No_Show_Appointment\")\n",
    "aml.train(y = 'NoShow', training_frame = data_train, leaderboard_frame = data_test)"
   ]
  },
  {
   "cell_type": "code",
   "execution_count": 59,
   "metadata": {},
   "outputs": [
    {
     "name": "stdout",
     "output_type": "stream",
     "text": [
      "AutoML progress: |████████████████████████████████████████████████████████| 100%\n"
     ]
    }
   ],
   "source": [
    "aml2 = H2OAutoML(max_runtime_secs = 60, seed = 1, project_name = \"No_Show\")\n",
    "aml2.train(y = 'NoShow', training_frame = data_train)"
   ]
  },
  {
   "cell_type": "markdown",
   "metadata": {},
   "source": [
    "\n",
    "For demonstration purposes, we will also execute a second AutoML run, this time providing the original, full dataset, df (without passing a leaderboard_frame). This is a more efficient use of our data since we can use 100% of the data for training, rather than 80% like we did above. This time our leaderboard will use cross-validated metrics.\n",
    "\n",
    "Note: Using an explicit leaderboard_frame for scoring may be useful in some cases, which is why the option is available."
   ]
  },
  {
   "cell_type": "code",
   "execution_count": 60,
   "metadata": {},
   "outputs": [
    {
     "name": "stdout",
     "output_type": "stream",
     "text": [
      "AutoML progress: |████████████████████████████████████████████████████████| 100%\n"
     ]
    }
   ],
   "source": [
    "aml3 = H2OAutoML(max_runtime_secs = 60, seed = 1, project_name = \"No_Show_full_data\")\n",
    "aml3.train(y = 'NoShow', training_frame = data)"
   ]
  },
  {
   "cell_type": "markdown",
   "metadata": {},
   "source": [
    "## Leaderboard\n",
    "\n",
    "Next, we will view the AutoML Leaderboard. Since we specified a leaderboard_frame in the H2OAutoML.train() method for scoring and ranking the models, the AutoML leaderboard uses the performance on this data to rank the models.\n",
    "\n",
    "After viewing the \"powerplant_lb_frame\" AutoML project leaderboard, we compare that to the leaderboard for the \"powerplant_full_data\" project. We can see that the results are better when the full dataset is used for training.\n",
    "\n",
    "A default performance metric for each machine learning task (binary classification, multiclass classification, regression) is specified internally and the leaderboard will be sorted by that metric. In the case of regression, the default ranking metric is mean residual deviance. In the future, the user will be able to specify any of the H2O metrics so that different metrics can be used to generate rankings on the leaderboard."
   ]
  },
  {
   "cell_type": "code",
   "execution_count": 61,
   "metadata": {},
   "outputs": [
    {
     "data": {
      "text/html": [
       "<table>\n",
       "<thead>\n",
       "<tr><th>model_id                                             </th><th style=\"text-align: right;\">     auc</th><th style=\"text-align: right;\">  logloss</th><th style=\"text-align: right;\">  mean_per_class_error</th><th style=\"text-align: right;\">    rmse</th><th style=\"text-align: right;\">     mse</th></tr>\n",
       "</thead>\n",
       "<tbody>\n",
       "<tr><td>XRT_0_AutoML_20181027_001449                         </td><td style=\"text-align: right;\">0.617464</td><td style=\"text-align: right;\"> 0.582387</td><td style=\"text-align: right;\">              0.420567</td><td style=\"text-align: right;\">0.442718</td><td style=\"text-align: right;\">0.195999</td></tr>\n",
       "<tr><td>StackedEnsemble_AllModels_0_AutoML_20181027_001449   </td><td style=\"text-align: right;\">0.61668 </td><td style=\"text-align: right;\"> 0.572656</td><td style=\"text-align: right;\">              0.425557</td><td style=\"text-align: right;\">0.439285</td><td style=\"text-align: right;\">0.192972</td></tr>\n",
       "<tr><td>StackedEnsemble_BestOfFamily_0_AutoML_20181027_001449</td><td style=\"text-align: right;\">0.61668 </td><td style=\"text-align: right;\"> 0.572656</td><td style=\"text-align: right;\">              0.425557</td><td style=\"text-align: right;\">0.439285</td><td style=\"text-align: right;\">0.192972</td></tr>\n",
       "<tr><td>DRF_0_AutoML_20181027_001449                         </td><td style=\"text-align: right;\">0.608298</td><td style=\"text-align: right;\"> 0.591669</td><td style=\"text-align: right;\">              0.444199</td><td style=\"text-align: right;\">0.446291</td><td style=\"text-align: right;\">0.199176</td></tr>\n",
       "</tbody>\n",
       "</table>"
      ]
     },
     "metadata": {},
     "output_type": "display_data"
    },
    {
     "data": {
      "text/plain": []
     },
     "execution_count": 61,
     "metadata": {},
     "output_type": "execute_result"
    }
   ],
   "source": [
    "aml.leaderboard.head()"
   ]
  },
  {
   "cell_type": "markdown",
   "metadata": {},
   "source": [
    "Now we will view a snapshot of the top models. Here we should see the two Stacked Ensembles at or near the top of the leaderboard. Stacked Ensembles can almost always outperform a single model."
   ]
  },
  {
   "cell_type": "code",
   "execution_count": 62,
   "metadata": {},
   "outputs": [
    {
     "data": {
      "text/html": [
       "<table>\n",
       "<thead>\n",
       "<tr><th>model_id                                             </th><th style=\"text-align: right;\">     auc</th><th style=\"text-align: right;\">  logloss</th><th style=\"text-align: right;\">  mean_per_class_error</th><th style=\"text-align: right;\">    rmse</th><th style=\"text-align: right;\">     mse</th></tr>\n",
       "</thead>\n",
       "<tbody>\n",
       "<tr><td>StackedEnsemble_BestOfFamily_0_AutoML_20181027_001930</td><td style=\"text-align: right;\">0.615819</td><td style=\"text-align: right;\"> 0.578828</td><td style=\"text-align: right;\">              0.442859</td><td style=\"text-align: right;\">0.442483</td><td style=\"text-align: right;\">0.195791</td></tr>\n",
       "<tr><td>StackedEnsemble_AllModels_0_AutoML_20181027_001930   </td><td style=\"text-align: right;\">0.615819</td><td style=\"text-align: right;\"> 0.578828</td><td style=\"text-align: right;\">              0.442859</td><td style=\"text-align: right;\">0.442483</td><td style=\"text-align: right;\">0.195791</td></tr>\n",
       "<tr><td>XRT_0_AutoML_20181027_001930                         </td><td style=\"text-align: right;\">0.612556</td><td style=\"text-align: right;\"> 0.593355</td><td style=\"text-align: right;\">              0.438881</td><td style=\"text-align: right;\">0.447093</td><td style=\"text-align: right;\">0.199892</td></tr>\n",
       "<tr><td>DRF_0_AutoML_20181027_001930                         </td><td style=\"text-align: right;\">0.611978</td><td style=\"text-align: right;\"> 0.601448</td><td style=\"text-align: right;\">              0.439108</td><td style=\"text-align: right;\">0.448803</td><td style=\"text-align: right;\">0.201424</td></tr>\n",
       "</tbody>\n",
       "</table>"
      ]
     },
     "metadata": {},
     "output_type": "display_data"
    },
    {
     "data": {
      "text/plain": []
     },
     "execution_count": 62,
     "metadata": {},
     "output_type": "execute_result"
    }
   ],
   "source": [
    "aml2.leaderboard.head()"
   ]
  },
  {
   "cell_type": "code",
   "execution_count": 63,
   "metadata": {},
   "outputs": [
    {
     "data": {
      "text/html": [
       "<table>\n",
       "<thead>\n",
       "<tr><th>model_id                                             </th><th style=\"text-align: right;\">     auc</th><th style=\"text-align: right;\">  logloss</th><th style=\"text-align: right;\">  mean_per_class_error</th><th style=\"text-align: right;\">    rmse</th><th style=\"text-align: right;\">     mse</th></tr>\n",
       "</thead>\n",
       "<tbody>\n",
       "<tr><td>StackedEnsemble_AllModels_0_AutoML_20181027_002212   </td><td style=\"text-align: right;\">0.622261</td><td style=\"text-align: right;\"> 0.577276</td><td style=\"text-align: right;\">              0.426031</td><td style=\"text-align: right;\">0.441777</td><td style=\"text-align: right;\">0.195167</td></tr>\n",
       "<tr><td>StackedEnsemble_BestOfFamily_0_AutoML_20181027_002212</td><td style=\"text-align: right;\">0.622261</td><td style=\"text-align: right;\"> 0.577276</td><td style=\"text-align: right;\">              0.426031</td><td style=\"text-align: right;\">0.441777</td><td style=\"text-align: right;\">0.195167</td></tr>\n",
       "<tr><td>XRT_0_AutoML_20181027_002212                         </td><td style=\"text-align: right;\">0.619361</td><td style=\"text-align: right;\"> 0.58794 </td><td style=\"text-align: right;\">              0.429689</td><td style=\"text-align: right;\">0.445372</td><td style=\"text-align: right;\">0.198356</td></tr>\n",
       "<tr><td>DRF_0_AutoML_20181027_002212                         </td><td style=\"text-align: right;\">0.618803</td><td style=\"text-align: right;\"> 0.595308</td><td style=\"text-align: right;\">              0.426192</td><td style=\"text-align: right;\">0.447231</td><td style=\"text-align: right;\">0.200015</td></tr>\n",
       "</tbody>\n",
       "</table>"
      ]
     },
     "metadata": {},
     "output_type": "display_data"
    },
    {
     "data": {
      "text/plain": []
     },
     "execution_count": 63,
     "metadata": {},
     "output_type": "execute_result"
    }
   ],
   "source": [
    "aml3.leaderboard.head()"
   ]
  },
  {
   "cell_type": "markdown",
   "metadata": {},
   "source": [
    "## Predict Using Leader Model\n",
    "\n",
    "If you need to generate predictions on a test set, you can make predictions on the \"H2OAutoML\" object directly, or on the leader model object."
   ]
  },
  {
   "cell_type": "code",
   "execution_count": 64,
   "metadata": {},
   "outputs": [
    {
     "name": "stdout",
     "output_type": "stream",
     "text": [
      "drf prediction progress: |████████████████████████████████████████████████| 100%\n"
     ]
    },
    {
     "data": {
      "text/html": [
       "<table>\n",
       "<thead>\n",
       "<tr><th>predict  </th><th style=\"text-align: right;\">      No</th><th style=\"text-align: right;\">      Yes</th></tr>\n",
       "</thead>\n",
       "<tbody>\n",
       "<tr><td>Yes      </td><td style=\"text-align: right;\">0.479529</td><td style=\"text-align: right;\">0.520471 </td></tr>\n",
       "<tr><td>Yes      </td><td style=\"text-align: right;\">0.567089</td><td style=\"text-align: right;\">0.432911 </td></tr>\n",
       "<tr><td>Yes      </td><td style=\"text-align: right;\">0.296455</td><td style=\"text-align: right;\">0.703545 </td></tr>\n",
       "<tr><td>Yes      </td><td style=\"text-align: right;\">0.578603</td><td style=\"text-align: right;\">0.421397 </td></tr>\n",
       "<tr><td>Yes      </td><td style=\"text-align: right;\">0.725293</td><td style=\"text-align: right;\">0.274707 </td></tr>\n",
       "<tr><td>Yes      </td><td style=\"text-align: right;\">0.264516</td><td style=\"text-align: right;\">0.735484 </td></tr>\n",
       "<tr><td>Yes      </td><td style=\"text-align: right;\">0.758894</td><td style=\"text-align: right;\">0.241106 </td></tr>\n",
       "<tr><td>No       </td><td style=\"text-align: right;\">0.921032</td><td style=\"text-align: right;\">0.0789683</td></tr>\n",
       "<tr><td>No       </td><td style=\"text-align: right;\">0.933489</td><td style=\"text-align: right;\">0.0665108</td></tr>\n",
       "<tr><td>Yes      </td><td style=\"text-align: right;\">0.625793</td><td style=\"text-align: right;\">0.374207 </td></tr>\n",
       "</tbody>\n",
       "</table>"
      ]
     },
     "metadata": {},
     "output_type": "display_data"
    },
    {
     "data": {
      "text/plain": []
     },
     "execution_count": 64,
     "metadata": {},
     "output_type": "execute_result"
    }
   ],
   "source": [
    "pred = aml.predict(data_test)\n",
    "pred.head()"
   ]
  },
  {
   "cell_type": "code",
   "execution_count": 66,
   "metadata": {},
   "outputs": [
    {
     "name": "stdout",
     "output_type": "stream",
     "text": [
      "stackedensemble prediction progress: |████████████████████████████████████| 100%\n"
     ]
    },
    {
     "data": {
      "text/html": [
       "<table>\n",
       "<thead>\n",
       "<tr><th>predict  </th><th style=\"text-align: right;\">      No</th><th style=\"text-align: right;\">     Yes</th></tr>\n",
       "</thead>\n",
       "<tbody>\n",
       "<tr><td>Yes      </td><td style=\"text-align: right;\">0.546985</td><td style=\"text-align: right;\">0.453015</td></tr>\n",
       "<tr><td>Yes      </td><td style=\"text-align: right;\">0.674445</td><td style=\"text-align: right;\">0.325555</td></tr>\n",
       "<tr><td>Yes      </td><td style=\"text-align: right;\">0.416859</td><td style=\"text-align: right;\">0.583141</td></tr>\n",
       "<tr><td>Yes      </td><td style=\"text-align: right;\">0.668154</td><td style=\"text-align: right;\">0.331846</td></tr>\n",
       "<tr><td>Yes      </td><td style=\"text-align: right;\">0.716854</td><td style=\"text-align: right;\">0.283146</td></tr>\n",
       "<tr><td>Yes      </td><td style=\"text-align: right;\">0.453882</td><td style=\"text-align: right;\">0.546118</td></tr>\n",
       "<tr><td>Yes      </td><td style=\"text-align: right;\">0.750083</td><td style=\"text-align: right;\">0.249917</td></tr>\n",
       "<tr><td>No       </td><td style=\"text-align: right;\">0.828114</td><td style=\"text-align: right;\">0.171886</td></tr>\n",
       "<tr><td>No       </td><td style=\"text-align: right;\">0.844825</td><td style=\"text-align: right;\">0.155175</td></tr>\n",
       "<tr><td>Yes      </td><td style=\"text-align: right;\">0.644928</td><td style=\"text-align: right;\">0.355072</td></tr>\n",
       "</tbody>\n",
       "</table>"
      ]
     },
     "metadata": {},
     "output_type": "display_data"
    },
    {
     "data": {
      "text/plain": []
     },
     "execution_count": 66,
     "metadata": {},
     "output_type": "execute_result"
    }
   ],
   "source": [
    "pred = aml2.predict(data_test)\n",
    "pred.head()"
   ]
  },
  {
   "cell_type": "code",
   "execution_count": 67,
   "metadata": {},
   "outputs": [
    {
     "name": "stdout",
     "output_type": "stream",
     "text": [
      "stackedensemble prediction progress: |████████████████████████████████████| 100%\n"
     ]
    },
    {
     "data": {
      "text/html": [
       "<table>\n",
       "<thead>\n",
       "<tr><th>predict  </th><th style=\"text-align: right;\">      No</th><th style=\"text-align: right;\">     Yes</th></tr>\n",
       "</thead>\n",
       "<tbody>\n",
       "<tr><td>Yes      </td><td style=\"text-align: right;\">0.711709</td><td style=\"text-align: right;\">0.288291</td></tr>\n",
       "<tr><td>Yes      </td><td style=\"text-align: right;\">0.717523</td><td style=\"text-align: right;\">0.282477</td></tr>\n",
       "<tr><td>Yes      </td><td style=\"text-align: right;\">0.65144 </td><td style=\"text-align: right;\">0.34856 </td></tr>\n",
       "<tr><td>No       </td><td style=\"text-align: right;\">0.805223</td><td style=\"text-align: right;\">0.194777</td></tr>\n",
       "<tr><td>Yes      </td><td style=\"text-align: right;\">0.39945 </td><td style=\"text-align: right;\">0.60055 </td></tr>\n",
       "<tr><td>Yes      </td><td style=\"text-align: right;\">0.417207</td><td style=\"text-align: right;\">0.582793</td></tr>\n",
       "<tr><td>No       </td><td style=\"text-align: right;\">0.785887</td><td style=\"text-align: right;\">0.214113</td></tr>\n",
       "<tr><td>Yes      </td><td style=\"text-align: right;\">0.514757</td><td style=\"text-align: right;\">0.485243</td></tr>\n",
       "<tr><td>No       </td><td style=\"text-align: right;\">0.849499</td><td style=\"text-align: right;\">0.150501</td></tr>\n",
       "<tr><td>Yes      </td><td style=\"text-align: right;\">0.725263</td><td style=\"text-align: right;\">0.274737</td></tr>\n",
       "</tbody>\n",
       "</table>"
      ]
     },
     "metadata": {},
     "output_type": "display_data"
    },
    {
     "data": {
      "text/plain": []
     },
     "execution_count": 67,
     "metadata": {},
     "output_type": "execute_result"
    }
   ],
   "source": [
    "pred = aml3.predict(data_test)\n",
    "pred.head()"
   ]
  },
  {
   "cell_type": "code",
   "execution_count": 50,
   "metadata": {},
   "outputs": [
    {
     "name": "stdout",
     "output_type": "stream",
     "text": [
      "H2O session _sid_a4ef closed.\n"
     ]
    }
   ],
   "source": [
    "h2o.cluster().shutdown()"
   ]
  },
  {
   "cell_type": "code",
   "execution_count": 4,
   "metadata": {},
   "outputs": [
    {
     "data": {
      "image/png": "[encoded data removed]",
      "text/plain": [
       "<matplotlib.figure.Figure at 0x2afb5605748>"
      ]
     },
     "metadata": {},
     "output_type": "display_data"
    }
   ],
   "source": [
    "import pandas as pd\n",
    "from sklearn.ensemble import GradientBoostingRegressor, GradientBoostingClassifier\n",
    "from sklearn.ensemble.partial_dependence import partial_dependence, plot_partial_dependence\n",
    "from sklearn.preprocessing import Imputer\n",
    "\n",
    "cols_to_use = [\n",
    " 'Age',\n",
    " 'Scholarship',\n",
    " 'Hypertension',\n",
    " 'Diabetes',\n",
    " 'Alcoholism',\n",
    " 'Handicap',\n",
    " 'SMS_received',\n",
    " 'ScheduledMonth',\n",
    " 'AppointmentMonth',\n",
    " 'Time']\n",
    "\n",
    "def get_some_data():\n",
    "   data = pd.read_csv('noshow_revised.csv')\n",
    "   y = data.NoShow\n",
    "   X = data[cols_to_use]\n",
    "   my_imputer = Imputer()\n",
    "   imputed_X = my_imputer.fit_transform(X)\n",
    "   return imputed_X, y\n",
    "\n",
    "\n",
    "X, y = get_some_data()\n",
    "my_model = GradientBoostingClassifier()\n",
    "my_model.fit(X, y)\n",
    "my_plots = plot_partial_dependence(my_model,\n",
    "                                  features=[0,2],\n",
    "                                  X=X,\n",
    "                                  feature_names=cols_to_use,\n",
    "                                  grid_resolution=10)"
   ]
  },
  {
   "cell_type": "code",
   "execution_count": 4,
   "metadata": {},
   "outputs": [],
   "source": [
    "import pandas as pd\n",
    "from sklearn.model_selection import train_test_split, cross_val_score\n",
    "from sklearn.feature_selection import RFE\n",
    "from sklearn import cross_validation, metrics   \n",
    "\n",
    "\n",
    "df = pd.read_csv('noshow_revised.csv')\n",
    "\n",
    "df['NoShow'].replace('No', '0',inplace=True)\n",
    "df['NoShow'].replace('Yes', '1',inplace=True)\n",
    "df['Gender'].replace('F', '0',inplace=True)\n",
    "df['Gender'].replace('M', '1',inplace=True)\n",
    "\n",
    "X = df.drop(['NoShow','Neighborhood','ScheduledDay','AppointmentDay'],axis=1)\n",
    "y = df['NoShow']\n",
    "\n",
    "X_train, X_test, y_train, y_test = train_test_split(X, y, test_size=0.25, random_state=42) "
   ]
  },
  {
   "cell_type": "code",
   "execution_count": 5,
   "metadata": {},
   "outputs": [
    {
     "data": {
      "text/html": [
       "<div>\n",
       "<style scoped>\n",
       "    .dataframe tbody tr th:only-of-type {\n",
       "        vertical-align: middle;\n",
       "    }\n",
       "\n",
       "    .dataframe tbody tr th {\n",
       "        vertical-align: top;\n",
       "    }\n",
       "\n",
       "    .dataframe thead th {\n",
       "        text-align: right;\n",
       "    }\n",
       "</style>\n",
       "<table border=\"1\" class=\"dataframe\">\n",
       "  <thead>\n",
       "    <tr style=\"text-align: right;\">\n",
       "      <th></th>\n",
       "      <th>Unnamed: 0</th>\n",
       "      <th>PatientID</th>\n",
       "      <th>AppointmentID</th>\n",
       "      <th>Gender</th>\n",
       "      <th>ScheduledDay</th>\n",
       "      <th>AppointmentDay</th>\n",
       "      <th>Age</th>\n",
       "      <th>Neighborhood</th>\n",
       "      <th>Scholarship</th>\n",
       "      <th>Hypertension</th>\n",
       "      <th>Diabetes</th>\n",
       "      <th>Alcoholism</th>\n",
       "      <th>Handicap</th>\n",
       "      <th>SMS_received</th>\n",
       "      <th>NoShow</th>\n",
       "      <th>ScheduledMonth</th>\n",
       "      <th>AppointmentMonth</th>\n",
       "      <th>Time</th>\n",
       "    </tr>\n",
       "  </thead>\n",
       "  <tbody>\n",
       "    <tr>\n",
       "      <th>0</th>\n",
       "      <td>5</td>\n",
       "      <td>9.598513e+13</td>\n",
       "      <td>5626772</td>\n",
       "      <td>0</td>\n",
       "      <td>2016-04-27 08:36:51</td>\n",
       "      <td>2016-04-29 00:00:00</td>\n",
       "      <td>76</td>\n",
       "      <td>REPÚBLICA</td>\n",
       "      <td>0</td>\n",
       "      <td>1</td>\n",
       "      <td>0</td>\n",
       "      <td>0</td>\n",
       "      <td>0</td>\n",
       "      <td>0</td>\n",
       "      <td>0</td>\n",
       "      <td>4</td>\n",
       "      <td>4</td>\n",
       "      <td>1.0</td>\n",
       "    </tr>\n",
       "    <tr>\n",
       "      <th>1</th>\n",
       "      <td>6</td>\n",
       "      <td>7.336882e+14</td>\n",
       "      <td>5630279</td>\n",
       "      <td>0</td>\n",
       "      <td>2016-04-27 15:05:12</td>\n",
       "      <td>2016-04-29 00:00:00</td>\n",
       "      <td>23</td>\n",
       "      <td>GOIABEIRAS</td>\n",
       "      <td>0</td>\n",
       "      <td>0</td>\n",
       "      <td>0</td>\n",
       "      <td>0</td>\n",
       "      <td>0</td>\n",
       "      <td>0</td>\n",
       "      <td>1</td>\n",
       "      <td>4</td>\n",
       "      <td>4</td>\n",
       "      <td>1.0</td>\n",
       "    </tr>\n",
       "    <tr>\n",
       "      <th>2</th>\n",
       "      <td>7</td>\n",
       "      <td>3.449833e+12</td>\n",
       "      <td>5630575</td>\n",
       "      <td>0</td>\n",
       "      <td>2016-04-27 15:39:58</td>\n",
       "      <td>2016-04-29 00:00:00</td>\n",
       "      <td>39</td>\n",
       "      <td>GOIABEIRAS</td>\n",
       "      <td>0</td>\n",
       "      <td>0</td>\n",
       "      <td>0</td>\n",
       "      <td>0</td>\n",
       "      <td>0</td>\n",
       "      <td>0</td>\n",
       "      <td>1</td>\n",
       "      <td>4</td>\n",
       "      <td>4</td>\n",
       "      <td>1.0</td>\n",
       "    </tr>\n",
       "    <tr>\n",
       "      <th>3</th>\n",
       "      <td>9</td>\n",
       "      <td>7.812456e+13</td>\n",
       "      <td>5629123</td>\n",
       "      <td>0</td>\n",
       "      <td>2016-04-27 12:48:25</td>\n",
       "      <td>2016-04-29 00:00:00</td>\n",
       "      <td>19</td>\n",
       "      <td>CONQUISTA</td>\n",
       "      <td>0</td>\n",
       "      <td>0</td>\n",
       "      <td>0</td>\n",
       "      <td>0</td>\n",
       "      <td>0</td>\n",
       "      <td>0</td>\n",
       "      <td>0</td>\n",
       "      <td>4</td>\n",
       "      <td>4</td>\n",
       "      <td>1.0</td>\n",
       "    </tr>\n",
       "    <tr>\n",
       "      <th>4</th>\n",
       "      <td>10</td>\n",
       "      <td>7.345362e+14</td>\n",
       "      <td>5630213</td>\n",
       "      <td>0</td>\n",
       "      <td>2016-04-27 14:58:11</td>\n",
       "      <td>2016-04-29 00:00:00</td>\n",
       "      <td>30</td>\n",
       "      <td>NOVA PALESTINA</td>\n",
       "      <td>0</td>\n",
       "      <td>0</td>\n",
       "      <td>0</td>\n",
       "      <td>0</td>\n",
       "      <td>0</td>\n",
       "      <td>0</td>\n",
       "      <td>0</td>\n",
       "      <td>4</td>\n",
       "      <td>4</td>\n",
       "      <td>1.0</td>\n",
       "    </tr>\n",
       "  </tbody>\n",
       "</table>\n",
       "</div>"
      ],
      "text/plain": [
       "   Unnamed: 0     PatientID  AppointmentID Gender         ScheduledDay  \\\n",
       "0           5  9.598513e+13        5626772      0  2016-04-27 08:36:51   \n",
       "1           6  7.336882e+14        5630279      0  2016-04-27 15:05:12   \n",
       "2           7  3.449833e+12        5630575      0  2016-04-27 15:39:58   \n",
       "3           9  7.812456e+13        5629123      0  2016-04-27 12:48:25   \n",
       "4          10  7.345362e+14        5630213      0  2016-04-27 14:58:11   \n",
       "\n",
       "        AppointmentDay  Age    Neighborhood  Scholarship  Hypertension  \\\n",
       "0  2016-04-29 00:00:00   76       REPÚBLICA            0             1   \n",
       "1  2016-04-29 00:00:00   23      GOIABEIRAS            0             0   \n",
       "2  2016-04-29 00:00:00   39      GOIABEIRAS            0             0   \n",
       "3  2016-04-29 00:00:00   19       CONQUISTA            0             0   \n",
       "4  2016-04-29 00:00:00   30  NOVA PALESTINA            0             0   \n",
       "\n",
       "   Diabetes  Alcoholism  Handicap  SMS_received NoShow  ScheduledMonth  \\\n",
       "0         0           0         0             0      0               4   \n",
       "1         0           0         0             0      1               4   \n",
       "2         0           0         0             0      1               4   \n",
       "3         0           0         0             0      0               4   \n",
       "4         0           0         0             0      0               4   \n",
       "\n",
       "   AppointmentMonth  Time  \n",
       "0                 4   1.0  \n",
       "1                 4   1.0  \n",
       "2                 4   1.0  \n",
       "3                 4   1.0  \n",
       "4                 4   1.0  "
      ]
     },
     "execution_count": 5,
     "metadata": {},
     "output_type": "execute_result"
    }
   ],
   "source": [
    "df.head()"
   ]
  },
  {
   "cell_type": "code",
   "execution_count": 8,
   "metadata": {},
   "outputs": [],
   "source": [
    "from sklearn.ensemble import RandomForestClassifier\n",
    "rf1 = RandomForestClassifier(n_jobs=-1, class_weight='balanced', max_depth=5)"
   ]
  },
  {
   "cell_type": "code",
   "execution_count": 10,
   "metadata": {
    "scrolled": true
   },
   "outputs": [
    {
     "data": {
      "text/plain": [
       "RandomForestClassifier(bootstrap=True, class_weight='balanced',\n",
       "            criterion='gini', max_depth=5, max_features='auto',\n",
       "            max_leaf_nodes=None, min_impurity_decrease=0.0,\n",
       "            min_impurity_split=None, min_samples_leaf=1,\n",
       "            min_samples_split=2, min_weight_fraction_leaf=0.0,\n",
       "            n_estimators=10, n_jobs=-1, oob_score=False, random_state=None,\n",
       "            verbose=0, warm_start=False)"
      ]
     },
     "execution_count": 10,
     "metadata": {},
     "output_type": "execute_result"
    }
   ],
   "source": [
    "rf1.fit(X_train, y_train)"
   ]
  },
  {
   "cell_type": "code",
   "execution_count": 19,
   "metadata": {},
   "outputs": [],
   "source": [
    "imp=rf1.feature_importances_\n",
    "imp\n",
    "features=X.columns"
   ]
  },
  {
   "cell_type": "code",
   "execution_count": 20,
   "metadata": {},
   "outputs": [
    {
     "data": {
      "image/png": "[encoded data removed]",
      "text/plain": [
       "<matplotlib.figure.Figure at 0x1c309451f60>"
      ]
     },
     "metadata": {},
     "output_type": "display_data"
    }
   ],
   "source": [
    "import matplotlib.pyplot as plt\n",
    "import numpy as np\n",
    "indices = np.argsort(imp)\n",
    "\n",
    "plt.title('Feature Importances')\n",
    "plt.barh(range(len(indices)), imp[indices], color='b', align='center')\n",
    "plt.yticks(range(len(indices)), [features[i] for i in indices])\n",
    "plt.xlabel('Relative Importance')\n",
    "plt.show()"
   ]
  },
  {
   "cell_type": "code",
   "execution_count": 29,
   "metadata": {},
   "outputs": [],
   "source": [
    "from h2o.estimators.random_forest import H2ORandomForestEstimator\n",
    "drf_default = H2ORandomForestEstimator(model_id = 'drf_default',seed =1234)"
   ]
  },
  {
   "cell_type": "code",
   "execution_count": 30,
   "metadata": {},
   "outputs": [
    {
     "name": "stdout",
     "output_type": "stream",
     "text": [
      "drf Model Build progress: |███████████████████████████████████████████████| 100%\n"
     ]
    }
   ],
   "source": [
    "data_split = data.split_frame(ratios = [0.9], seed = 1234)\n",
    "\n",
    "data_train = data_split[0] # using 90% for training\n",
    "data_test = data_split[1]\n",
    "drf_default.train(x= features, y= 'NoShow', training_frame= data_train)"
   ]
  },
  {
   "cell_type": "code",
   "execution_count": 31,
   "metadata": {},
   "outputs": [
    {
     "data": {
      "image/png": "[encoded data removed]",
      "text/plain": [
       "<matplotlib.figure.Figure at 0x1c309bc9e80>"
      ]
     },
     "metadata": {},
     "output_type": "display_data"
    }
   ],
   "source": [
    "drf_default.varimp_plot()"
   ]
  },
  {
   "cell_type": "code",
   "execution_count": 32,
   "metadata": {},
   "outputs": [],
   "source": [
    "from h2o.estimators.gbm import H2OGradientBoostingEstimator\n",
    "gbm_default = H2OGradientBoostingEstimator(model_id = 'gbm_default',seed =1234)"
   ]
  },
  {
   "cell_type": "code",
   "execution_count": 33,
   "metadata": {},
   "outputs": [
    {
     "name": "stdout",
     "output_type": "stream",
     "text": [
      "gbm Model Build progress: |███████████████████████████████████████████████| 100%\n"
     ]
    }
   ],
   "source": [
    "gbm_default.train(x= features, y= 'NoShow', training_frame= data_train)"
   ]
  },
  {
   "cell_type": "code",
   "execution_count": 34,
   "metadata": {},
   "outputs": [
    {
     "data": {
      "image/png": "[encoded data removed]",
      "text/plain": [
       "<matplotlib.figure.Figure at 0x1c309bc9128>"
      ]
     },
     "metadata": {},
     "output_type": "display_data"
    }
   ],
   "source": [
    "gbm_default.varimp_plot()"
   ]
  },
  {
   "cell_type": "code",
   "execution_count": 35,
   "metadata": {},
   "outputs": [],
   "source": [
    "from h2o.estimators.deeplearning import H2ODeepLearningEstimator\n",
    "dnn_default = H2ODeepLearningEstimator(model_id='dnn_default', seed =1234)"
   ]
  },
  {
   "cell_type": "code",
   "execution_count": 37,
   "metadata": {},
   "outputs": [
    {
     "name": "stdout",
     "output_type": "stream",
     "text": [
      "deeplearning Model Build progress: |██████████████████████████████████████| 100%\n"
     ]
    }
   ],
   "source": [
    "dnn_default.train(x= features, y= 'NoShow', training_frame= data_train)"
   ]
  },
  {
   "cell_type": "code",
   "execution_count": 38,
   "metadata": {},
   "outputs": [
    {
     "data": {
      "image/png": "[encoded data removed]",
      "text/plain": [
       "<matplotlib.figure.Figure at 0x1c3052b2358>"
      ]
     },
     "metadata": {},
     "output_type": "display_data"
    }
   ],
   "source": [
    "dnn_default.varimp_plot()"
   ]
  },
  {
   "cell_type": "code",
   "execution_count": 51,
   "metadata": {},
   "outputs": [
    {
     "name": "stderr",
     "output_type": "stream",
     "text": [
      "C:\\Users\\shlok\\anaconda3\\lib\\site-packages\\pandas_profiling\\plot.py:15: UserWarning: \n",
      "This call to matplotlib.use() has no effect because the backend has already\n",
      "been chosen; matplotlib.use() must be called *before* pylab, matplotlib.pyplot,\n",
      "or matplotlib.backends is imported for the first time.\n",
      "\n",
      "The backend was *originally* set to 'module://ipykernel.pylab.backend_inline' by the following code:\n",
      "  File \"C:\\Users\\shlok\\anaconda3\\lib\\runpy.py\", line 193, in _run_module_as_main\n",
      "    \"__main__\", mod_spec)\n",
      "  File \"C:\\Users\\shlok\\anaconda3\\lib\\runpy.py\", line 85, in _run_code\n",
      "    exec(code, run_globals)\n",
      "  File \"C:\\Users\\shlok\\anaconda3\\lib\\site-packages\\ipykernel_launcher.py\", line 16, in <module>\n",
      "    app.launch_new_instance()\n",
      "  File \"C:\\Users\\shlok\\anaconda3\\lib\\site-packages\\traitlets\\config\\application.py\", line 658, in launch_instance\n",
      "    app.start()\n",
      "  File \"C:\\Users\\shlok\\anaconda3\\lib\\site-packages\\ipykernel\\kernelapp.py\", line 478, in start\n",
      "    self.io_loop.start()\n",
      "  File \"C:\\Users\\shlok\\anaconda3\\lib\\site-packages\\zmq\\eventloop\\ioloop.py\", line 177, in start\n",
      "    super(ZMQIOLoop, self).start()\n",
      "  File \"C:\\Users\\shlok\\anaconda3\\lib\\site-packages\\tornado\\ioloop.py\", line 888, in start\n",
      "    handler_func(fd_obj, events)\n",
      "  File \"C:\\Users\\shlok\\anaconda3\\lib\\site-packages\\tornado\\stack_context.py\", line 277, in null_wrapper\n",
      "    return fn(*args, **kwargs)\n",
      "  File \"C:\\Users\\shlok\\anaconda3\\lib\\site-packages\\zmq\\eventloop\\zmqstream.py\", line 440, in _handle_events\n",
      "    self._handle_recv()\n",
      "  File \"C:\\Users\\shlok\\anaconda3\\lib\\site-packages\\zmq\\eventloop\\zmqstream.py\", line 472, in _handle_recv\n",
      "    self._run_callback(callback, msg)\n",
      "  File \"C:\\Users\\shlok\\anaconda3\\lib\\site-packages\\zmq\\eventloop\\zmqstream.py\", line 414, in _run_callback\n",
      "    callback(*args, **kwargs)\n",
      "  File \"C:\\Users\\shlok\\anaconda3\\lib\\site-packages\\tornado\\stack_context.py\", line 277, in null_wrapper\n",
      "    return fn(*args, **kwargs)\n",
      "  File \"C:\\Users\\shlok\\anaconda3\\lib\\site-packages\\ipykernel\\kernelbase.py\", line 283, in dispatcher\n",
      "    return self.dispatch_shell(stream, msg)\n",
      "  File \"C:\\Users\\shlok\\anaconda3\\lib\\site-packages\\ipykernel\\kernelbase.py\", line 233, in dispatch_shell\n",
      "    handler(stream, idents, msg)\n",
      "  File \"C:\\Users\\shlok\\anaconda3\\lib\\site-packages\\ipykernel\\kernelbase.py\", line 399, in execute_request\n",
      "    user_expressions, allow_stdin)\n",
      "  File \"C:\\Users\\shlok\\anaconda3\\lib\\site-packages\\ipykernel\\ipkernel.py\", line 208, in do_execute\n",
      "    res = shell.run_cell(code, store_history=store_history, silent=silent)\n",
      "  File \"C:\\Users\\shlok\\anaconda3\\lib\\site-packages\\ipykernel\\zmqshell.py\", line 537, in run_cell\n",
      "    return super(ZMQInteractiveShell, self).run_cell(*args, **kwargs)\n",
      "  File \"C:\\Users\\shlok\\anaconda3\\lib\\site-packages\\IPython\\core\\interactiveshell.py\", line 2739, in run_cell\n",
      "    self.events.trigger('post_run_cell')\n",
      "  File \"C:\\Users\\shlok\\anaconda3\\lib\\site-packages\\IPython\\core\\events.py\", line 73, in trigger\n",
      "    func(*args, **kwargs)\n",
      "  File \"C:\\Users\\shlok\\anaconda3\\lib\\site-packages\\ipykernel\\pylab\\backend_inline.py\", line 160, in configure_once\n",
      "    activate_matplotlib(backend)\n",
      "  File \"C:\\Users\\shlok\\anaconda3\\lib\\site-packages\\IPython\\core\\pylabtools.py\", line 308, in activate_matplotlib\n",
      "    matplotlib.pyplot.switch_backend(backend)\n",
      "  File \"C:\\Users\\shlok\\anaconda3\\lib\\site-packages\\matplotlib\\pyplot.py\", line 232, in switch_backend\n",
      "    matplotlib.use(newbackend, warn=False, force=True)\n",
      "  File \"C:\\Users\\shlok\\anaconda3\\lib\\site-packages\\matplotlib\\__init__.py\", line 1305, in use\n",
      "    reload(sys.modules['matplotlib.backends'])\n",
      "  File \"C:\\Users\\shlok\\anaconda3\\lib\\importlib\\__init__.py\", line 166, in reload\n",
      "    _bootstrap._exec(spec, module)\n",
      "  File \"C:\\Users\\shlok\\anaconda3\\lib\\site-packages\\matplotlib\\backends\\__init__.py\", line 14, in <module>\n",
      "    line for line in traceback.format_stack()\n",
      "\n",
      "\n",
      "  matplotlib.use(BACKEND)\n"
     ]
    },
    {
     "data": {
      "text/html": [
       "<script>requirejs.config({paths: { 'plotly': ['https://cdn.plot.ly/plotly-latest.min']},});if(!window.Plotly) {{require(['plotly'],function(plotly) {window.Plotly=plotly;});}}</script>"
      ],
      "text/vnd.plotly.v1+html": [
       "<script>requirejs.config({paths: { 'plotly': ['https://cdn.plot.ly/plotly-latest.min']},});if(!window.Plotly) {{require(['plotly'],function(plotly) {window.Plotly=plotly;});}}</script>"
      ]
     },
     "metadata": {},
     "output_type": "display_data"
    }
   ],
   "source": [
    "import pandas as pd\n",
    "import numpy as np\n",
    "import seaborn as sns\n",
    "import matplotlib as mpl\n",
    "import pandas_profiling\n",
    "import matplotlib.pyplot as plt\n",
    "import plotly\n",
    "plotly.offline.init_notebook_mode(connected=True)\n",
    "import plotly.offline as py\n",
    "import plotly.graph_objs as go\n",
    "mpl.rcParams['patch.force_edgecolor'] = True\n",
    "%matplotlib inline\n",
    "%config InlineBackend.figure_format='retina'"
   ]
  },
  {
   "cell_type": "code",
   "execution_count": 53,
   "metadata": {},
   "outputs": [],
   "source": [
    "df= pd.read_csv('noshow_revised.csv')"
   ]
  },
  {
   "cell_type": "code",
   "execution_count": 54,
   "metadata": {},
   "outputs": [
    {
     "name": "stdout",
     "output_type": "stream",
     "text": [
      "0   2016-04-27 08:36:51\n",
      "1   2016-04-27 15:05:12\n",
      "2   2016-04-27 15:39:58\n",
      "3   2016-04-27 12:48:25\n",
      "4   2016-04-27 14:58:11\n",
      "Name: ScheduledDay, dtype: datetime64[ns]\n",
      "0   2016-04-29\n",
      "1   2016-04-29\n",
      "2   2016-04-29\n",
      "3   2016-04-29\n",
      "4   2016-04-29\n",
      "Name: AppointmentDay, dtype: datetime64[ns]\n"
     ]
    }
   ],
   "source": [
    "df.ScheduledDay = df.ScheduledDay.apply(np.datetime64)\n",
    "df.AppointmentDay = df.AppointmentDay.apply(np.datetime64)\n",
    "\n",
    "print(df.ScheduledDay.head())\n",
    "print(df.AppointmentDay.head())\n"
   ]
  },
  {
   "cell_type": "code",
   "execution_count": 55,
   "metadata": {},
   "outputs": [
    {
     "name": "stdout",
     "output_type": "stream",
     "text": [
      "Number of listed PatientID:\t71954\n",
      "Number of unique PatientId:\t45837\n",
      "Number of unique AppointmentID:\t71954\n"
     ]
    }
   ],
   "source": [
    "print(\"Number of listed PatientID:\\t%s\" %df.shape[0])\n",
    "print(\"Number of unique PatientId:\\t%s\" %len(df.PatientID.unique()))\n",
    "print(\"Number of unique AppointmentID:\\t%s\" %len(df.AppointmentID.unique()))"
   ]
  },
  {
   "cell_type": "code",
   "execution_count": 56,
   "metadata": {},
   "outputs": [
    {
     "name": "stdout",
     "output_type": "stream",
     "text": [
      "Age:\t[0, 1, 2, 3, 4, 5, 6, 7, 8, 9, 10, 11, 12, 13, 14, 15, 16, 17, 18, 19, 20, 21, 22, 23, 24, 25, 26, 27, 28, 29, 30, 31, 32, 33, 34, 35, 36, 37, 38, 39, 40, 41, 42, 43, 44, 45, 46, 47, 48, 49, 50, 51, 52, 53, 54, 55, 56, 57, 58, 59, 60, 61, 62, 63, 64, 65, 66, 67, 68, 69, 70, 71, 72, 73, 74, 75, 76, 77, 78, 79, 80, 81, 82, 83, 84, 85, 86, 87, 88, 89, 90, 91, 92, 93, 94, 95, 96, 97, 98, 100]\n",
      "\n",
      "Gender:\t['F' 'M']\n",
      "\n",
      "Number of neighborhoods:\t80\n",
      "Neighborhood:\t['AEROPORTO', 'ANDORINHAS', 'ANTÔNIO HONÓRIO', 'ARIOVALDO FAVALESSA', 'BARRO VERMELHO', 'BELA VISTA', 'BENTO FERREIRA', 'BOA VISTA', 'BONFIM', 'CARATOÍRA', 'CENTRO', 'COMDUSA', 'CONQUISTA', 'CONSOLAÇÃO', 'CRUZAMENTO', 'DA PENHA', 'DE LOURDES', 'DO CABRAL', 'DO MOSCOSO', 'DO QUADRO', 'ENSEADA DO SUÁ', 'ESTRELINHA', 'FONTE GRANDE', 'FORTE SÃO JOÃO', 'FRADINHOS', 'GOIABEIRAS', 'GRANDE VITÓRIA', 'GURIGICA', 'HORTO', 'ILHA DAS CAIEIRAS', 'ILHA DE SANTA MARIA', 'ILHA DO BOI', 'ILHA DO FRADE', 'ILHA DO PRÍNCIPE', 'ILHAS OCEÂNICAS DE TRINDADE', 'INHANGUETÁ', 'ITARARÉ', 'JABOUR', 'JARDIM CAMBURI', 'JARDIM DA PENHA', 'JESUS DE NAZARETH', 'JOANA D´ARC', 'JUCUTUQUARA', 'MARIA ORTIZ', 'MARUÍPE', 'MATA DA PRAIA', 'MONTE BELO', 'MORADA DE CAMBURI', 'MÁRIO CYPRESTE', 'NAZARETH', 'NOVA PALESTINA', 'PARQUE MOSCOSO', 'PIEDADE', 'PONTAL DE CAMBURI', 'PRAIA DO CANTO', 'PRAIA DO SUÁ', 'REDENÇÃO', 'REPÚBLICA', 'RESISTÊNCIA', 'ROMÃO', 'SANTA CECÍLIA', 'SANTA CLARA', 'SANTA HELENA', 'SANTA LUÍZA', 'SANTA LÚCIA', 'SANTA MARTHA', 'SANTA TEREZA', 'SANTO ANDRÉ', 'SANTO ANTÔNIO', 'SANTOS DUMONT', 'SANTOS REIS', 'SEGURANÇA DO LAR', 'SOLON BORGES', 'SÃO BENEDITO', 'SÃO CRISTÓVÃO', 'SÃO JOSÉ', 'SÃO PEDRO', 'TABUAZEIRO', 'UNIVERSITÁRIO', 'VILA RUBIM']\n",
      "\n",
      "Scholarship:\t[0 1]\n",
      "Hypertension:\t[1 0]\n",
      "Diabetes:\t[0 1]\n",
      "Alchoholism:\t[0 1]\n",
      "Handicap:\t[0 1 2 3 4]\n",
      "SMS_received:\t[0 1]\n",
      "NoShow:\t['No' 'Yes']\n"
     ]
    }
   ],
   "source": [
    "# View range of variables / unique values\n",
    "print('Age:\\t%s'%sorted(df.Age.unique()))\n",
    "print()\n",
    "print('Gender:\\t%s' %df.Gender.unique())\n",
    "print()\n",
    "print('Number of neighborhoods:\\t%s' %df.Neighborhood.nunique())\n",
    "print('Neighborhood:\\t%s' %sorted(df.Neighborhood.unique()))\n",
    "print()\n",
    "print('Scholarship:\\t%s' %df.Scholarship.unique())\n",
    "print('Hypertension:\\t%s' %df.Hypertension.unique())\n",
    "print('Diabetes:\\t%s' %df.Diabetes.unique())\n",
    "print('Alchoholism:\\t%s' %df.Alcoholism.unique())\n",
    "print('Handicap:\\t%s' %df.Handicap.unique())\n",
    "print('SMS_received:\\t%s' %df.SMS_received.unique())\n",
    "print('NoShow:\\t%s' %df.NoShow.unique())"
   ]
  },
  {
   "cell_type": "code",
   "execution_count": 57,
   "metadata": {},
   "outputs": [
    {
     "data": {
      "image/png": "[encoded data removed]",
      "text/plain": [
       "<matplotlib.figure.Figure at 0x1c304864a58>"
      ]
     },
     "metadata": {
      "image/png": {
       "height": 239,
       "width": 390
      }
     },
     "output_type": "display_data"
    }
   ],
   "source": [
    "sns.stripplot(data = df, y = 'Age', jitter = True)\n",
    "plt.ylim(0, 125)\n",
    "plt.show()"
   ]
  },
  {
   "cell_type": "code",
   "execution_count": 58,
   "metadata": {},
   "outputs": [],
   "source": [
    "# Drop impossible/outlier ages\n",
    "df.drop(df[(df.Age < 0) | (df.Age > 100)].index, inplace = True)"
   ]
  },
  {
   "cell_type": "code",
   "execution_count": 59,
   "metadata": {},
   "outputs": [
    {
     "data": {
      "image/png": "[encoded data removed]",
      "text/plain": [
       "<matplotlib.figure.Figure at 0x1c30486e7f0>"
      ]
     },
     "metadata": {
      "image/png": {
       "height": 241,
       "width": 390
      }
     },
     "output_type": "display_data"
    }
   ],
   "source": [
    "sns.stripplot(data = df, y = 'Time', jitter = True)\n",
    "plt.ylim(0, 200)\n",
    "plt.show()"
   ]
  },
  {
   "cell_type": "markdown",
   "metadata": {},
   "source": [
    "Time is the number of days after the appointment is scheduled"
   ]
  },
  {
   "cell_type": "code",
   "execution_count": 60,
   "metadata": {},
   "outputs": [
    {
     "name": "stdout",
     "output_type": "stream",
     "text": [
      "Mean number of appointments per patient:\t1.4933350786482535\n",
      "Median number of appointments per patient:\t1.0\n"
     ]
    },
    {
     "data": {
      "text/plain": [
       "<function matplotlib.pyplot.show>"
      ]
     },
     "execution_count": 60,
     "metadata": {},
     "output_type": "execute_result"
    },
    {
     "data": {
      "image/png": "[encoded data removed]",
      "text/plain": [
       "<matplotlib.figure.Figure at 0x1c304b7feb8>"
      ]
     },
     "metadata": {
      "image/png": {
       "height": 263,
       "width": 390
      }
     },
     "output_type": "display_data"
    }
   ],
   "source": [
    "# Histogram of number of appointments per patient\n",
    "x = df.groupby('PatientID')['AppointmentDay'].nunique()\n",
    "print('Mean number of appointments per patient:\\t%s' %np.mean(x))\n",
    "print('Median number of appointments per patient:\\t%s' %np.median(x))\n",
    "\n",
    "plt.figure(1)\n",
    "plt.hist(x, bins = x.nunique())\n",
    "plt.title(\"Number of Appointments per patient\")\n",
    "plt.show"
   ]
  },
  {
   "cell_type": "code",
   "execution_count": 61,
   "metadata": {},
   "outputs": [
    {
     "data": {
      "image/png": "[encoded data removed]",
      "text/plain": [
       "<matplotlib.figure.Figure at 0x1c304b552e8>"
      ]
     },
     "metadata": {
      "image/png": {
       "height": 250,
       "width": 390
      }
     },
     "output_type": "display_data"
    }
   ],
   "source": [
    "groups = df.groupby(['NoShow'])\n",
    "gps = groups.size()\n",
    "ax = sns.barplot(x=gps.index.tolist(), y=gps.values)\n",
    "plt.show()"
   ]
  },
  {
   "cell_type": "code",
   "execution_count": null,
   "metadata": {},
   "outputs": [],
   "source": []
  }
 ],
 "metadata": {
  "kernelspec": {
   "display_name": "Python 3",
   "language": "python",
   "name": "python3"
  },
  "language_info": {
   "codemirror_mode": {
    "name": "ipython",
    "version": 3
   },
   "file_extension": ".py",
   "mimetype": "text/x-python",
   "name": "python",
   "nbconvert_exporter": "python",
   "pygments_lexer": "ipython3",
   "version": "3.6.4"
  }
 },
 "nbformat": 4,
 "nbformat_minor": 2
}
